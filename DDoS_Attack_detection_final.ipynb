{
  "cells": [
    {
      "cell_type": "markdown",
      "metadata": {
        "id": "4DAeaxv0m81d"
      },
      "source": [
        "# Detection of Distributed Denial of Service (DDoS) Attack using Ensemble Learning and Deep Learning\n",
        ""
      ]
    },
    {
      "cell_type": "code",
      "execution_count": null,
      "metadata": {
        "colab": {
          "base_uri": "https://localhost:8080/"
        },
        "id": "XBVutm9UbFsT",
        "outputId": "fc5146ea-b955-4de6-b0ae-efc0afe8e4cd"
      },
      "outputs": [
        {
          "name": "stdout",
          "output_type": "stream",
          "text": [
            "Mounted at /content/drive\n"
          ]
        }
      ],
      "source": [
        "from google.colab import drive\n",
        "drive.mount('/content/drive')"
      ]
    },
    {
      "cell_type": "markdown",
      "metadata": {
        "id": "YO4pgYcwnL3f"
      },
      "source": [
        "## **Data Preprocessing**"
      ]
    },
    {
      "cell_type": "code",
      "execution_count": null,
      "metadata": {
        "id": "Bzcgc6zEtdGW"
      },
      "outputs": [],
      "source": [
        "import pandas as pd\n",
        "import numpy as np\n",
        "import torch\n",
        "import seaborn as sns\n",
        "import matplotlib.pyplot as plt\n",
        "from sklearn.preprocessing import MinMaxScaler\n",
        "from sklearn.preprocessing import LabelEncoder"
      ]
    },
    {
      "cell_type": "markdown",
      "metadata": {
        "id": "RSg9CNhV1XDw"
      },
      "source": [
        "# Preview of data"
      ]
    },
    {
      "cell_type": "code",
      "execution_count": null,
      "metadata": {
        "colab": {
          "base_uri": "https://localhost:8080/",
          "height": 278
        },
        "id": "cklZpsi2megq",
        "outputId": "2fc793f9-bd14-4387-e12d-805853724539"
      },
      "outputs": [
        {
          "data": {
            "text/html": [
              "<style type=\"text/css\">\n",
              "</style>\n",
              "<table id=\"T_24d84\" class=\"dataframe\">\n",
              "  <thead>\n",
              "    <tr>\n",
              "      <th class=\"blank level0\" >&nbsp;</th>\n",
              "      <th id=\"T_24d84_level0_col0\" class=\"col_heading level0 col0\" > Destination Port</th>\n",
              "      <th id=\"T_24d84_level0_col1\" class=\"col_heading level0 col1\" > Flow Duration</th>\n",
              "      <th id=\"T_24d84_level0_col2\" class=\"col_heading level0 col2\" > Total Fwd Packets</th>\n",
              "      <th id=\"T_24d84_level0_col3\" class=\"col_heading level0 col3\" > Total Backward Packets</th>\n",
              "      <th id=\"T_24d84_level0_col4\" class=\"col_heading level0 col4\" >Total Length of Fwd Packets</th>\n",
              "      <th id=\"T_24d84_level0_col5\" class=\"col_heading level0 col5\" > Total Length of Bwd Packets</th>\n",
              "      <th id=\"T_24d84_level0_col6\" class=\"col_heading level0 col6\" > Fwd Packet Length Max</th>\n",
              "      <th id=\"T_24d84_level0_col7\" class=\"col_heading level0 col7\" > Fwd Packet Length Min</th>\n",
              "      <th id=\"T_24d84_level0_col8\" class=\"col_heading level0 col8\" > Fwd Packet Length Mean</th>\n",
              "      <th id=\"T_24d84_level0_col9\" class=\"col_heading level0 col9\" > Fwd Packet Length Std</th>\n",
              "      <th id=\"T_24d84_level0_col10\" class=\"col_heading level0 col10\" >Bwd Packet Length Max</th>\n",
              "      <th id=\"T_24d84_level0_col11\" class=\"col_heading level0 col11\" > Bwd Packet Length Min</th>\n",
              "      <th id=\"T_24d84_level0_col12\" class=\"col_heading level0 col12\" > Bwd Packet Length Mean</th>\n",
              "      <th id=\"T_24d84_level0_col13\" class=\"col_heading level0 col13\" > Bwd Packet Length Std</th>\n",
              "      <th id=\"T_24d84_level0_col14\" class=\"col_heading level0 col14\" >Flow Bytes/s</th>\n",
              "      <th id=\"T_24d84_level0_col15\" class=\"col_heading level0 col15\" > Flow Packets/s</th>\n",
              "      <th id=\"T_24d84_level0_col16\" class=\"col_heading level0 col16\" > Flow IAT Mean</th>\n",
              "      <th id=\"T_24d84_level0_col17\" class=\"col_heading level0 col17\" > Flow IAT Std</th>\n",
              "      <th id=\"T_24d84_level0_col18\" class=\"col_heading level0 col18\" > Flow IAT Max</th>\n",
              "      <th id=\"T_24d84_level0_col19\" class=\"col_heading level0 col19\" > Flow IAT Min</th>\n",
              "      <th id=\"T_24d84_level0_col20\" class=\"col_heading level0 col20\" >Fwd IAT Total</th>\n",
              "      <th id=\"T_24d84_level0_col21\" class=\"col_heading level0 col21\" > Fwd IAT Mean</th>\n",
              "      <th id=\"T_24d84_level0_col22\" class=\"col_heading level0 col22\" > Fwd IAT Std</th>\n",
              "      <th id=\"T_24d84_level0_col23\" class=\"col_heading level0 col23\" > Fwd IAT Max</th>\n",
              "      <th id=\"T_24d84_level0_col24\" class=\"col_heading level0 col24\" > Fwd IAT Min</th>\n",
              "      <th id=\"T_24d84_level0_col25\" class=\"col_heading level0 col25\" >Bwd IAT Total</th>\n",
              "      <th id=\"T_24d84_level0_col26\" class=\"col_heading level0 col26\" > Bwd IAT Mean</th>\n",
              "      <th id=\"T_24d84_level0_col27\" class=\"col_heading level0 col27\" > Bwd IAT Std</th>\n",
              "      <th id=\"T_24d84_level0_col28\" class=\"col_heading level0 col28\" > Bwd IAT Max</th>\n",
              "      <th id=\"T_24d84_level0_col29\" class=\"col_heading level0 col29\" > Bwd IAT Min</th>\n",
              "      <th id=\"T_24d84_level0_col30\" class=\"col_heading level0 col30\" >Fwd PSH Flags</th>\n",
              "      <th id=\"T_24d84_level0_col31\" class=\"col_heading level0 col31\" > Bwd PSH Flags</th>\n",
              "      <th id=\"T_24d84_level0_col32\" class=\"col_heading level0 col32\" > Fwd URG Flags</th>\n",
              "      <th id=\"T_24d84_level0_col33\" class=\"col_heading level0 col33\" > Bwd URG Flags</th>\n",
              "      <th id=\"T_24d84_level0_col34\" class=\"col_heading level0 col34\" > Fwd Header Length</th>\n",
              "      <th id=\"T_24d84_level0_col35\" class=\"col_heading level0 col35\" > Bwd Header Length</th>\n",
              "      <th id=\"T_24d84_level0_col36\" class=\"col_heading level0 col36\" >Fwd Packets/s</th>\n",
              "      <th id=\"T_24d84_level0_col37\" class=\"col_heading level0 col37\" > Bwd Packets/s</th>\n",
              "      <th id=\"T_24d84_level0_col38\" class=\"col_heading level0 col38\" > Min Packet Length</th>\n",
              "      <th id=\"T_24d84_level0_col39\" class=\"col_heading level0 col39\" > Max Packet Length</th>\n",
              "      <th id=\"T_24d84_level0_col40\" class=\"col_heading level0 col40\" > Packet Length Mean</th>\n",
              "      <th id=\"T_24d84_level0_col41\" class=\"col_heading level0 col41\" > Packet Length Std</th>\n",
              "      <th id=\"T_24d84_level0_col42\" class=\"col_heading level0 col42\" > Packet Length Variance</th>\n",
              "      <th id=\"T_24d84_level0_col43\" class=\"col_heading level0 col43\" >FIN Flag Count</th>\n",
              "      <th id=\"T_24d84_level0_col44\" class=\"col_heading level0 col44\" > SYN Flag Count</th>\n",
              "      <th id=\"T_24d84_level0_col45\" class=\"col_heading level0 col45\" > RST Flag Count</th>\n",
              "      <th id=\"T_24d84_level0_col46\" class=\"col_heading level0 col46\" > PSH Flag Count</th>\n",
              "      <th id=\"T_24d84_level0_col47\" class=\"col_heading level0 col47\" > ACK Flag Count</th>\n",
              "      <th id=\"T_24d84_level0_col48\" class=\"col_heading level0 col48\" > URG Flag Count</th>\n",
              "      <th id=\"T_24d84_level0_col49\" class=\"col_heading level0 col49\" > CWE Flag Count</th>\n",
              "      <th id=\"T_24d84_level0_col50\" class=\"col_heading level0 col50\" > ECE Flag Count</th>\n",
              "      <th id=\"T_24d84_level0_col51\" class=\"col_heading level0 col51\" > Down/Up Ratio</th>\n",
              "      <th id=\"T_24d84_level0_col52\" class=\"col_heading level0 col52\" > Average Packet Size</th>\n",
              "      <th id=\"T_24d84_level0_col53\" class=\"col_heading level0 col53\" > Avg Fwd Segment Size</th>\n",
              "      <th id=\"T_24d84_level0_col54\" class=\"col_heading level0 col54\" > Avg Bwd Segment Size</th>\n",
              "      <th id=\"T_24d84_level0_col55\" class=\"col_heading level0 col55\" > Fwd Header Length.1</th>\n",
              "      <th id=\"T_24d84_level0_col56\" class=\"col_heading level0 col56\" >Fwd Avg Bytes/Bulk</th>\n",
              "      <th id=\"T_24d84_level0_col57\" class=\"col_heading level0 col57\" > Fwd Avg Packets/Bulk</th>\n",
              "      <th id=\"T_24d84_level0_col58\" class=\"col_heading level0 col58\" > Fwd Avg Bulk Rate</th>\n",
              "      <th id=\"T_24d84_level0_col59\" class=\"col_heading level0 col59\" > Bwd Avg Bytes/Bulk</th>\n",
              "      <th id=\"T_24d84_level0_col60\" class=\"col_heading level0 col60\" > Bwd Avg Packets/Bulk</th>\n",
              "      <th id=\"T_24d84_level0_col61\" class=\"col_heading level0 col61\" >Bwd Avg Bulk Rate</th>\n",
              "      <th id=\"T_24d84_level0_col62\" class=\"col_heading level0 col62\" >Subflow Fwd Packets</th>\n",
              "      <th id=\"T_24d84_level0_col63\" class=\"col_heading level0 col63\" > Subflow Fwd Bytes</th>\n",
              "      <th id=\"T_24d84_level0_col64\" class=\"col_heading level0 col64\" > Subflow Bwd Packets</th>\n",
              "      <th id=\"T_24d84_level0_col65\" class=\"col_heading level0 col65\" > Subflow Bwd Bytes</th>\n",
              "      <th id=\"T_24d84_level0_col66\" class=\"col_heading level0 col66\" >Init_Win_bytes_forward</th>\n",
              "      <th id=\"T_24d84_level0_col67\" class=\"col_heading level0 col67\" > Init_Win_bytes_backward</th>\n",
              "      <th id=\"T_24d84_level0_col68\" class=\"col_heading level0 col68\" > act_data_pkt_fwd</th>\n",
              "      <th id=\"T_24d84_level0_col69\" class=\"col_heading level0 col69\" > min_seg_size_forward</th>\n",
              "      <th id=\"T_24d84_level0_col70\" class=\"col_heading level0 col70\" >Active Mean</th>\n",
              "      <th id=\"T_24d84_level0_col71\" class=\"col_heading level0 col71\" > Active Std</th>\n",
              "      <th id=\"T_24d84_level0_col72\" class=\"col_heading level0 col72\" > Active Max</th>\n",
              "      <th id=\"T_24d84_level0_col73\" class=\"col_heading level0 col73\" > Active Min</th>\n",
              "      <th id=\"T_24d84_level0_col74\" class=\"col_heading level0 col74\" >Idle Mean</th>\n",
              "      <th id=\"T_24d84_level0_col75\" class=\"col_heading level0 col75\" > Idle Std</th>\n",
              "      <th id=\"T_24d84_level0_col76\" class=\"col_heading level0 col76\" > Idle Max</th>\n",
              "      <th id=\"T_24d84_level0_col77\" class=\"col_heading level0 col77\" > Idle Min</th>\n",
              "      <th id=\"T_24d84_level0_col78\" class=\"col_heading level0 col78\" > Label</th>\n",
              "    </tr>\n",
              "  </thead>\n",
              "  <tbody>\n",
              "    <tr>\n",
              "      <th id=\"T_24d84_level0_row0\" class=\"row_heading level0 row0\" >0</th>\n",
              "      <td id=\"T_24d84_row0_col0\" class=\"data row0 col0\" >54865</td>\n",
              "      <td id=\"T_24d84_row0_col1\" class=\"data row0 col1\" >3</td>\n",
              "      <td id=\"T_24d84_row0_col2\" class=\"data row0 col2\" >2</td>\n",
              "      <td id=\"T_24d84_row0_col3\" class=\"data row0 col3\" >0</td>\n",
              "      <td id=\"T_24d84_row0_col4\" class=\"data row0 col4\" >12</td>\n",
              "      <td id=\"T_24d84_row0_col5\" class=\"data row0 col5\" >0</td>\n",
              "      <td id=\"T_24d84_row0_col6\" class=\"data row0 col6\" >6</td>\n",
              "      <td id=\"T_24d84_row0_col7\" class=\"data row0 col7\" >6</td>\n",
              "      <td id=\"T_24d84_row0_col8\" class=\"data row0 col8\" >6.000000</td>\n",
              "      <td id=\"T_24d84_row0_col9\" class=\"data row0 col9\" >0.000000</td>\n",
              "      <td id=\"T_24d84_row0_col10\" class=\"data row0 col10\" >0</td>\n",
              "      <td id=\"T_24d84_row0_col11\" class=\"data row0 col11\" >0</td>\n",
              "      <td id=\"T_24d84_row0_col12\" class=\"data row0 col12\" >0.000000</td>\n",
              "      <td id=\"T_24d84_row0_col13\" class=\"data row0 col13\" >0.000000</td>\n",
              "      <td id=\"T_24d84_row0_col14\" class=\"data row0 col14\" >4000000.000000</td>\n",
              "      <td id=\"T_24d84_row0_col15\" class=\"data row0 col15\" >666666.666700</td>\n",
              "      <td id=\"T_24d84_row0_col16\" class=\"data row0 col16\" >3.000000</td>\n",
              "      <td id=\"T_24d84_row0_col17\" class=\"data row0 col17\" >0.000000</td>\n",
              "      <td id=\"T_24d84_row0_col18\" class=\"data row0 col18\" >3</td>\n",
              "      <td id=\"T_24d84_row0_col19\" class=\"data row0 col19\" >3</td>\n",
              "      <td id=\"T_24d84_row0_col20\" class=\"data row0 col20\" >3</td>\n",
              "      <td id=\"T_24d84_row0_col21\" class=\"data row0 col21\" >3.000000</td>\n",
              "      <td id=\"T_24d84_row0_col22\" class=\"data row0 col22\" >0.000000</td>\n",
              "      <td id=\"T_24d84_row0_col23\" class=\"data row0 col23\" >3</td>\n",
              "      <td id=\"T_24d84_row0_col24\" class=\"data row0 col24\" >3</td>\n",
              "      <td id=\"T_24d84_row0_col25\" class=\"data row0 col25\" >0</td>\n",
              "      <td id=\"T_24d84_row0_col26\" class=\"data row0 col26\" >0.000000</td>\n",
              "      <td id=\"T_24d84_row0_col27\" class=\"data row0 col27\" >0.000000</td>\n",
              "      <td id=\"T_24d84_row0_col28\" class=\"data row0 col28\" >0</td>\n",
              "      <td id=\"T_24d84_row0_col29\" class=\"data row0 col29\" >0</td>\n",
              "      <td id=\"T_24d84_row0_col30\" class=\"data row0 col30\" >0</td>\n",
              "      <td id=\"T_24d84_row0_col31\" class=\"data row0 col31\" >0</td>\n",
              "      <td id=\"T_24d84_row0_col32\" class=\"data row0 col32\" >0</td>\n",
              "      <td id=\"T_24d84_row0_col33\" class=\"data row0 col33\" >0</td>\n",
              "      <td id=\"T_24d84_row0_col34\" class=\"data row0 col34\" >40</td>\n",
              "      <td id=\"T_24d84_row0_col35\" class=\"data row0 col35\" >0</td>\n",
              "      <td id=\"T_24d84_row0_col36\" class=\"data row0 col36\" >666666.666700</td>\n",
              "      <td id=\"T_24d84_row0_col37\" class=\"data row0 col37\" >0.000000</td>\n",
              "      <td id=\"T_24d84_row0_col38\" class=\"data row0 col38\" >6</td>\n",
              "      <td id=\"T_24d84_row0_col39\" class=\"data row0 col39\" >6</td>\n",
              "      <td id=\"T_24d84_row0_col40\" class=\"data row0 col40\" >6.000000</td>\n",
              "      <td id=\"T_24d84_row0_col41\" class=\"data row0 col41\" >0.000000</td>\n",
              "      <td id=\"T_24d84_row0_col42\" class=\"data row0 col42\" >0.000000</td>\n",
              "      <td id=\"T_24d84_row0_col43\" class=\"data row0 col43\" >0</td>\n",
              "      <td id=\"T_24d84_row0_col44\" class=\"data row0 col44\" >0</td>\n",
              "      <td id=\"T_24d84_row0_col45\" class=\"data row0 col45\" >0</td>\n",
              "      <td id=\"T_24d84_row0_col46\" class=\"data row0 col46\" >0</td>\n",
              "      <td id=\"T_24d84_row0_col47\" class=\"data row0 col47\" >1</td>\n",
              "      <td id=\"T_24d84_row0_col48\" class=\"data row0 col48\" >0</td>\n",
              "      <td id=\"T_24d84_row0_col49\" class=\"data row0 col49\" >0</td>\n",
              "      <td id=\"T_24d84_row0_col50\" class=\"data row0 col50\" >0</td>\n",
              "      <td id=\"T_24d84_row0_col51\" class=\"data row0 col51\" >0</td>\n",
              "      <td id=\"T_24d84_row0_col52\" class=\"data row0 col52\" >9.000000</td>\n",
              "      <td id=\"T_24d84_row0_col53\" class=\"data row0 col53\" >6.000000</td>\n",
              "      <td id=\"T_24d84_row0_col54\" class=\"data row0 col54\" >0.000000</td>\n",
              "      <td id=\"T_24d84_row0_col55\" class=\"data row0 col55\" >40</td>\n",
              "      <td id=\"T_24d84_row0_col56\" class=\"data row0 col56\" >0</td>\n",
              "      <td id=\"T_24d84_row0_col57\" class=\"data row0 col57\" >0</td>\n",
              "      <td id=\"T_24d84_row0_col58\" class=\"data row0 col58\" >0</td>\n",
              "      <td id=\"T_24d84_row0_col59\" class=\"data row0 col59\" >0</td>\n",
              "      <td id=\"T_24d84_row0_col60\" class=\"data row0 col60\" >0</td>\n",
              "      <td id=\"T_24d84_row0_col61\" class=\"data row0 col61\" >0</td>\n",
              "      <td id=\"T_24d84_row0_col62\" class=\"data row0 col62\" >2</td>\n",
              "      <td id=\"T_24d84_row0_col63\" class=\"data row0 col63\" >12</td>\n",
              "      <td id=\"T_24d84_row0_col64\" class=\"data row0 col64\" >0</td>\n",
              "      <td id=\"T_24d84_row0_col65\" class=\"data row0 col65\" >0</td>\n",
              "      <td id=\"T_24d84_row0_col66\" class=\"data row0 col66\" >33</td>\n",
              "      <td id=\"T_24d84_row0_col67\" class=\"data row0 col67\" >-1</td>\n",
              "      <td id=\"T_24d84_row0_col68\" class=\"data row0 col68\" >1</td>\n",
              "      <td id=\"T_24d84_row0_col69\" class=\"data row0 col69\" >20</td>\n",
              "      <td id=\"T_24d84_row0_col70\" class=\"data row0 col70\" >0.000000</td>\n",
              "      <td id=\"T_24d84_row0_col71\" class=\"data row0 col71\" >0.000000</td>\n",
              "      <td id=\"T_24d84_row0_col72\" class=\"data row0 col72\" >0</td>\n",
              "      <td id=\"T_24d84_row0_col73\" class=\"data row0 col73\" >0</td>\n",
              "      <td id=\"T_24d84_row0_col74\" class=\"data row0 col74\" >0.000000</td>\n",
              "      <td id=\"T_24d84_row0_col75\" class=\"data row0 col75\" >0.000000</td>\n",
              "      <td id=\"T_24d84_row0_col76\" class=\"data row0 col76\" >0</td>\n",
              "      <td id=\"T_24d84_row0_col77\" class=\"data row0 col77\" >0</td>\n",
              "      <td id=\"T_24d84_row0_col78\" class=\"data row0 col78\" >BENIGN</td>\n",
              "    </tr>\n",
              "    <tr>\n",
              "      <th id=\"T_24d84_level0_row1\" class=\"row_heading level0 row1\" >1</th>\n",
              "      <td id=\"T_24d84_row1_col0\" class=\"data row1 col0\" >55054</td>\n",
              "      <td id=\"T_24d84_row1_col1\" class=\"data row1 col1\" >109</td>\n",
              "      <td id=\"T_24d84_row1_col2\" class=\"data row1 col2\" >1</td>\n",
              "      <td id=\"T_24d84_row1_col3\" class=\"data row1 col3\" >1</td>\n",
              "      <td id=\"T_24d84_row1_col4\" class=\"data row1 col4\" >6</td>\n",
              "      <td id=\"T_24d84_row1_col5\" class=\"data row1 col5\" >6</td>\n",
              "      <td id=\"T_24d84_row1_col6\" class=\"data row1 col6\" >6</td>\n",
              "      <td id=\"T_24d84_row1_col7\" class=\"data row1 col7\" >6</td>\n",
              "      <td id=\"T_24d84_row1_col8\" class=\"data row1 col8\" >6.000000</td>\n",
              "      <td id=\"T_24d84_row1_col9\" class=\"data row1 col9\" >0.000000</td>\n",
              "      <td id=\"T_24d84_row1_col10\" class=\"data row1 col10\" >6</td>\n",
              "      <td id=\"T_24d84_row1_col11\" class=\"data row1 col11\" >6</td>\n",
              "      <td id=\"T_24d84_row1_col12\" class=\"data row1 col12\" >6.000000</td>\n",
              "      <td id=\"T_24d84_row1_col13\" class=\"data row1 col13\" >0.000000</td>\n",
              "      <td id=\"T_24d84_row1_col14\" class=\"data row1 col14\" >110091.743100</td>\n",
              "      <td id=\"T_24d84_row1_col15\" class=\"data row1 col15\" >18348.623850</td>\n",
              "      <td id=\"T_24d84_row1_col16\" class=\"data row1 col16\" >109.000000</td>\n",
              "      <td id=\"T_24d84_row1_col17\" class=\"data row1 col17\" >0.000000</td>\n",
              "      <td id=\"T_24d84_row1_col18\" class=\"data row1 col18\" >109</td>\n",
              "      <td id=\"T_24d84_row1_col19\" class=\"data row1 col19\" >109</td>\n",
              "      <td id=\"T_24d84_row1_col20\" class=\"data row1 col20\" >0</td>\n",
              "      <td id=\"T_24d84_row1_col21\" class=\"data row1 col21\" >0.000000</td>\n",
              "      <td id=\"T_24d84_row1_col22\" class=\"data row1 col22\" >0.000000</td>\n",
              "      <td id=\"T_24d84_row1_col23\" class=\"data row1 col23\" >0</td>\n",
              "      <td id=\"T_24d84_row1_col24\" class=\"data row1 col24\" >0</td>\n",
              "      <td id=\"T_24d84_row1_col25\" class=\"data row1 col25\" >0</td>\n",
              "      <td id=\"T_24d84_row1_col26\" class=\"data row1 col26\" >0.000000</td>\n",
              "      <td id=\"T_24d84_row1_col27\" class=\"data row1 col27\" >0.000000</td>\n",
              "      <td id=\"T_24d84_row1_col28\" class=\"data row1 col28\" >0</td>\n",
              "      <td id=\"T_24d84_row1_col29\" class=\"data row1 col29\" >0</td>\n",
              "      <td id=\"T_24d84_row1_col30\" class=\"data row1 col30\" >0</td>\n",
              "      <td id=\"T_24d84_row1_col31\" class=\"data row1 col31\" >0</td>\n",
              "      <td id=\"T_24d84_row1_col32\" class=\"data row1 col32\" >0</td>\n",
              "      <td id=\"T_24d84_row1_col33\" class=\"data row1 col33\" >0</td>\n",
              "      <td id=\"T_24d84_row1_col34\" class=\"data row1 col34\" >20</td>\n",
              "      <td id=\"T_24d84_row1_col35\" class=\"data row1 col35\" >20</td>\n",
              "      <td id=\"T_24d84_row1_col36\" class=\"data row1 col36\" >9174.311927</td>\n",
              "      <td id=\"T_24d84_row1_col37\" class=\"data row1 col37\" >9174.311927</td>\n",
              "      <td id=\"T_24d84_row1_col38\" class=\"data row1 col38\" >6</td>\n",
              "      <td id=\"T_24d84_row1_col39\" class=\"data row1 col39\" >6</td>\n",
              "      <td id=\"T_24d84_row1_col40\" class=\"data row1 col40\" >6.000000</td>\n",
              "      <td id=\"T_24d84_row1_col41\" class=\"data row1 col41\" >0.000000</td>\n",
              "      <td id=\"T_24d84_row1_col42\" class=\"data row1 col42\" >0.000000</td>\n",
              "      <td id=\"T_24d84_row1_col43\" class=\"data row1 col43\" >0</td>\n",
              "      <td id=\"T_24d84_row1_col44\" class=\"data row1 col44\" >0</td>\n",
              "      <td id=\"T_24d84_row1_col45\" class=\"data row1 col45\" >0</td>\n",
              "      <td id=\"T_24d84_row1_col46\" class=\"data row1 col46\" >0</td>\n",
              "      <td id=\"T_24d84_row1_col47\" class=\"data row1 col47\" >1</td>\n",
              "      <td id=\"T_24d84_row1_col48\" class=\"data row1 col48\" >1</td>\n",
              "      <td id=\"T_24d84_row1_col49\" class=\"data row1 col49\" >0</td>\n",
              "      <td id=\"T_24d84_row1_col50\" class=\"data row1 col50\" >0</td>\n",
              "      <td id=\"T_24d84_row1_col51\" class=\"data row1 col51\" >1</td>\n",
              "      <td id=\"T_24d84_row1_col52\" class=\"data row1 col52\" >9.000000</td>\n",
              "      <td id=\"T_24d84_row1_col53\" class=\"data row1 col53\" >6.000000</td>\n",
              "      <td id=\"T_24d84_row1_col54\" class=\"data row1 col54\" >6.000000</td>\n",
              "      <td id=\"T_24d84_row1_col55\" class=\"data row1 col55\" >20</td>\n",
              "      <td id=\"T_24d84_row1_col56\" class=\"data row1 col56\" >0</td>\n",
              "      <td id=\"T_24d84_row1_col57\" class=\"data row1 col57\" >0</td>\n",
              "      <td id=\"T_24d84_row1_col58\" class=\"data row1 col58\" >0</td>\n",
              "      <td id=\"T_24d84_row1_col59\" class=\"data row1 col59\" >0</td>\n",
              "      <td id=\"T_24d84_row1_col60\" class=\"data row1 col60\" >0</td>\n",
              "      <td id=\"T_24d84_row1_col61\" class=\"data row1 col61\" >0</td>\n",
              "      <td id=\"T_24d84_row1_col62\" class=\"data row1 col62\" >1</td>\n",
              "      <td id=\"T_24d84_row1_col63\" class=\"data row1 col63\" >6</td>\n",
              "      <td id=\"T_24d84_row1_col64\" class=\"data row1 col64\" >1</td>\n",
              "      <td id=\"T_24d84_row1_col65\" class=\"data row1 col65\" >6</td>\n",
              "      <td id=\"T_24d84_row1_col66\" class=\"data row1 col66\" >29</td>\n",
              "      <td id=\"T_24d84_row1_col67\" class=\"data row1 col67\" >256</td>\n",
              "      <td id=\"T_24d84_row1_col68\" class=\"data row1 col68\" >0</td>\n",
              "      <td id=\"T_24d84_row1_col69\" class=\"data row1 col69\" >20</td>\n",
              "      <td id=\"T_24d84_row1_col70\" class=\"data row1 col70\" >0.000000</td>\n",
              "      <td id=\"T_24d84_row1_col71\" class=\"data row1 col71\" >0.000000</td>\n",
              "      <td id=\"T_24d84_row1_col72\" class=\"data row1 col72\" >0</td>\n",
              "      <td id=\"T_24d84_row1_col73\" class=\"data row1 col73\" >0</td>\n",
              "      <td id=\"T_24d84_row1_col74\" class=\"data row1 col74\" >0.000000</td>\n",
              "      <td id=\"T_24d84_row1_col75\" class=\"data row1 col75\" >0.000000</td>\n",
              "      <td id=\"T_24d84_row1_col76\" class=\"data row1 col76\" >0</td>\n",
              "      <td id=\"T_24d84_row1_col77\" class=\"data row1 col77\" >0</td>\n",
              "      <td id=\"T_24d84_row1_col78\" class=\"data row1 col78\" >BENIGN</td>\n",
              "    </tr>\n",
              "    <tr>\n",
              "      <th id=\"T_24d84_level0_row2\" class=\"row_heading level0 row2\" >2</th>\n",
              "      <td id=\"T_24d84_row2_col0\" class=\"data row2 col0\" >55055</td>\n",
              "      <td id=\"T_24d84_row2_col1\" class=\"data row2 col1\" >52</td>\n",
              "      <td id=\"T_24d84_row2_col2\" class=\"data row2 col2\" >1</td>\n",
              "      <td id=\"T_24d84_row2_col3\" class=\"data row2 col3\" >1</td>\n",
              "      <td id=\"T_24d84_row2_col4\" class=\"data row2 col4\" >6</td>\n",
              "      <td id=\"T_24d84_row2_col5\" class=\"data row2 col5\" >6</td>\n",
              "      <td id=\"T_24d84_row2_col6\" class=\"data row2 col6\" >6</td>\n",
              "      <td id=\"T_24d84_row2_col7\" class=\"data row2 col7\" >6</td>\n",
              "      <td id=\"T_24d84_row2_col8\" class=\"data row2 col8\" >6.000000</td>\n",
              "      <td id=\"T_24d84_row2_col9\" class=\"data row2 col9\" >0.000000</td>\n",
              "      <td id=\"T_24d84_row2_col10\" class=\"data row2 col10\" >6</td>\n",
              "      <td id=\"T_24d84_row2_col11\" class=\"data row2 col11\" >6</td>\n",
              "      <td id=\"T_24d84_row2_col12\" class=\"data row2 col12\" >6.000000</td>\n",
              "      <td id=\"T_24d84_row2_col13\" class=\"data row2 col13\" >0.000000</td>\n",
              "      <td id=\"T_24d84_row2_col14\" class=\"data row2 col14\" >230769.230800</td>\n",
              "      <td id=\"T_24d84_row2_col15\" class=\"data row2 col15\" >38461.538460</td>\n",
              "      <td id=\"T_24d84_row2_col16\" class=\"data row2 col16\" >52.000000</td>\n",
              "      <td id=\"T_24d84_row2_col17\" class=\"data row2 col17\" >0.000000</td>\n",
              "      <td id=\"T_24d84_row2_col18\" class=\"data row2 col18\" >52</td>\n",
              "      <td id=\"T_24d84_row2_col19\" class=\"data row2 col19\" >52</td>\n",
              "      <td id=\"T_24d84_row2_col20\" class=\"data row2 col20\" >0</td>\n",
              "      <td id=\"T_24d84_row2_col21\" class=\"data row2 col21\" >0.000000</td>\n",
              "      <td id=\"T_24d84_row2_col22\" class=\"data row2 col22\" >0.000000</td>\n",
              "      <td id=\"T_24d84_row2_col23\" class=\"data row2 col23\" >0</td>\n",
              "      <td id=\"T_24d84_row2_col24\" class=\"data row2 col24\" >0</td>\n",
              "      <td id=\"T_24d84_row2_col25\" class=\"data row2 col25\" >0</td>\n",
              "      <td id=\"T_24d84_row2_col26\" class=\"data row2 col26\" >0.000000</td>\n",
              "      <td id=\"T_24d84_row2_col27\" class=\"data row2 col27\" >0.000000</td>\n",
              "      <td id=\"T_24d84_row2_col28\" class=\"data row2 col28\" >0</td>\n",
              "      <td id=\"T_24d84_row2_col29\" class=\"data row2 col29\" >0</td>\n",
              "      <td id=\"T_24d84_row2_col30\" class=\"data row2 col30\" >0</td>\n",
              "      <td id=\"T_24d84_row2_col31\" class=\"data row2 col31\" >0</td>\n",
              "      <td id=\"T_24d84_row2_col32\" class=\"data row2 col32\" >0</td>\n",
              "      <td id=\"T_24d84_row2_col33\" class=\"data row2 col33\" >0</td>\n",
              "      <td id=\"T_24d84_row2_col34\" class=\"data row2 col34\" >20</td>\n",
              "      <td id=\"T_24d84_row2_col35\" class=\"data row2 col35\" >20</td>\n",
              "      <td id=\"T_24d84_row2_col36\" class=\"data row2 col36\" >19230.769230</td>\n",
              "      <td id=\"T_24d84_row2_col37\" class=\"data row2 col37\" >19230.769230</td>\n",
              "      <td id=\"T_24d84_row2_col38\" class=\"data row2 col38\" >6</td>\n",
              "      <td id=\"T_24d84_row2_col39\" class=\"data row2 col39\" >6</td>\n",
              "      <td id=\"T_24d84_row2_col40\" class=\"data row2 col40\" >6.000000</td>\n",
              "      <td id=\"T_24d84_row2_col41\" class=\"data row2 col41\" >0.000000</td>\n",
              "      <td id=\"T_24d84_row2_col42\" class=\"data row2 col42\" >0.000000</td>\n",
              "      <td id=\"T_24d84_row2_col43\" class=\"data row2 col43\" >0</td>\n",
              "      <td id=\"T_24d84_row2_col44\" class=\"data row2 col44\" >0</td>\n",
              "      <td id=\"T_24d84_row2_col45\" class=\"data row2 col45\" >0</td>\n",
              "      <td id=\"T_24d84_row2_col46\" class=\"data row2 col46\" >0</td>\n",
              "      <td id=\"T_24d84_row2_col47\" class=\"data row2 col47\" >1</td>\n",
              "      <td id=\"T_24d84_row2_col48\" class=\"data row2 col48\" >1</td>\n",
              "      <td id=\"T_24d84_row2_col49\" class=\"data row2 col49\" >0</td>\n",
              "      <td id=\"T_24d84_row2_col50\" class=\"data row2 col50\" >0</td>\n",
              "      <td id=\"T_24d84_row2_col51\" class=\"data row2 col51\" >1</td>\n",
              "      <td id=\"T_24d84_row2_col52\" class=\"data row2 col52\" >9.000000</td>\n",
              "      <td id=\"T_24d84_row2_col53\" class=\"data row2 col53\" >6.000000</td>\n",
              "      <td id=\"T_24d84_row2_col54\" class=\"data row2 col54\" >6.000000</td>\n",
              "      <td id=\"T_24d84_row2_col55\" class=\"data row2 col55\" >20</td>\n",
              "      <td id=\"T_24d84_row2_col56\" class=\"data row2 col56\" >0</td>\n",
              "      <td id=\"T_24d84_row2_col57\" class=\"data row2 col57\" >0</td>\n",
              "      <td id=\"T_24d84_row2_col58\" class=\"data row2 col58\" >0</td>\n",
              "      <td id=\"T_24d84_row2_col59\" class=\"data row2 col59\" >0</td>\n",
              "      <td id=\"T_24d84_row2_col60\" class=\"data row2 col60\" >0</td>\n",
              "      <td id=\"T_24d84_row2_col61\" class=\"data row2 col61\" >0</td>\n",
              "      <td id=\"T_24d84_row2_col62\" class=\"data row2 col62\" >1</td>\n",
              "      <td id=\"T_24d84_row2_col63\" class=\"data row2 col63\" >6</td>\n",
              "      <td id=\"T_24d84_row2_col64\" class=\"data row2 col64\" >1</td>\n",
              "      <td id=\"T_24d84_row2_col65\" class=\"data row2 col65\" >6</td>\n",
              "      <td id=\"T_24d84_row2_col66\" class=\"data row2 col66\" >29</td>\n",
              "      <td id=\"T_24d84_row2_col67\" class=\"data row2 col67\" >256</td>\n",
              "      <td id=\"T_24d84_row2_col68\" class=\"data row2 col68\" >0</td>\n",
              "      <td id=\"T_24d84_row2_col69\" class=\"data row2 col69\" >20</td>\n",
              "      <td id=\"T_24d84_row2_col70\" class=\"data row2 col70\" >0.000000</td>\n",
              "      <td id=\"T_24d84_row2_col71\" class=\"data row2 col71\" >0.000000</td>\n",
              "      <td id=\"T_24d84_row2_col72\" class=\"data row2 col72\" >0</td>\n",
              "      <td id=\"T_24d84_row2_col73\" class=\"data row2 col73\" >0</td>\n",
              "      <td id=\"T_24d84_row2_col74\" class=\"data row2 col74\" >0.000000</td>\n",
              "      <td id=\"T_24d84_row2_col75\" class=\"data row2 col75\" >0.000000</td>\n",
              "      <td id=\"T_24d84_row2_col76\" class=\"data row2 col76\" >0</td>\n",
              "      <td id=\"T_24d84_row2_col77\" class=\"data row2 col77\" >0</td>\n",
              "      <td id=\"T_24d84_row2_col78\" class=\"data row2 col78\" >BENIGN</td>\n",
              "    </tr>\n",
              "    <tr>\n",
              "      <th id=\"T_24d84_level0_row3\" class=\"row_heading level0 row3\" >3</th>\n",
              "      <td id=\"T_24d84_row3_col0\" class=\"data row3 col0\" >46236</td>\n",
              "      <td id=\"T_24d84_row3_col1\" class=\"data row3 col1\" >34</td>\n",
              "      <td id=\"T_24d84_row3_col2\" class=\"data row3 col2\" >1</td>\n",
              "      <td id=\"T_24d84_row3_col3\" class=\"data row3 col3\" >1</td>\n",
              "      <td id=\"T_24d84_row3_col4\" class=\"data row3 col4\" >6</td>\n",
              "      <td id=\"T_24d84_row3_col5\" class=\"data row3 col5\" >6</td>\n",
              "      <td id=\"T_24d84_row3_col6\" class=\"data row3 col6\" >6</td>\n",
              "      <td id=\"T_24d84_row3_col7\" class=\"data row3 col7\" >6</td>\n",
              "      <td id=\"T_24d84_row3_col8\" class=\"data row3 col8\" >6.000000</td>\n",
              "      <td id=\"T_24d84_row3_col9\" class=\"data row3 col9\" >0.000000</td>\n",
              "      <td id=\"T_24d84_row3_col10\" class=\"data row3 col10\" >6</td>\n",
              "      <td id=\"T_24d84_row3_col11\" class=\"data row3 col11\" >6</td>\n",
              "      <td id=\"T_24d84_row3_col12\" class=\"data row3 col12\" >6.000000</td>\n",
              "      <td id=\"T_24d84_row3_col13\" class=\"data row3 col13\" >0.000000</td>\n",
              "      <td id=\"T_24d84_row3_col14\" class=\"data row3 col14\" >352941.176500</td>\n",
              "      <td id=\"T_24d84_row3_col15\" class=\"data row3 col15\" >58823.529410</td>\n",
              "      <td id=\"T_24d84_row3_col16\" class=\"data row3 col16\" >34.000000</td>\n",
              "      <td id=\"T_24d84_row3_col17\" class=\"data row3 col17\" >0.000000</td>\n",
              "      <td id=\"T_24d84_row3_col18\" class=\"data row3 col18\" >34</td>\n",
              "      <td id=\"T_24d84_row3_col19\" class=\"data row3 col19\" >34</td>\n",
              "      <td id=\"T_24d84_row3_col20\" class=\"data row3 col20\" >0</td>\n",
              "      <td id=\"T_24d84_row3_col21\" class=\"data row3 col21\" >0.000000</td>\n",
              "      <td id=\"T_24d84_row3_col22\" class=\"data row3 col22\" >0.000000</td>\n",
              "      <td id=\"T_24d84_row3_col23\" class=\"data row3 col23\" >0</td>\n",
              "      <td id=\"T_24d84_row3_col24\" class=\"data row3 col24\" >0</td>\n",
              "      <td id=\"T_24d84_row3_col25\" class=\"data row3 col25\" >0</td>\n",
              "      <td id=\"T_24d84_row3_col26\" class=\"data row3 col26\" >0.000000</td>\n",
              "      <td id=\"T_24d84_row3_col27\" class=\"data row3 col27\" >0.000000</td>\n",
              "      <td id=\"T_24d84_row3_col28\" class=\"data row3 col28\" >0</td>\n",
              "      <td id=\"T_24d84_row3_col29\" class=\"data row3 col29\" >0</td>\n",
              "      <td id=\"T_24d84_row3_col30\" class=\"data row3 col30\" >0</td>\n",
              "      <td id=\"T_24d84_row3_col31\" class=\"data row3 col31\" >0</td>\n",
              "      <td id=\"T_24d84_row3_col32\" class=\"data row3 col32\" >0</td>\n",
              "      <td id=\"T_24d84_row3_col33\" class=\"data row3 col33\" >0</td>\n",
              "      <td id=\"T_24d84_row3_col34\" class=\"data row3 col34\" >20</td>\n",
              "      <td id=\"T_24d84_row3_col35\" class=\"data row3 col35\" >20</td>\n",
              "      <td id=\"T_24d84_row3_col36\" class=\"data row3 col36\" >29411.764710</td>\n",
              "      <td id=\"T_24d84_row3_col37\" class=\"data row3 col37\" >29411.764710</td>\n",
              "      <td id=\"T_24d84_row3_col38\" class=\"data row3 col38\" >6</td>\n",
              "      <td id=\"T_24d84_row3_col39\" class=\"data row3 col39\" >6</td>\n",
              "      <td id=\"T_24d84_row3_col40\" class=\"data row3 col40\" >6.000000</td>\n",
              "      <td id=\"T_24d84_row3_col41\" class=\"data row3 col41\" >0.000000</td>\n",
              "      <td id=\"T_24d84_row3_col42\" class=\"data row3 col42\" >0.000000</td>\n",
              "      <td id=\"T_24d84_row3_col43\" class=\"data row3 col43\" >0</td>\n",
              "      <td id=\"T_24d84_row3_col44\" class=\"data row3 col44\" >0</td>\n",
              "      <td id=\"T_24d84_row3_col45\" class=\"data row3 col45\" >0</td>\n",
              "      <td id=\"T_24d84_row3_col46\" class=\"data row3 col46\" >0</td>\n",
              "      <td id=\"T_24d84_row3_col47\" class=\"data row3 col47\" >1</td>\n",
              "      <td id=\"T_24d84_row3_col48\" class=\"data row3 col48\" >1</td>\n",
              "      <td id=\"T_24d84_row3_col49\" class=\"data row3 col49\" >0</td>\n",
              "      <td id=\"T_24d84_row3_col50\" class=\"data row3 col50\" >0</td>\n",
              "      <td id=\"T_24d84_row3_col51\" class=\"data row3 col51\" >1</td>\n",
              "      <td id=\"T_24d84_row3_col52\" class=\"data row3 col52\" >9.000000</td>\n",
              "      <td id=\"T_24d84_row3_col53\" class=\"data row3 col53\" >6.000000</td>\n",
              "      <td id=\"T_24d84_row3_col54\" class=\"data row3 col54\" >6.000000</td>\n",
              "      <td id=\"T_24d84_row3_col55\" class=\"data row3 col55\" >20</td>\n",
              "      <td id=\"T_24d84_row3_col56\" class=\"data row3 col56\" >0</td>\n",
              "      <td id=\"T_24d84_row3_col57\" class=\"data row3 col57\" >0</td>\n",
              "      <td id=\"T_24d84_row3_col58\" class=\"data row3 col58\" >0</td>\n",
              "      <td id=\"T_24d84_row3_col59\" class=\"data row3 col59\" >0</td>\n",
              "      <td id=\"T_24d84_row3_col60\" class=\"data row3 col60\" >0</td>\n",
              "      <td id=\"T_24d84_row3_col61\" class=\"data row3 col61\" >0</td>\n",
              "      <td id=\"T_24d84_row3_col62\" class=\"data row3 col62\" >1</td>\n",
              "      <td id=\"T_24d84_row3_col63\" class=\"data row3 col63\" >6</td>\n",
              "      <td id=\"T_24d84_row3_col64\" class=\"data row3 col64\" >1</td>\n",
              "      <td id=\"T_24d84_row3_col65\" class=\"data row3 col65\" >6</td>\n",
              "      <td id=\"T_24d84_row3_col66\" class=\"data row3 col66\" >31</td>\n",
              "      <td id=\"T_24d84_row3_col67\" class=\"data row3 col67\" >329</td>\n",
              "      <td id=\"T_24d84_row3_col68\" class=\"data row3 col68\" >0</td>\n",
              "      <td id=\"T_24d84_row3_col69\" class=\"data row3 col69\" >20</td>\n",
              "      <td id=\"T_24d84_row3_col70\" class=\"data row3 col70\" >0.000000</td>\n",
              "      <td id=\"T_24d84_row3_col71\" class=\"data row3 col71\" >0.000000</td>\n",
              "      <td id=\"T_24d84_row3_col72\" class=\"data row3 col72\" >0</td>\n",
              "      <td id=\"T_24d84_row3_col73\" class=\"data row3 col73\" >0</td>\n",
              "      <td id=\"T_24d84_row3_col74\" class=\"data row3 col74\" >0.000000</td>\n",
              "      <td id=\"T_24d84_row3_col75\" class=\"data row3 col75\" >0.000000</td>\n",
              "      <td id=\"T_24d84_row3_col76\" class=\"data row3 col76\" >0</td>\n",
              "      <td id=\"T_24d84_row3_col77\" class=\"data row3 col77\" >0</td>\n",
              "      <td id=\"T_24d84_row3_col78\" class=\"data row3 col78\" >BENIGN</td>\n",
              "    </tr>\n",
              "    <tr>\n",
              "      <th id=\"T_24d84_level0_row4\" class=\"row_heading level0 row4\" >4</th>\n",
              "      <td id=\"T_24d84_row4_col0\" class=\"data row4 col0\" >54863</td>\n",
              "      <td id=\"T_24d84_row4_col1\" class=\"data row4 col1\" >3</td>\n",
              "      <td id=\"T_24d84_row4_col2\" class=\"data row4 col2\" >2</td>\n",
              "      <td id=\"T_24d84_row4_col3\" class=\"data row4 col3\" >0</td>\n",
              "      <td id=\"T_24d84_row4_col4\" class=\"data row4 col4\" >12</td>\n",
              "      <td id=\"T_24d84_row4_col5\" class=\"data row4 col5\" >0</td>\n",
              "      <td id=\"T_24d84_row4_col6\" class=\"data row4 col6\" >6</td>\n",
              "      <td id=\"T_24d84_row4_col7\" class=\"data row4 col7\" >6</td>\n",
              "      <td id=\"T_24d84_row4_col8\" class=\"data row4 col8\" >6.000000</td>\n",
              "      <td id=\"T_24d84_row4_col9\" class=\"data row4 col9\" >0.000000</td>\n",
              "      <td id=\"T_24d84_row4_col10\" class=\"data row4 col10\" >0</td>\n",
              "      <td id=\"T_24d84_row4_col11\" class=\"data row4 col11\" >0</td>\n",
              "      <td id=\"T_24d84_row4_col12\" class=\"data row4 col12\" >0.000000</td>\n",
              "      <td id=\"T_24d84_row4_col13\" class=\"data row4 col13\" >0.000000</td>\n",
              "      <td id=\"T_24d84_row4_col14\" class=\"data row4 col14\" >4000000.000000</td>\n",
              "      <td id=\"T_24d84_row4_col15\" class=\"data row4 col15\" >666666.666700</td>\n",
              "      <td id=\"T_24d84_row4_col16\" class=\"data row4 col16\" >3.000000</td>\n",
              "      <td id=\"T_24d84_row4_col17\" class=\"data row4 col17\" >0.000000</td>\n",
              "      <td id=\"T_24d84_row4_col18\" class=\"data row4 col18\" >3</td>\n",
              "      <td id=\"T_24d84_row4_col19\" class=\"data row4 col19\" >3</td>\n",
              "      <td id=\"T_24d84_row4_col20\" class=\"data row4 col20\" >3</td>\n",
              "      <td id=\"T_24d84_row4_col21\" class=\"data row4 col21\" >3.000000</td>\n",
              "      <td id=\"T_24d84_row4_col22\" class=\"data row4 col22\" >0.000000</td>\n",
              "      <td id=\"T_24d84_row4_col23\" class=\"data row4 col23\" >3</td>\n",
              "      <td id=\"T_24d84_row4_col24\" class=\"data row4 col24\" >3</td>\n",
              "      <td id=\"T_24d84_row4_col25\" class=\"data row4 col25\" >0</td>\n",
              "      <td id=\"T_24d84_row4_col26\" class=\"data row4 col26\" >0.000000</td>\n",
              "      <td id=\"T_24d84_row4_col27\" class=\"data row4 col27\" >0.000000</td>\n",
              "      <td id=\"T_24d84_row4_col28\" class=\"data row4 col28\" >0</td>\n",
              "      <td id=\"T_24d84_row4_col29\" class=\"data row4 col29\" >0</td>\n",
              "      <td id=\"T_24d84_row4_col30\" class=\"data row4 col30\" >0</td>\n",
              "      <td id=\"T_24d84_row4_col31\" class=\"data row4 col31\" >0</td>\n",
              "      <td id=\"T_24d84_row4_col32\" class=\"data row4 col32\" >0</td>\n",
              "      <td id=\"T_24d84_row4_col33\" class=\"data row4 col33\" >0</td>\n",
              "      <td id=\"T_24d84_row4_col34\" class=\"data row4 col34\" >40</td>\n",
              "      <td id=\"T_24d84_row4_col35\" class=\"data row4 col35\" >0</td>\n",
              "      <td id=\"T_24d84_row4_col36\" class=\"data row4 col36\" >666666.666700</td>\n",
              "      <td id=\"T_24d84_row4_col37\" class=\"data row4 col37\" >0.000000</td>\n",
              "      <td id=\"T_24d84_row4_col38\" class=\"data row4 col38\" >6</td>\n",
              "      <td id=\"T_24d84_row4_col39\" class=\"data row4 col39\" >6</td>\n",
              "      <td id=\"T_24d84_row4_col40\" class=\"data row4 col40\" >6.000000</td>\n",
              "      <td id=\"T_24d84_row4_col41\" class=\"data row4 col41\" >0.000000</td>\n",
              "      <td id=\"T_24d84_row4_col42\" class=\"data row4 col42\" >0.000000</td>\n",
              "      <td id=\"T_24d84_row4_col43\" class=\"data row4 col43\" >0</td>\n",
              "      <td id=\"T_24d84_row4_col44\" class=\"data row4 col44\" >0</td>\n",
              "      <td id=\"T_24d84_row4_col45\" class=\"data row4 col45\" >0</td>\n",
              "      <td id=\"T_24d84_row4_col46\" class=\"data row4 col46\" >0</td>\n",
              "      <td id=\"T_24d84_row4_col47\" class=\"data row4 col47\" >1</td>\n",
              "      <td id=\"T_24d84_row4_col48\" class=\"data row4 col48\" >0</td>\n",
              "      <td id=\"T_24d84_row4_col49\" class=\"data row4 col49\" >0</td>\n",
              "      <td id=\"T_24d84_row4_col50\" class=\"data row4 col50\" >0</td>\n",
              "      <td id=\"T_24d84_row4_col51\" class=\"data row4 col51\" >0</td>\n",
              "      <td id=\"T_24d84_row4_col52\" class=\"data row4 col52\" >9.000000</td>\n",
              "      <td id=\"T_24d84_row4_col53\" class=\"data row4 col53\" >6.000000</td>\n",
              "      <td id=\"T_24d84_row4_col54\" class=\"data row4 col54\" >0.000000</td>\n",
              "      <td id=\"T_24d84_row4_col55\" class=\"data row4 col55\" >40</td>\n",
              "      <td id=\"T_24d84_row4_col56\" class=\"data row4 col56\" >0</td>\n",
              "      <td id=\"T_24d84_row4_col57\" class=\"data row4 col57\" >0</td>\n",
              "      <td id=\"T_24d84_row4_col58\" class=\"data row4 col58\" >0</td>\n",
              "      <td id=\"T_24d84_row4_col59\" class=\"data row4 col59\" >0</td>\n",
              "      <td id=\"T_24d84_row4_col60\" class=\"data row4 col60\" >0</td>\n",
              "      <td id=\"T_24d84_row4_col61\" class=\"data row4 col61\" >0</td>\n",
              "      <td id=\"T_24d84_row4_col62\" class=\"data row4 col62\" >2</td>\n",
              "      <td id=\"T_24d84_row4_col63\" class=\"data row4 col63\" >12</td>\n",
              "      <td id=\"T_24d84_row4_col64\" class=\"data row4 col64\" >0</td>\n",
              "      <td id=\"T_24d84_row4_col65\" class=\"data row4 col65\" >0</td>\n",
              "      <td id=\"T_24d84_row4_col66\" class=\"data row4 col66\" >32</td>\n",
              "      <td id=\"T_24d84_row4_col67\" class=\"data row4 col67\" >-1</td>\n",
              "      <td id=\"T_24d84_row4_col68\" class=\"data row4 col68\" >1</td>\n",
              "      <td id=\"T_24d84_row4_col69\" class=\"data row4 col69\" >20</td>\n",
              "      <td id=\"T_24d84_row4_col70\" class=\"data row4 col70\" >0.000000</td>\n",
              "      <td id=\"T_24d84_row4_col71\" class=\"data row4 col71\" >0.000000</td>\n",
              "      <td id=\"T_24d84_row4_col72\" class=\"data row4 col72\" >0</td>\n",
              "      <td id=\"T_24d84_row4_col73\" class=\"data row4 col73\" >0</td>\n",
              "      <td id=\"T_24d84_row4_col74\" class=\"data row4 col74\" >0.000000</td>\n",
              "      <td id=\"T_24d84_row4_col75\" class=\"data row4 col75\" >0.000000</td>\n",
              "      <td id=\"T_24d84_row4_col76\" class=\"data row4 col76\" >0</td>\n",
              "      <td id=\"T_24d84_row4_col77\" class=\"data row4 col77\" >0</td>\n",
              "      <td id=\"T_24d84_row4_col78\" class=\"data row4 col78\" >BENIGN</td>\n",
              "    </tr>\n",
              "  </tbody>\n",
              "</table>\n"
            ],
            "text/plain": [
              "<pandas.io.formats.style.Styler at 0x7f2b7468ee80>"
            ]
          },
          "execution_count": 3,
          "metadata": {},
          "output_type": "execute_result"
        }
      ],
      "source": [
        "df = pd.read_csv('/content/drive/MyDrive/Friday-WorkingHours-Afternoon-DDos.pcap_ISCX.csv')\n",
        "df.head().style"
      ]
    },
    {
      "cell_type": "markdown",
      "metadata": {
        "id": "QqCeMN7D1apz"
      },
      "source": [
        "## **Shape of Data**"
      ]
    },
    {
      "cell_type": "code",
      "execution_count": null,
      "metadata": {
        "colab": {
          "base_uri": "https://localhost:8080/"
        },
        "id": "ez-HIrtetiSx",
        "outputId": "68db5d63-204c-414f-b703-f32cbba5b8c3"
      },
      "outputs": [
        {
          "data": {
            "text/plain": [
              "(225745, 79)"
            ]
          },
          "execution_count": 4,
          "metadata": {},
          "output_type": "execute_result"
        }
      ],
      "source": [
        "\n",
        "df.shape"
      ]
    },
    {
      "cell_type": "markdown",
      "metadata": {
        "id": "IGAObRgr1crk"
      },
      "source": [
        "## **List of 78 Features**"
      ]
    },
    {
      "cell_type": "code",
      "execution_count": null,
      "metadata": {
        "colab": {
          "base_uri": "https://localhost:8080/"
        },
        "id": "n5fzsmDvtqcA",
        "outputId": "938d4b53-4ce9-4ed9-ee5d-518939df703d"
      },
      "outputs": [
        {
          "data": {
            "text/plain": [
              "[' Destination Port',\n",
              " ' Flow Duration',\n",
              " ' Total Fwd Packets',\n",
              " ' Total Backward Packets',\n",
              " 'Total Length of Fwd Packets',\n",
              " ' Total Length of Bwd Packets',\n",
              " ' Fwd Packet Length Max',\n",
              " ' Fwd Packet Length Min',\n",
              " ' Fwd Packet Length Mean',\n",
              " ' Fwd Packet Length Std',\n",
              " 'Bwd Packet Length Max',\n",
              " ' Bwd Packet Length Min',\n",
              " ' Bwd Packet Length Mean',\n",
              " ' Bwd Packet Length Std',\n",
              " 'Flow Bytes/s',\n",
              " ' Flow Packets/s',\n",
              " ' Flow IAT Mean',\n",
              " ' Flow IAT Std',\n",
              " ' Flow IAT Max',\n",
              " ' Flow IAT Min',\n",
              " 'Fwd IAT Total',\n",
              " ' Fwd IAT Mean',\n",
              " ' Fwd IAT Std',\n",
              " ' Fwd IAT Max',\n",
              " ' Fwd IAT Min',\n",
              " 'Bwd IAT Total',\n",
              " ' Bwd IAT Mean',\n",
              " ' Bwd IAT Std',\n",
              " ' Bwd IAT Max',\n",
              " ' Bwd IAT Min',\n",
              " 'Fwd PSH Flags',\n",
              " ' Bwd PSH Flags',\n",
              " ' Fwd URG Flags',\n",
              " ' Bwd URG Flags',\n",
              " ' Fwd Header Length',\n",
              " ' Bwd Header Length',\n",
              " 'Fwd Packets/s',\n",
              " ' Bwd Packets/s',\n",
              " ' Min Packet Length',\n",
              " ' Max Packet Length',\n",
              " ' Packet Length Mean',\n",
              " ' Packet Length Std',\n",
              " ' Packet Length Variance',\n",
              " 'FIN Flag Count',\n",
              " ' SYN Flag Count',\n",
              " ' RST Flag Count',\n",
              " ' PSH Flag Count',\n",
              " ' ACK Flag Count',\n",
              " ' URG Flag Count',\n",
              " ' CWE Flag Count',\n",
              " ' ECE Flag Count',\n",
              " ' Down/Up Ratio',\n",
              " ' Average Packet Size',\n",
              " ' Avg Fwd Segment Size',\n",
              " ' Avg Bwd Segment Size',\n",
              " ' Fwd Header Length.1',\n",
              " 'Fwd Avg Bytes/Bulk',\n",
              " ' Fwd Avg Packets/Bulk',\n",
              " ' Fwd Avg Bulk Rate',\n",
              " ' Bwd Avg Bytes/Bulk',\n",
              " ' Bwd Avg Packets/Bulk',\n",
              " 'Bwd Avg Bulk Rate',\n",
              " 'Subflow Fwd Packets',\n",
              " ' Subflow Fwd Bytes',\n",
              " ' Subflow Bwd Packets',\n",
              " ' Subflow Bwd Bytes',\n",
              " 'Init_Win_bytes_forward',\n",
              " ' Init_Win_bytes_backward',\n",
              " ' act_data_pkt_fwd',\n",
              " ' min_seg_size_forward',\n",
              " 'Active Mean',\n",
              " ' Active Std',\n",
              " ' Active Max',\n",
              " ' Active Min',\n",
              " 'Idle Mean',\n",
              " ' Idle Std',\n",
              " ' Idle Max',\n",
              " ' Idle Min',\n",
              " ' Label']"
            ]
          },
          "execution_count": 5,
          "metadata": {},
          "output_type": "execute_result"
        }
      ],
      "source": [
        "list(df.columns)"
      ]
    },
    {
      "cell_type": "markdown",
      "metadata": {
        "id": "9N5gERbZ1gBI"
      },
      "source": [
        "# Data types"
      ]
    },
    {
      "cell_type": "code",
      "execution_count": null,
      "metadata": {
        "colab": {
          "base_uri": "https://localhost:8080/"
        },
        "id": "BfUFAnt2t-Pb",
        "outputId": "9dc72a65-783c-4c8b-8f59-d3cc74aca222"
      },
      "outputs": [
        {
          "data": {
            "text/plain": [
              " Destination Port                int64\n",
              " Flow Duration                   int64\n",
              " Total Fwd Packets               int64\n",
              " Total Backward Packets          int64\n",
              "Total Length of Fwd Packets      int64\n",
              "                                ...   \n",
              "Idle Mean                      float64\n",
              " Idle Std                      float64\n",
              " Idle Max                        int64\n",
              " Idle Min                        int64\n",
              " Label                          object\n",
              "Length: 79, dtype: object"
            ]
          },
          "execution_count": 6,
          "metadata": {},
          "output_type": "execute_result"
        }
      ],
      "source": [
        "df.dtypes"
      ]
    },
    {
      "cell_type": "markdown",
      "metadata": {
        "id": "AiFYpOrX1j9F"
      },
      "source": [
        "# Converting data type of each feature to np.float64"
      ]
    },
    {
      "cell_type": "code",
      "execution_count": null,
      "metadata": {
        "id": "5wg2vBgLzZaI"
      },
      "outputs": [],
      "source": [
        "new_df = df.astype(np.float64, errors='ignore')"
      ]
    },
    {
      "cell_type": "markdown",
      "metadata": {
        "id": "SlcBKXL61sif"
      },
      "source": [
        "### After converting each data type to float32"
      ]
    },
    {
      "cell_type": "code",
      "execution_count": null,
      "metadata": {
        "colab": {
          "base_uri": "https://localhost:8080/"
        },
        "id": "2WO6HmqezcwB",
        "outputId": "8fca7086-d894-42b4-c203-11618b082e93"
      },
      "outputs": [
        {
          "data": {
            "text/plain": [
              " Destination Port              float64\n",
              " Flow Duration                 float64\n",
              " Total Fwd Packets             float64\n",
              " Total Backward Packets        float64\n",
              "Total Length of Fwd Packets    float64\n",
              "                                ...   \n",
              "Idle Mean                      float64\n",
              " Idle Std                      float64\n",
              " Idle Max                      float64\n",
              " Idle Min                      float64\n",
              " Label                          object\n",
              "Length: 79, dtype: object"
            ]
          },
          "execution_count": 8,
          "metadata": {},
          "output_type": "execute_result"
        }
      ],
      "source": [
        "new_df.dtypes"
      ]
    },
    {
      "cell_type": "code",
      "execution_count": null,
      "metadata": {
        "colab": {
          "base_uri": "https://localhost:8080/"
        },
        "id": "u6ER4RYY0PtQ",
        "outputId": "f23c2a6f-4313-4886-e5f0-bece139630c2"
      },
      "outputs": [
        {
          "name": "stdout",
          "output_type": "stream",
          "text": [
            " Destination Port\t\t\tfloat64\n",
            " Flow Duration\t\t\tfloat64\n",
            " Total Fwd Packets\t\t\tfloat64\n",
            " Total Backward Packets\t\t\tfloat64\n",
            "Total Length of Fwd Packets\t\t\tfloat64\n",
            " Total Length of Bwd Packets\t\t\tfloat64\n",
            " Fwd Packet Length Max\t\t\tfloat64\n",
            " Fwd Packet Length Min\t\t\tfloat64\n",
            " Fwd Packet Length Mean\t\t\tfloat64\n",
            " Fwd Packet Length Std\t\t\tfloat64\n",
            "Bwd Packet Length Max\t\t\tfloat64\n",
            " Bwd Packet Length Min\t\t\tfloat64\n",
            " Bwd Packet Length Mean\t\t\tfloat64\n",
            " Bwd Packet Length Std\t\t\tfloat64\n",
            "Flow Bytes/s\t\t\tfloat64\n",
            " Flow Packets/s\t\t\tfloat64\n",
            " Flow IAT Mean\t\t\tfloat64\n",
            " Flow IAT Std\t\t\tfloat64\n",
            " Flow IAT Max\t\t\tfloat64\n",
            " Flow IAT Min\t\t\tfloat64\n",
            "Fwd IAT Total\t\t\tfloat64\n",
            " Fwd IAT Mean\t\t\tfloat64\n",
            " Fwd IAT Std\t\t\tfloat64\n",
            " Fwd IAT Max\t\t\tfloat64\n",
            " Fwd IAT Min\t\t\tfloat64\n",
            "Bwd IAT Total\t\t\tfloat64\n",
            " Bwd IAT Mean\t\t\tfloat64\n",
            " Bwd IAT Std\t\t\tfloat64\n",
            " Bwd IAT Max\t\t\tfloat64\n",
            " Bwd IAT Min\t\t\tfloat64\n",
            "Fwd PSH Flags\t\t\tfloat64\n",
            " Bwd PSH Flags\t\t\tfloat64\n",
            " Fwd URG Flags\t\t\tfloat64\n",
            " Bwd URG Flags\t\t\tfloat64\n",
            " Fwd Header Length\t\t\tfloat64\n",
            " Bwd Header Length\t\t\tfloat64\n",
            "Fwd Packets/s\t\t\tfloat64\n",
            " Bwd Packets/s\t\t\tfloat64\n",
            " Min Packet Length\t\t\tfloat64\n",
            " Max Packet Length\t\t\tfloat64\n",
            " Packet Length Mean\t\t\tfloat64\n",
            " Packet Length Std\t\t\tfloat64\n",
            " Packet Length Variance\t\t\tfloat64\n",
            "FIN Flag Count\t\t\tfloat64\n",
            " SYN Flag Count\t\t\tfloat64\n",
            " RST Flag Count\t\t\tfloat64\n",
            " PSH Flag Count\t\t\tfloat64\n",
            " ACK Flag Count\t\t\tfloat64\n",
            " URG Flag Count\t\t\tfloat64\n",
            " CWE Flag Count\t\t\tfloat64\n",
            " ECE Flag Count\t\t\tfloat64\n",
            " Down/Up Ratio\t\t\tfloat64\n",
            " Average Packet Size\t\t\tfloat64\n",
            " Avg Fwd Segment Size\t\t\tfloat64\n",
            " Avg Bwd Segment Size\t\t\tfloat64\n",
            " Fwd Header Length.1\t\t\tfloat64\n",
            "Fwd Avg Bytes/Bulk\t\t\tfloat64\n",
            " Fwd Avg Packets/Bulk\t\t\tfloat64\n",
            " Fwd Avg Bulk Rate\t\t\tfloat64\n",
            " Bwd Avg Bytes/Bulk\t\t\tfloat64\n",
            " Bwd Avg Packets/Bulk\t\t\tfloat64\n",
            "Bwd Avg Bulk Rate\t\t\tfloat64\n",
            "Subflow Fwd Packets\t\t\tfloat64\n",
            " Subflow Fwd Bytes\t\t\tfloat64\n",
            " Subflow Bwd Packets\t\t\tfloat64\n",
            " Subflow Bwd Bytes\t\t\tfloat64\n",
            "Init_Win_bytes_forward\t\t\tfloat64\n",
            " Init_Win_bytes_backward\t\t\tfloat64\n",
            " act_data_pkt_fwd\t\t\tfloat64\n",
            " min_seg_size_forward\t\t\tfloat64\n",
            "Active Mean\t\t\tfloat64\n",
            " Active Std\t\t\tfloat64\n",
            " Active Max\t\t\tfloat64\n",
            " Active Min\t\t\tfloat64\n",
            "Idle Mean\t\t\tfloat64\n",
            " Idle Std\t\t\tfloat64\n",
            " Idle Max\t\t\tfloat64\n",
            " Idle Min\t\t\tfloat64\n",
            " Label\t\t\tobject\n"
          ]
        }
      ],
      "source": [
        "# new_df.column.dtype\n",
        "columns = new_df.head(0)\n",
        "for i in columns:\n",
        "  print(f\"{i}\\t\\t\\t{new_df[i].dtype}\")\n"
      ]
    },
    {
      "cell_type": "markdown",
      "metadata": {
        "id": "KqLuCSfP1xvc"
      },
      "source": [
        "### Finding unique data labels"
      ]
    },
    {
      "cell_type": "code",
      "execution_count": null,
      "metadata": {
        "colab": {
          "base_uri": "https://localhost:8080/"
        },
        "id": "h_RZY2fU1F2A",
        "outputId": "a74e4f10-b93f-46fc-8040-41390ea04e0a"
      },
      "outputs": [
        {
          "data": {
            "text/plain": [
              "array(['BENIGN', 'DDoS'], dtype=object)"
            ]
          },
          "execution_count": 10,
          "metadata": {},
          "output_type": "execute_result"
        }
      ],
      "source": [
        "new_df[' Label'].unique()"
      ]
    },
    {
      "cell_type": "markdown",
      "metadata": {
        "id": "Awj07E0R2Pm0"
      },
      "source": [
        "### Finding Infinity and NaN values in dataset"
      ]
    },
    {
      "cell_type": "code",
      "execution_count": null,
      "metadata": {
        "colab": {
          "base_uri": "https://localhost:8080/"
        },
        "id": "4WX2QwJ12ZTo",
        "outputId": "f125a97c-bfcc-47f9-9271-a9c134f20f69"
      },
      "outputs": [
        {
          "name": "stdout",
          "output_type": "stream",
          "text": [
            "Before Dropping : (225745, 79)\t After Dropping : (225745, 77)\n"
          ]
        }
      ],
      "source": [
        "prev_shape = new_df.shape\n",
        "new_df = new_df.replace([np.inf, -np.inf], np.nan).dropna(axis=1)\n",
        "curr_shape = new_df.shape\n",
        "\n",
        "print(f\"Before Dropping : {prev_shape}\\t After Dropping : {curr_shape}\")"
      ]
    },
    {
      "cell_type": "markdown",
      "metadata": {
        "id": "vvsC30tB8QtM"
      },
      "source": [
        "### Label Encoding"
      ]
    },
    {
      "cell_type": "code",
      "execution_count": null,
      "metadata": {
        "colab": {
          "base_uri": "https://localhost:8080/",
          "height": 278
        },
        "id": "9BI9gFkA79cs",
        "outputId": "40b52bca-8659-40a1-d11b-fc787d8b3185"
      },
      "outputs": [
        {
          "data": {
            "text/html": [
              "<style type=\"text/css\">\n",
              "</style>\n",
              "<table id=\"T_34e98\" class=\"dataframe\">\n",
              "  <thead>\n",
              "    <tr>\n",
              "      <th class=\"blank level0\" >&nbsp;</th>\n",
              "      <th id=\"T_34e98_level0_col0\" class=\"col_heading level0 col0\" > Destination Port</th>\n",
              "      <th id=\"T_34e98_level0_col1\" class=\"col_heading level0 col1\" > Flow Duration</th>\n",
              "      <th id=\"T_34e98_level0_col2\" class=\"col_heading level0 col2\" > Total Fwd Packets</th>\n",
              "      <th id=\"T_34e98_level0_col3\" class=\"col_heading level0 col3\" > Total Backward Packets</th>\n",
              "      <th id=\"T_34e98_level0_col4\" class=\"col_heading level0 col4\" >Total Length of Fwd Packets</th>\n",
              "      <th id=\"T_34e98_level0_col5\" class=\"col_heading level0 col5\" > Total Length of Bwd Packets</th>\n",
              "      <th id=\"T_34e98_level0_col6\" class=\"col_heading level0 col6\" > Fwd Packet Length Max</th>\n",
              "      <th id=\"T_34e98_level0_col7\" class=\"col_heading level0 col7\" > Fwd Packet Length Min</th>\n",
              "      <th id=\"T_34e98_level0_col8\" class=\"col_heading level0 col8\" > Fwd Packet Length Mean</th>\n",
              "      <th id=\"T_34e98_level0_col9\" class=\"col_heading level0 col9\" > Fwd Packet Length Std</th>\n",
              "      <th id=\"T_34e98_level0_col10\" class=\"col_heading level0 col10\" >Bwd Packet Length Max</th>\n",
              "      <th id=\"T_34e98_level0_col11\" class=\"col_heading level0 col11\" > Bwd Packet Length Min</th>\n",
              "      <th id=\"T_34e98_level0_col12\" class=\"col_heading level0 col12\" > Bwd Packet Length Mean</th>\n",
              "      <th id=\"T_34e98_level0_col13\" class=\"col_heading level0 col13\" > Bwd Packet Length Std</th>\n",
              "      <th id=\"T_34e98_level0_col14\" class=\"col_heading level0 col14\" > Flow IAT Mean</th>\n",
              "      <th id=\"T_34e98_level0_col15\" class=\"col_heading level0 col15\" > Flow IAT Std</th>\n",
              "      <th id=\"T_34e98_level0_col16\" class=\"col_heading level0 col16\" > Flow IAT Max</th>\n",
              "      <th id=\"T_34e98_level0_col17\" class=\"col_heading level0 col17\" > Flow IAT Min</th>\n",
              "      <th id=\"T_34e98_level0_col18\" class=\"col_heading level0 col18\" >Fwd IAT Total</th>\n",
              "      <th id=\"T_34e98_level0_col19\" class=\"col_heading level0 col19\" > Fwd IAT Mean</th>\n",
              "      <th id=\"T_34e98_level0_col20\" class=\"col_heading level0 col20\" > Fwd IAT Std</th>\n",
              "      <th id=\"T_34e98_level0_col21\" class=\"col_heading level0 col21\" > Fwd IAT Max</th>\n",
              "      <th id=\"T_34e98_level0_col22\" class=\"col_heading level0 col22\" > Fwd IAT Min</th>\n",
              "      <th id=\"T_34e98_level0_col23\" class=\"col_heading level0 col23\" >Bwd IAT Total</th>\n",
              "      <th id=\"T_34e98_level0_col24\" class=\"col_heading level0 col24\" > Bwd IAT Mean</th>\n",
              "      <th id=\"T_34e98_level0_col25\" class=\"col_heading level0 col25\" > Bwd IAT Std</th>\n",
              "      <th id=\"T_34e98_level0_col26\" class=\"col_heading level0 col26\" > Bwd IAT Max</th>\n",
              "      <th id=\"T_34e98_level0_col27\" class=\"col_heading level0 col27\" > Bwd IAT Min</th>\n",
              "      <th id=\"T_34e98_level0_col28\" class=\"col_heading level0 col28\" >Fwd PSH Flags</th>\n",
              "      <th id=\"T_34e98_level0_col29\" class=\"col_heading level0 col29\" > Bwd PSH Flags</th>\n",
              "      <th id=\"T_34e98_level0_col30\" class=\"col_heading level0 col30\" > Fwd URG Flags</th>\n",
              "      <th id=\"T_34e98_level0_col31\" class=\"col_heading level0 col31\" > Bwd URG Flags</th>\n",
              "      <th id=\"T_34e98_level0_col32\" class=\"col_heading level0 col32\" > Fwd Header Length</th>\n",
              "      <th id=\"T_34e98_level0_col33\" class=\"col_heading level0 col33\" > Bwd Header Length</th>\n",
              "      <th id=\"T_34e98_level0_col34\" class=\"col_heading level0 col34\" >Fwd Packets/s</th>\n",
              "      <th id=\"T_34e98_level0_col35\" class=\"col_heading level0 col35\" > Bwd Packets/s</th>\n",
              "      <th id=\"T_34e98_level0_col36\" class=\"col_heading level0 col36\" > Min Packet Length</th>\n",
              "      <th id=\"T_34e98_level0_col37\" class=\"col_heading level0 col37\" > Max Packet Length</th>\n",
              "      <th id=\"T_34e98_level0_col38\" class=\"col_heading level0 col38\" > Packet Length Mean</th>\n",
              "      <th id=\"T_34e98_level0_col39\" class=\"col_heading level0 col39\" > Packet Length Std</th>\n",
              "      <th id=\"T_34e98_level0_col40\" class=\"col_heading level0 col40\" > Packet Length Variance</th>\n",
              "      <th id=\"T_34e98_level0_col41\" class=\"col_heading level0 col41\" >FIN Flag Count</th>\n",
              "      <th id=\"T_34e98_level0_col42\" class=\"col_heading level0 col42\" > SYN Flag Count</th>\n",
              "      <th id=\"T_34e98_level0_col43\" class=\"col_heading level0 col43\" > RST Flag Count</th>\n",
              "      <th id=\"T_34e98_level0_col44\" class=\"col_heading level0 col44\" > PSH Flag Count</th>\n",
              "      <th id=\"T_34e98_level0_col45\" class=\"col_heading level0 col45\" > ACK Flag Count</th>\n",
              "      <th id=\"T_34e98_level0_col46\" class=\"col_heading level0 col46\" > URG Flag Count</th>\n",
              "      <th id=\"T_34e98_level0_col47\" class=\"col_heading level0 col47\" > CWE Flag Count</th>\n",
              "      <th id=\"T_34e98_level0_col48\" class=\"col_heading level0 col48\" > ECE Flag Count</th>\n",
              "      <th id=\"T_34e98_level0_col49\" class=\"col_heading level0 col49\" > Down/Up Ratio</th>\n",
              "      <th id=\"T_34e98_level0_col50\" class=\"col_heading level0 col50\" > Average Packet Size</th>\n",
              "      <th id=\"T_34e98_level0_col51\" class=\"col_heading level0 col51\" > Avg Fwd Segment Size</th>\n",
              "      <th id=\"T_34e98_level0_col52\" class=\"col_heading level0 col52\" > Avg Bwd Segment Size</th>\n",
              "      <th id=\"T_34e98_level0_col53\" class=\"col_heading level0 col53\" > Fwd Header Length.1</th>\n",
              "      <th id=\"T_34e98_level0_col54\" class=\"col_heading level0 col54\" >Fwd Avg Bytes/Bulk</th>\n",
              "      <th id=\"T_34e98_level0_col55\" class=\"col_heading level0 col55\" > Fwd Avg Packets/Bulk</th>\n",
              "      <th id=\"T_34e98_level0_col56\" class=\"col_heading level0 col56\" > Fwd Avg Bulk Rate</th>\n",
              "      <th id=\"T_34e98_level0_col57\" class=\"col_heading level0 col57\" > Bwd Avg Bytes/Bulk</th>\n",
              "      <th id=\"T_34e98_level0_col58\" class=\"col_heading level0 col58\" > Bwd Avg Packets/Bulk</th>\n",
              "      <th id=\"T_34e98_level0_col59\" class=\"col_heading level0 col59\" >Bwd Avg Bulk Rate</th>\n",
              "      <th id=\"T_34e98_level0_col60\" class=\"col_heading level0 col60\" >Subflow Fwd Packets</th>\n",
              "      <th id=\"T_34e98_level0_col61\" class=\"col_heading level0 col61\" > Subflow Fwd Bytes</th>\n",
              "      <th id=\"T_34e98_level0_col62\" class=\"col_heading level0 col62\" > Subflow Bwd Packets</th>\n",
              "      <th id=\"T_34e98_level0_col63\" class=\"col_heading level0 col63\" > Subflow Bwd Bytes</th>\n",
              "      <th id=\"T_34e98_level0_col64\" class=\"col_heading level0 col64\" >Init_Win_bytes_forward</th>\n",
              "      <th id=\"T_34e98_level0_col65\" class=\"col_heading level0 col65\" > Init_Win_bytes_backward</th>\n",
              "      <th id=\"T_34e98_level0_col66\" class=\"col_heading level0 col66\" > act_data_pkt_fwd</th>\n",
              "      <th id=\"T_34e98_level0_col67\" class=\"col_heading level0 col67\" > min_seg_size_forward</th>\n",
              "      <th id=\"T_34e98_level0_col68\" class=\"col_heading level0 col68\" >Active Mean</th>\n",
              "      <th id=\"T_34e98_level0_col69\" class=\"col_heading level0 col69\" > Active Std</th>\n",
              "      <th id=\"T_34e98_level0_col70\" class=\"col_heading level0 col70\" > Active Max</th>\n",
              "      <th id=\"T_34e98_level0_col71\" class=\"col_heading level0 col71\" > Active Min</th>\n",
              "      <th id=\"T_34e98_level0_col72\" class=\"col_heading level0 col72\" >Idle Mean</th>\n",
              "      <th id=\"T_34e98_level0_col73\" class=\"col_heading level0 col73\" > Idle Std</th>\n",
              "      <th id=\"T_34e98_level0_col74\" class=\"col_heading level0 col74\" > Idle Max</th>\n",
              "      <th id=\"T_34e98_level0_col75\" class=\"col_heading level0 col75\" > Idle Min</th>\n",
              "      <th id=\"T_34e98_level0_col76\" class=\"col_heading level0 col76\" > Label</th>\n",
              "    </tr>\n",
              "  </thead>\n",
              "  <tbody>\n",
              "    <tr>\n",
              "      <th id=\"T_34e98_level0_row0\" class=\"row_heading level0 row0\" >0</th>\n",
              "      <td id=\"T_34e98_row0_col0\" class=\"data row0 col0\" >54865.000000</td>\n",
              "      <td id=\"T_34e98_row0_col1\" class=\"data row0 col1\" >3.000000</td>\n",
              "      <td id=\"T_34e98_row0_col2\" class=\"data row0 col2\" >2.000000</td>\n",
              "      <td id=\"T_34e98_row0_col3\" class=\"data row0 col3\" >0.000000</td>\n",
              "      <td id=\"T_34e98_row0_col4\" class=\"data row0 col4\" >12.000000</td>\n",
              "      <td id=\"T_34e98_row0_col5\" class=\"data row0 col5\" >0.000000</td>\n",
              "      <td id=\"T_34e98_row0_col6\" class=\"data row0 col6\" >6.000000</td>\n",
              "      <td id=\"T_34e98_row0_col7\" class=\"data row0 col7\" >6.000000</td>\n",
              "      <td id=\"T_34e98_row0_col8\" class=\"data row0 col8\" >6.000000</td>\n",
              "      <td id=\"T_34e98_row0_col9\" class=\"data row0 col9\" >0.000000</td>\n",
              "      <td id=\"T_34e98_row0_col10\" class=\"data row0 col10\" >0.000000</td>\n",
              "      <td id=\"T_34e98_row0_col11\" class=\"data row0 col11\" >0.000000</td>\n",
              "      <td id=\"T_34e98_row0_col12\" class=\"data row0 col12\" >0.000000</td>\n",
              "      <td id=\"T_34e98_row0_col13\" class=\"data row0 col13\" >0.000000</td>\n",
              "      <td id=\"T_34e98_row0_col14\" class=\"data row0 col14\" >3.000000</td>\n",
              "      <td id=\"T_34e98_row0_col15\" class=\"data row0 col15\" >0.000000</td>\n",
              "      <td id=\"T_34e98_row0_col16\" class=\"data row0 col16\" >3.000000</td>\n",
              "      <td id=\"T_34e98_row0_col17\" class=\"data row0 col17\" >3.000000</td>\n",
              "      <td id=\"T_34e98_row0_col18\" class=\"data row0 col18\" >3.000000</td>\n",
              "      <td id=\"T_34e98_row0_col19\" class=\"data row0 col19\" >3.000000</td>\n",
              "      <td id=\"T_34e98_row0_col20\" class=\"data row0 col20\" >0.000000</td>\n",
              "      <td id=\"T_34e98_row0_col21\" class=\"data row0 col21\" >3.000000</td>\n",
              "      <td id=\"T_34e98_row0_col22\" class=\"data row0 col22\" >3.000000</td>\n",
              "      <td id=\"T_34e98_row0_col23\" class=\"data row0 col23\" >0.000000</td>\n",
              "      <td id=\"T_34e98_row0_col24\" class=\"data row0 col24\" >0.000000</td>\n",
              "      <td id=\"T_34e98_row0_col25\" class=\"data row0 col25\" >0.000000</td>\n",
              "      <td id=\"T_34e98_row0_col26\" class=\"data row0 col26\" >0.000000</td>\n",
              "      <td id=\"T_34e98_row0_col27\" class=\"data row0 col27\" >0.000000</td>\n",
              "      <td id=\"T_34e98_row0_col28\" class=\"data row0 col28\" >0.000000</td>\n",
              "      <td id=\"T_34e98_row0_col29\" class=\"data row0 col29\" >0.000000</td>\n",
              "      <td id=\"T_34e98_row0_col30\" class=\"data row0 col30\" >0.000000</td>\n",
              "      <td id=\"T_34e98_row0_col31\" class=\"data row0 col31\" >0.000000</td>\n",
              "      <td id=\"T_34e98_row0_col32\" class=\"data row0 col32\" >40.000000</td>\n",
              "      <td id=\"T_34e98_row0_col33\" class=\"data row0 col33\" >0.000000</td>\n",
              "      <td id=\"T_34e98_row0_col34\" class=\"data row0 col34\" >666666.666700</td>\n",
              "      <td id=\"T_34e98_row0_col35\" class=\"data row0 col35\" >0.000000</td>\n",
              "      <td id=\"T_34e98_row0_col36\" class=\"data row0 col36\" >6.000000</td>\n",
              "      <td id=\"T_34e98_row0_col37\" class=\"data row0 col37\" >6.000000</td>\n",
              "      <td id=\"T_34e98_row0_col38\" class=\"data row0 col38\" >6.000000</td>\n",
              "      <td id=\"T_34e98_row0_col39\" class=\"data row0 col39\" >0.000000</td>\n",
              "      <td id=\"T_34e98_row0_col40\" class=\"data row0 col40\" >0.000000</td>\n",
              "      <td id=\"T_34e98_row0_col41\" class=\"data row0 col41\" >0.000000</td>\n",
              "      <td id=\"T_34e98_row0_col42\" class=\"data row0 col42\" >0.000000</td>\n",
              "      <td id=\"T_34e98_row0_col43\" class=\"data row0 col43\" >0.000000</td>\n",
              "      <td id=\"T_34e98_row0_col44\" class=\"data row0 col44\" >0.000000</td>\n",
              "      <td id=\"T_34e98_row0_col45\" class=\"data row0 col45\" >1.000000</td>\n",
              "      <td id=\"T_34e98_row0_col46\" class=\"data row0 col46\" >0.000000</td>\n",
              "      <td id=\"T_34e98_row0_col47\" class=\"data row0 col47\" >0.000000</td>\n",
              "      <td id=\"T_34e98_row0_col48\" class=\"data row0 col48\" >0.000000</td>\n",
              "      <td id=\"T_34e98_row0_col49\" class=\"data row0 col49\" >0.000000</td>\n",
              "      <td id=\"T_34e98_row0_col50\" class=\"data row0 col50\" >9.000000</td>\n",
              "      <td id=\"T_34e98_row0_col51\" class=\"data row0 col51\" >6.000000</td>\n",
              "      <td id=\"T_34e98_row0_col52\" class=\"data row0 col52\" >0.000000</td>\n",
              "      <td id=\"T_34e98_row0_col53\" class=\"data row0 col53\" >40.000000</td>\n",
              "      <td id=\"T_34e98_row0_col54\" class=\"data row0 col54\" >0.000000</td>\n",
              "      <td id=\"T_34e98_row0_col55\" class=\"data row0 col55\" >0.000000</td>\n",
              "      <td id=\"T_34e98_row0_col56\" class=\"data row0 col56\" >0.000000</td>\n",
              "      <td id=\"T_34e98_row0_col57\" class=\"data row0 col57\" >0.000000</td>\n",
              "      <td id=\"T_34e98_row0_col58\" class=\"data row0 col58\" >0.000000</td>\n",
              "      <td id=\"T_34e98_row0_col59\" class=\"data row0 col59\" >0.000000</td>\n",
              "      <td id=\"T_34e98_row0_col60\" class=\"data row0 col60\" >2.000000</td>\n",
              "      <td id=\"T_34e98_row0_col61\" class=\"data row0 col61\" >12.000000</td>\n",
              "      <td id=\"T_34e98_row0_col62\" class=\"data row0 col62\" >0.000000</td>\n",
              "      <td id=\"T_34e98_row0_col63\" class=\"data row0 col63\" >0.000000</td>\n",
              "      <td id=\"T_34e98_row0_col64\" class=\"data row0 col64\" >33.000000</td>\n",
              "      <td id=\"T_34e98_row0_col65\" class=\"data row0 col65\" >-1.000000</td>\n",
              "      <td id=\"T_34e98_row0_col66\" class=\"data row0 col66\" >1.000000</td>\n",
              "      <td id=\"T_34e98_row0_col67\" class=\"data row0 col67\" >20.000000</td>\n",
              "      <td id=\"T_34e98_row0_col68\" class=\"data row0 col68\" >0.000000</td>\n",
              "      <td id=\"T_34e98_row0_col69\" class=\"data row0 col69\" >0.000000</td>\n",
              "      <td id=\"T_34e98_row0_col70\" class=\"data row0 col70\" >0.000000</td>\n",
              "      <td id=\"T_34e98_row0_col71\" class=\"data row0 col71\" >0.000000</td>\n",
              "      <td id=\"T_34e98_row0_col72\" class=\"data row0 col72\" >0.000000</td>\n",
              "      <td id=\"T_34e98_row0_col73\" class=\"data row0 col73\" >0.000000</td>\n",
              "      <td id=\"T_34e98_row0_col74\" class=\"data row0 col74\" >0.000000</td>\n",
              "      <td id=\"T_34e98_row0_col75\" class=\"data row0 col75\" >0.000000</td>\n",
              "      <td id=\"T_34e98_row0_col76\" class=\"data row0 col76\" >0</td>\n",
              "    </tr>\n",
              "    <tr>\n",
              "      <th id=\"T_34e98_level0_row1\" class=\"row_heading level0 row1\" >1</th>\n",
              "      <td id=\"T_34e98_row1_col0\" class=\"data row1 col0\" >55054.000000</td>\n",
              "      <td id=\"T_34e98_row1_col1\" class=\"data row1 col1\" >109.000000</td>\n",
              "      <td id=\"T_34e98_row1_col2\" class=\"data row1 col2\" >1.000000</td>\n",
              "      <td id=\"T_34e98_row1_col3\" class=\"data row1 col3\" >1.000000</td>\n",
              "      <td id=\"T_34e98_row1_col4\" class=\"data row1 col4\" >6.000000</td>\n",
              "      <td id=\"T_34e98_row1_col5\" class=\"data row1 col5\" >6.000000</td>\n",
              "      <td id=\"T_34e98_row1_col6\" class=\"data row1 col6\" >6.000000</td>\n",
              "      <td id=\"T_34e98_row1_col7\" class=\"data row1 col7\" >6.000000</td>\n",
              "      <td id=\"T_34e98_row1_col8\" class=\"data row1 col8\" >6.000000</td>\n",
              "      <td id=\"T_34e98_row1_col9\" class=\"data row1 col9\" >0.000000</td>\n",
              "      <td id=\"T_34e98_row1_col10\" class=\"data row1 col10\" >6.000000</td>\n",
              "      <td id=\"T_34e98_row1_col11\" class=\"data row1 col11\" >6.000000</td>\n",
              "      <td id=\"T_34e98_row1_col12\" class=\"data row1 col12\" >6.000000</td>\n",
              "      <td id=\"T_34e98_row1_col13\" class=\"data row1 col13\" >0.000000</td>\n",
              "      <td id=\"T_34e98_row1_col14\" class=\"data row1 col14\" >109.000000</td>\n",
              "      <td id=\"T_34e98_row1_col15\" class=\"data row1 col15\" >0.000000</td>\n",
              "      <td id=\"T_34e98_row1_col16\" class=\"data row1 col16\" >109.000000</td>\n",
              "      <td id=\"T_34e98_row1_col17\" class=\"data row1 col17\" >109.000000</td>\n",
              "      <td id=\"T_34e98_row1_col18\" class=\"data row1 col18\" >0.000000</td>\n",
              "      <td id=\"T_34e98_row1_col19\" class=\"data row1 col19\" >0.000000</td>\n",
              "      <td id=\"T_34e98_row1_col20\" class=\"data row1 col20\" >0.000000</td>\n",
              "      <td id=\"T_34e98_row1_col21\" class=\"data row1 col21\" >0.000000</td>\n",
              "      <td id=\"T_34e98_row1_col22\" class=\"data row1 col22\" >0.000000</td>\n",
              "      <td id=\"T_34e98_row1_col23\" class=\"data row1 col23\" >0.000000</td>\n",
              "      <td id=\"T_34e98_row1_col24\" class=\"data row1 col24\" >0.000000</td>\n",
              "      <td id=\"T_34e98_row1_col25\" class=\"data row1 col25\" >0.000000</td>\n",
              "      <td id=\"T_34e98_row1_col26\" class=\"data row1 col26\" >0.000000</td>\n",
              "      <td id=\"T_34e98_row1_col27\" class=\"data row1 col27\" >0.000000</td>\n",
              "      <td id=\"T_34e98_row1_col28\" class=\"data row1 col28\" >0.000000</td>\n",
              "      <td id=\"T_34e98_row1_col29\" class=\"data row1 col29\" >0.000000</td>\n",
              "      <td id=\"T_34e98_row1_col30\" class=\"data row1 col30\" >0.000000</td>\n",
              "      <td id=\"T_34e98_row1_col31\" class=\"data row1 col31\" >0.000000</td>\n",
              "      <td id=\"T_34e98_row1_col32\" class=\"data row1 col32\" >20.000000</td>\n",
              "      <td id=\"T_34e98_row1_col33\" class=\"data row1 col33\" >20.000000</td>\n",
              "      <td id=\"T_34e98_row1_col34\" class=\"data row1 col34\" >9174.311927</td>\n",
              "      <td id=\"T_34e98_row1_col35\" class=\"data row1 col35\" >9174.311927</td>\n",
              "      <td id=\"T_34e98_row1_col36\" class=\"data row1 col36\" >6.000000</td>\n",
              "      <td id=\"T_34e98_row1_col37\" class=\"data row1 col37\" >6.000000</td>\n",
              "      <td id=\"T_34e98_row1_col38\" class=\"data row1 col38\" >6.000000</td>\n",
              "      <td id=\"T_34e98_row1_col39\" class=\"data row1 col39\" >0.000000</td>\n",
              "      <td id=\"T_34e98_row1_col40\" class=\"data row1 col40\" >0.000000</td>\n",
              "      <td id=\"T_34e98_row1_col41\" class=\"data row1 col41\" >0.000000</td>\n",
              "      <td id=\"T_34e98_row1_col42\" class=\"data row1 col42\" >0.000000</td>\n",
              "      <td id=\"T_34e98_row1_col43\" class=\"data row1 col43\" >0.000000</td>\n",
              "      <td id=\"T_34e98_row1_col44\" class=\"data row1 col44\" >0.000000</td>\n",
              "      <td id=\"T_34e98_row1_col45\" class=\"data row1 col45\" >1.000000</td>\n",
              "      <td id=\"T_34e98_row1_col46\" class=\"data row1 col46\" >1.000000</td>\n",
              "      <td id=\"T_34e98_row1_col47\" class=\"data row1 col47\" >0.000000</td>\n",
              "      <td id=\"T_34e98_row1_col48\" class=\"data row1 col48\" >0.000000</td>\n",
              "      <td id=\"T_34e98_row1_col49\" class=\"data row1 col49\" >1.000000</td>\n",
              "      <td id=\"T_34e98_row1_col50\" class=\"data row1 col50\" >9.000000</td>\n",
              "      <td id=\"T_34e98_row1_col51\" class=\"data row1 col51\" >6.000000</td>\n",
              "      <td id=\"T_34e98_row1_col52\" class=\"data row1 col52\" >6.000000</td>\n",
              "      <td id=\"T_34e98_row1_col53\" class=\"data row1 col53\" >20.000000</td>\n",
              "      <td id=\"T_34e98_row1_col54\" class=\"data row1 col54\" >0.000000</td>\n",
              "      <td id=\"T_34e98_row1_col55\" class=\"data row1 col55\" >0.000000</td>\n",
              "      <td id=\"T_34e98_row1_col56\" class=\"data row1 col56\" >0.000000</td>\n",
              "      <td id=\"T_34e98_row1_col57\" class=\"data row1 col57\" >0.000000</td>\n",
              "      <td id=\"T_34e98_row1_col58\" class=\"data row1 col58\" >0.000000</td>\n",
              "      <td id=\"T_34e98_row1_col59\" class=\"data row1 col59\" >0.000000</td>\n",
              "      <td id=\"T_34e98_row1_col60\" class=\"data row1 col60\" >1.000000</td>\n",
              "      <td id=\"T_34e98_row1_col61\" class=\"data row1 col61\" >6.000000</td>\n",
              "      <td id=\"T_34e98_row1_col62\" class=\"data row1 col62\" >1.000000</td>\n",
              "      <td id=\"T_34e98_row1_col63\" class=\"data row1 col63\" >6.000000</td>\n",
              "      <td id=\"T_34e98_row1_col64\" class=\"data row1 col64\" >29.000000</td>\n",
              "      <td id=\"T_34e98_row1_col65\" class=\"data row1 col65\" >256.000000</td>\n",
              "      <td id=\"T_34e98_row1_col66\" class=\"data row1 col66\" >0.000000</td>\n",
              "      <td id=\"T_34e98_row1_col67\" class=\"data row1 col67\" >20.000000</td>\n",
              "      <td id=\"T_34e98_row1_col68\" class=\"data row1 col68\" >0.000000</td>\n",
              "      <td id=\"T_34e98_row1_col69\" class=\"data row1 col69\" >0.000000</td>\n",
              "      <td id=\"T_34e98_row1_col70\" class=\"data row1 col70\" >0.000000</td>\n",
              "      <td id=\"T_34e98_row1_col71\" class=\"data row1 col71\" >0.000000</td>\n",
              "      <td id=\"T_34e98_row1_col72\" class=\"data row1 col72\" >0.000000</td>\n",
              "      <td id=\"T_34e98_row1_col73\" class=\"data row1 col73\" >0.000000</td>\n",
              "      <td id=\"T_34e98_row1_col74\" class=\"data row1 col74\" >0.000000</td>\n",
              "      <td id=\"T_34e98_row1_col75\" class=\"data row1 col75\" >0.000000</td>\n",
              "      <td id=\"T_34e98_row1_col76\" class=\"data row1 col76\" >0</td>\n",
              "    </tr>\n",
              "    <tr>\n",
              "      <th id=\"T_34e98_level0_row2\" class=\"row_heading level0 row2\" >2</th>\n",
              "      <td id=\"T_34e98_row2_col0\" class=\"data row2 col0\" >55055.000000</td>\n",
              "      <td id=\"T_34e98_row2_col1\" class=\"data row2 col1\" >52.000000</td>\n",
              "      <td id=\"T_34e98_row2_col2\" class=\"data row2 col2\" >1.000000</td>\n",
              "      <td id=\"T_34e98_row2_col3\" class=\"data row2 col3\" >1.000000</td>\n",
              "      <td id=\"T_34e98_row2_col4\" class=\"data row2 col4\" >6.000000</td>\n",
              "      <td id=\"T_34e98_row2_col5\" class=\"data row2 col5\" >6.000000</td>\n",
              "      <td id=\"T_34e98_row2_col6\" class=\"data row2 col6\" >6.000000</td>\n",
              "      <td id=\"T_34e98_row2_col7\" class=\"data row2 col7\" >6.000000</td>\n",
              "      <td id=\"T_34e98_row2_col8\" class=\"data row2 col8\" >6.000000</td>\n",
              "      <td id=\"T_34e98_row2_col9\" class=\"data row2 col9\" >0.000000</td>\n",
              "      <td id=\"T_34e98_row2_col10\" class=\"data row2 col10\" >6.000000</td>\n",
              "      <td id=\"T_34e98_row2_col11\" class=\"data row2 col11\" >6.000000</td>\n",
              "      <td id=\"T_34e98_row2_col12\" class=\"data row2 col12\" >6.000000</td>\n",
              "      <td id=\"T_34e98_row2_col13\" class=\"data row2 col13\" >0.000000</td>\n",
              "      <td id=\"T_34e98_row2_col14\" class=\"data row2 col14\" >52.000000</td>\n",
              "      <td id=\"T_34e98_row2_col15\" class=\"data row2 col15\" >0.000000</td>\n",
              "      <td id=\"T_34e98_row2_col16\" class=\"data row2 col16\" >52.000000</td>\n",
              "      <td id=\"T_34e98_row2_col17\" class=\"data row2 col17\" >52.000000</td>\n",
              "      <td id=\"T_34e98_row2_col18\" class=\"data row2 col18\" >0.000000</td>\n",
              "      <td id=\"T_34e98_row2_col19\" class=\"data row2 col19\" >0.000000</td>\n",
              "      <td id=\"T_34e98_row2_col20\" class=\"data row2 col20\" >0.000000</td>\n",
              "      <td id=\"T_34e98_row2_col21\" class=\"data row2 col21\" >0.000000</td>\n",
              "      <td id=\"T_34e98_row2_col22\" class=\"data row2 col22\" >0.000000</td>\n",
              "      <td id=\"T_34e98_row2_col23\" class=\"data row2 col23\" >0.000000</td>\n",
              "      <td id=\"T_34e98_row2_col24\" class=\"data row2 col24\" >0.000000</td>\n",
              "      <td id=\"T_34e98_row2_col25\" class=\"data row2 col25\" >0.000000</td>\n",
              "      <td id=\"T_34e98_row2_col26\" class=\"data row2 col26\" >0.000000</td>\n",
              "      <td id=\"T_34e98_row2_col27\" class=\"data row2 col27\" >0.000000</td>\n",
              "      <td id=\"T_34e98_row2_col28\" class=\"data row2 col28\" >0.000000</td>\n",
              "      <td id=\"T_34e98_row2_col29\" class=\"data row2 col29\" >0.000000</td>\n",
              "      <td id=\"T_34e98_row2_col30\" class=\"data row2 col30\" >0.000000</td>\n",
              "      <td id=\"T_34e98_row2_col31\" class=\"data row2 col31\" >0.000000</td>\n",
              "      <td id=\"T_34e98_row2_col32\" class=\"data row2 col32\" >20.000000</td>\n",
              "      <td id=\"T_34e98_row2_col33\" class=\"data row2 col33\" >20.000000</td>\n",
              "      <td id=\"T_34e98_row2_col34\" class=\"data row2 col34\" >19230.769230</td>\n",
              "      <td id=\"T_34e98_row2_col35\" class=\"data row2 col35\" >19230.769230</td>\n",
              "      <td id=\"T_34e98_row2_col36\" class=\"data row2 col36\" >6.000000</td>\n",
              "      <td id=\"T_34e98_row2_col37\" class=\"data row2 col37\" >6.000000</td>\n",
              "      <td id=\"T_34e98_row2_col38\" class=\"data row2 col38\" >6.000000</td>\n",
              "      <td id=\"T_34e98_row2_col39\" class=\"data row2 col39\" >0.000000</td>\n",
              "      <td id=\"T_34e98_row2_col40\" class=\"data row2 col40\" >0.000000</td>\n",
              "      <td id=\"T_34e98_row2_col41\" class=\"data row2 col41\" >0.000000</td>\n",
              "      <td id=\"T_34e98_row2_col42\" class=\"data row2 col42\" >0.000000</td>\n",
              "      <td id=\"T_34e98_row2_col43\" class=\"data row2 col43\" >0.000000</td>\n",
              "      <td id=\"T_34e98_row2_col44\" class=\"data row2 col44\" >0.000000</td>\n",
              "      <td id=\"T_34e98_row2_col45\" class=\"data row2 col45\" >1.000000</td>\n",
              "      <td id=\"T_34e98_row2_col46\" class=\"data row2 col46\" >1.000000</td>\n",
              "      <td id=\"T_34e98_row2_col47\" class=\"data row2 col47\" >0.000000</td>\n",
              "      <td id=\"T_34e98_row2_col48\" class=\"data row2 col48\" >0.000000</td>\n",
              "      <td id=\"T_34e98_row2_col49\" class=\"data row2 col49\" >1.000000</td>\n",
              "      <td id=\"T_34e98_row2_col50\" class=\"data row2 col50\" >9.000000</td>\n",
              "      <td id=\"T_34e98_row2_col51\" class=\"data row2 col51\" >6.000000</td>\n",
              "      <td id=\"T_34e98_row2_col52\" class=\"data row2 col52\" >6.000000</td>\n",
              "      <td id=\"T_34e98_row2_col53\" class=\"data row2 col53\" >20.000000</td>\n",
              "      <td id=\"T_34e98_row2_col54\" class=\"data row2 col54\" >0.000000</td>\n",
              "      <td id=\"T_34e98_row2_col55\" class=\"data row2 col55\" >0.000000</td>\n",
              "      <td id=\"T_34e98_row2_col56\" class=\"data row2 col56\" >0.000000</td>\n",
              "      <td id=\"T_34e98_row2_col57\" class=\"data row2 col57\" >0.000000</td>\n",
              "      <td id=\"T_34e98_row2_col58\" class=\"data row2 col58\" >0.000000</td>\n",
              "      <td id=\"T_34e98_row2_col59\" class=\"data row2 col59\" >0.000000</td>\n",
              "      <td id=\"T_34e98_row2_col60\" class=\"data row2 col60\" >1.000000</td>\n",
              "      <td id=\"T_34e98_row2_col61\" class=\"data row2 col61\" >6.000000</td>\n",
              "      <td id=\"T_34e98_row2_col62\" class=\"data row2 col62\" >1.000000</td>\n",
              "      <td id=\"T_34e98_row2_col63\" class=\"data row2 col63\" >6.000000</td>\n",
              "      <td id=\"T_34e98_row2_col64\" class=\"data row2 col64\" >29.000000</td>\n",
              "      <td id=\"T_34e98_row2_col65\" class=\"data row2 col65\" >256.000000</td>\n",
              "      <td id=\"T_34e98_row2_col66\" class=\"data row2 col66\" >0.000000</td>\n",
              "      <td id=\"T_34e98_row2_col67\" class=\"data row2 col67\" >20.000000</td>\n",
              "      <td id=\"T_34e98_row2_col68\" class=\"data row2 col68\" >0.000000</td>\n",
              "      <td id=\"T_34e98_row2_col69\" class=\"data row2 col69\" >0.000000</td>\n",
              "      <td id=\"T_34e98_row2_col70\" class=\"data row2 col70\" >0.000000</td>\n",
              "      <td id=\"T_34e98_row2_col71\" class=\"data row2 col71\" >0.000000</td>\n",
              "      <td id=\"T_34e98_row2_col72\" class=\"data row2 col72\" >0.000000</td>\n",
              "      <td id=\"T_34e98_row2_col73\" class=\"data row2 col73\" >0.000000</td>\n",
              "      <td id=\"T_34e98_row2_col74\" class=\"data row2 col74\" >0.000000</td>\n",
              "      <td id=\"T_34e98_row2_col75\" class=\"data row2 col75\" >0.000000</td>\n",
              "      <td id=\"T_34e98_row2_col76\" class=\"data row2 col76\" >0</td>\n",
              "    </tr>\n",
              "    <tr>\n",
              "      <th id=\"T_34e98_level0_row3\" class=\"row_heading level0 row3\" >3</th>\n",
              "      <td id=\"T_34e98_row3_col0\" class=\"data row3 col0\" >46236.000000</td>\n",
              "      <td id=\"T_34e98_row3_col1\" class=\"data row3 col1\" >34.000000</td>\n",
              "      <td id=\"T_34e98_row3_col2\" class=\"data row3 col2\" >1.000000</td>\n",
              "      <td id=\"T_34e98_row3_col3\" class=\"data row3 col3\" >1.000000</td>\n",
              "      <td id=\"T_34e98_row3_col4\" class=\"data row3 col4\" >6.000000</td>\n",
              "      <td id=\"T_34e98_row3_col5\" class=\"data row3 col5\" >6.000000</td>\n",
              "      <td id=\"T_34e98_row3_col6\" class=\"data row3 col6\" >6.000000</td>\n",
              "      <td id=\"T_34e98_row3_col7\" class=\"data row3 col7\" >6.000000</td>\n",
              "      <td id=\"T_34e98_row3_col8\" class=\"data row3 col8\" >6.000000</td>\n",
              "      <td id=\"T_34e98_row3_col9\" class=\"data row3 col9\" >0.000000</td>\n",
              "      <td id=\"T_34e98_row3_col10\" class=\"data row3 col10\" >6.000000</td>\n",
              "      <td id=\"T_34e98_row3_col11\" class=\"data row3 col11\" >6.000000</td>\n",
              "      <td id=\"T_34e98_row3_col12\" class=\"data row3 col12\" >6.000000</td>\n",
              "      <td id=\"T_34e98_row3_col13\" class=\"data row3 col13\" >0.000000</td>\n",
              "      <td id=\"T_34e98_row3_col14\" class=\"data row3 col14\" >34.000000</td>\n",
              "      <td id=\"T_34e98_row3_col15\" class=\"data row3 col15\" >0.000000</td>\n",
              "      <td id=\"T_34e98_row3_col16\" class=\"data row3 col16\" >34.000000</td>\n",
              "      <td id=\"T_34e98_row3_col17\" class=\"data row3 col17\" >34.000000</td>\n",
              "      <td id=\"T_34e98_row3_col18\" class=\"data row3 col18\" >0.000000</td>\n",
              "      <td id=\"T_34e98_row3_col19\" class=\"data row3 col19\" >0.000000</td>\n",
              "      <td id=\"T_34e98_row3_col20\" class=\"data row3 col20\" >0.000000</td>\n",
              "      <td id=\"T_34e98_row3_col21\" class=\"data row3 col21\" >0.000000</td>\n",
              "      <td id=\"T_34e98_row3_col22\" class=\"data row3 col22\" >0.000000</td>\n",
              "      <td id=\"T_34e98_row3_col23\" class=\"data row3 col23\" >0.000000</td>\n",
              "      <td id=\"T_34e98_row3_col24\" class=\"data row3 col24\" >0.000000</td>\n",
              "      <td id=\"T_34e98_row3_col25\" class=\"data row3 col25\" >0.000000</td>\n",
              "      <td id=\"T_34e98_row3_col26\" class=\"data row3 col26\" >0.000000</td>\n",
              "      <td id=\"T_34e98_row3_col27\" class=\"data row3 col27\" >0.000000</td>\n",
              "      <td id=\"T_34e98_row3_col28\" class=\"data row3 col28\" >0.000000</td>\n",
              "      <td id=\"T_34e98_row3_col29\" class=\"data row3 col29\" >0.000000</td>\n",
              "      <td id=\"T_34e98_row3_col30\" class=\"data row3 col30\" >0.000000</td>\n",
              "      <td id=\"T_34e98_row3_col31\" class=\"data row3 col31\" >0.000000</td>\n",
              "      <td id=\"T_34e98_row3_col32\" class=\"data row3 col32\" >20.000000</td>\n",
              "      <td id=\"T_34e98_row3_col33\" class=\"data row3 col33\" >20.000000</td>\n",
              "      <td id=\"T_34e98_row3_col34\" class=\"data row3 col34\" >29411.764710</td>\n",
              "      <td id=\"T_34e98_row3_col35\" class=\"data row3 col35\" >29411.764710</td>\n",
              "      <td id=\"T_34e98_row3_col36\" class=\"data row3 col36\" >6.000000</td>\n",
              "      <td id=\"T_34e98_row3_col37\" class=\"data row3 col37\" >6.000000</td>\n",
              "      <td id=\"T_34e98_row3_col38\" class=\"data row3 col38\" >6.000000</td>\n",
              "      <td id=\"T_34e98_row3_col39\" class=\"data row3 col39\" >0.000000</td>\n",
              "      <td id=\"T_34e98_row3_col40\" class=\"data row3 col40\" >0.000000</td>\n",
              "      <td id=\"T_34e98_row3_col41\" class=\"data row3 col41\" >0.000000</td>\n",
              "      <td id=\"T_34e98_row3_col42\" class=\"data row3 col42\" >0.000000</td>\n",
              "      <td id=\"T_34e98_row3_col43\" class=\"data row3 col43\" >0.000000</td>\n",
              "      <td id=\"T_34e98_row3_col44\" class=\"data row3 col44\" >0.000000</td>\n",
              "      <td id=\"T_34e98_row3_col45\" class=\"data row3 col45\" >1.000000</td>\n",
              "      <td id=\"T_34e98_row3_col46\" class=\"data row3 col46\" >1.000000</td>\n",
              "      <td id=\"T_34e98_row3_col47\" class=\"data row3 col47\" >0.000000</td>\n",
              "      <td id=\"T_34e98_row3_col48\" class=\"data row3 col48\" >0.000000</td>\n",
              "      <td id=\"T_34e98_row3_col49\" class=\"data row3 col49\" >1.000000</td>\n",
              "      <td id=\"T_34e98_row3_col50\" class=\"data row3 col50\" >9.000000</td>\n",
              "      <td id=\"T_34e98_row3_col51\" class=\"data row3 col51\" >6.000000</td>\n",
              "      <td id=\"T_34e98_row3_col52\" class=\"data row3 col52\" >6.000000</td>\n",
              "      <td id=\"T_34e98_row3_col53\" class=\"data row3 col53\" >20.000000</td>\n",
              "      <td id=\"T_34e98_row3_col54\" class=\"data row3 col54\" >0.000000</td>\n",
              "      <td id=\"T_34e98_row3_col55\" class=\"data row3 col55\" >0.000000</td>\n",
              "      <td id=\"T_34e98_row3_col56\" class=\"data row3 col56\" >0.000000</td>\n",
              "      <td id=\"T_34e98_row3_col57\" class=\"data row3 col57\" >0.000000</td>\n",
              "      <td id=\"T_34e98_row3_col58\" class=\"data row3 col58\" >0.000000</td>\n",
              "      <td id=\"T_34e98_row3_col59\" class=\"data row3 col59\" >0.000000</td>\n",
              "      <td id=\"T_34e98_row3_col60\" class=\"data row3 col60\" >1.000000</td>\n",
              "      <td id=\"T_34e98_row3_col61\" class=\"data row3 col61\" >6.000000</td>\n",
              "      <td id=\"T_34e98_row3_col62\" class=\"data row3 col62\" >1.000000</td>\n",
              "      <td id=\"T_34e98_row3_col63\" class=\"data row3 col63\" >6.000000</td>\n",
              "      <td id=\"T_34e98_row3_col64\" class=\"data row3 col64\" >31.000000</td>\n",
              "      <td id=\"T_34e98_row3_col65\" class=\"data row3 col65\" >329.000000</td>\n",
              "      <td id=\"T_34e98_row3_col66\" class=\"data row3 col66\" >0.000000</td>\n",
              "      <td id=\"T_34e98_row3_col67\" class=\"data row3 col67\" >20.000000</td>\n",
              "      <td id=\"T_34e98_row3_col68\" class=\"data row3 col68\" >0.000000</td>\n",
              "      <td id=\"T_34e98_row3_col69\" class=\"data row3 col69\" >0.000000</td>\n",
              "      <td id=\"T_34e98_row3_col70\" class=\"data row3 col70\" >0.000000</td>\n",
              "      <td id=\"T_34e98_row3_col71\" class=\"data row3 col71\" >0.000000</td>\n",
              "      <td id=\"T_34e98_row3_col72\" class=\"data row3 col72\" >0.000000</td>\n",
              "      <td id=\"T_34e98_row3_col73\" class=\"data row3 col73\" >0.000000</td>\n",
              "      <td id=\"T_34e98_row3_col74\" class=\"data row3 col74\" >0.000000</td>\n",
              "      <td id=\"T_34e98_row3_col75\" class=\"data row3 col75\" >0.000000</td>\n",
              "      <td id=\"T_34e98_row3_col76\" class=\"data row3 col76\" >0</td>\n",
              "    </tr>\n",
              "    <tr>\n",
              "      <th id=\"T_34e98_level0_row4\" class=\"row_heading level0 row4\" >4</th>\n",
              "      <td id=\"T_34e98_row4_col0\" class=\"data row4 col0\" >54863.000000</td>\n",
              "      <td id=\"T_34e98_row4_col1\" class=\"data row4 col1\" >3.000000</td>\n",
              "      <td id=\"T_34e98_row4_col2\" class=\"data row4 col2\" >2.000000</td>\n",
              "      <td id=\"T_34e98_row4_col3\" class=\"data row4 col3\" >0.000000</td>\n",
              "      <td id=\"T_34e98_row4_col4\" class=\"data row4 col4\" >12.000000</td>\n",
              "      <td id=\"T_34e98_row4_col5\" class=\"data row4 col5\" >0.000000</td>\n",
              "      <td id=\"T_34e98_row4_col6\" class=\"data row4 col6\" >6.000000</td>\n",
              "      <td id=\"T_34e98_row4_col7\" class=\"data row4 col7\" >6.000000</td>\n",
              "      <td id=\"T_34e98_row4_col8\" class=\"data row4 col8\" >6.000000</td>\n",
              "      <td id=\"T_34e98_row4_col9\" class=\"data row4 col9\" >0.000000</td>\n",
              "      <td id=\"T_34e98_row4_col10\" class=\"data row4 col10\" >0.000000</td>\n",
              "      <td id=\"T_34e98_row4_col11\" class=\"data row4 col11\" >0.000000</td>\n",
              "      <td id=\"T_34e98_row4_col12\" class=\"data row4 col12\" >0.000000</td>\n",
              "      <td id=\"T_34e98_row4_col13\" class=\"data row4 col13\" >0.000000</td>\n",
              "      <td id=\"T_34e98_row4_col14\" class=\"data row4 col14\" >3.000000</td>\n",
              "      <td id=\"T_34e98_row4_col15\" class=\"data row4 col15\" >0.000000</td>\n",
              "      <td id=\"T_34e98_row4_col16\" class=\"data row4 col16\" >3.000000</td>\n",
              "      <td id=\"T_34e98_row4_col17\" class=\"data row4 col17\" >3.000000</td>\n",
              "      <td id=\"T_34e98_row4_col18\" class=\"data row4 col18\" >3.000000</td>\n",
              "      <td id=\"T_34e98_row4_col19\" class=\"data row4 col19\" >3.000000</td>\n",
              "      <td id=\"T_34e98_row4_col20\" class=\"data row4 col20\" >0.000000</td>\n",
              "      <td id=\"T_34e98_row4_col21\" class=\"data row4 col21\" >3.000000</td>\n",
              "      <td id=\"T_34e98_row4_col22\" class=\"data row4 col22\" >3.000000</td>\n",
              "      <td id=\"T_34e98_row4_col23\" class=\"data row4 col23\" >0.000000</td>\n",
              "      <td id=\"T_34e98_row4_col24\" class=\"data row4 col24\" >0.000000</td>\n",
              "      <td id=\"T_34e98_row4_col25\" class=\"data row4 col25\" >0.000000</td>\n",
              "      <td id=\"T_34e98_row4_col26\" class=\"data row4 col26\" >0.000000</td>\n",
              "      <td id=\"T_34e98_row4_col27\" class=\"data row4 col27\" >0.000000</td>\n",
              "      <td id=\"T_34e98_row4_col28\" class=\"data row4 col28\" >0.000000</td>\n",
              "      <td id=\"T_34e98_row4_col29\" class=\"data row4 col29\" >0.000000</td>\n",
              "      <td id=\"T_34e98_row4_col30\" class=\"data row4 col30\" >0.000000</td>\n",
              "      <td id=\"T_34e98_row4_col31\" class=\"data row4 col31\" >0.000000</td>\n",
              "      <td id=\"T_34e98_row4_col32\" class=\"data row4 col32\" >40.000000</td>\n",
              "      <td id=\"T_34e98_row4_col33\" class=\"data row4 col33\" >0.000000</td>\n",
              "      <td id=\"T_34e98_row4_col34\" class=\"data row4 col34\" >666666.666700</td>\n",
              "      <td id=\"T_34e98_row4_col35\" class=\"data row4 col35\" >0.000000</td>\n",
              "      <td id=\"T_34e98_row4_col36\" class=\"data row4 col36\" >6.000000</td>\n",
              "      <td id=\"T_34e98_row4_col37\" class=\"data row4 col37\" >6.000000</td>\n",
              "      <td id=\"T_34e98_row4_col38\" class=\"data row4 col38\" >6.000000</td>\n",
              "      <td id=\"T_34e98_row4_col39\" class=\"data row4 col39\" >0.000000</td>\n",
              "      <td id=\"T_34e98_row4_col40\" class=\"data row4 col40\" >0.000000</td>\n",
              "      <td id=\"T_34e98_row4_col41\" class=\"data row4 col41\" >0.000000</td>\n",
              "      <td id=\"T_34e98_row4_col42\" class=\"data row4 col42\" >0.000000</td>\n",
              "      <td id=\"T_34e98_row4_col43\" class=\"data row4 col43\" >0.000000</td>\n",
              "      <td id=\"T_34e98_row4_col44\" class=\"data row4 col44\" >0.000000</td>\n",
              "      <td id=\"T_34e98_row4_col45\" class=\"data row4 col45\" >1.000000</td>\n",
              "      <td id=\"T_34e98_row4_col46\" class=\"data row4 col46\" >0.000000</td>\n",
              "      <td id=\"T_34e98_row4_col47\" class=\"data row4 col47\" >0.000000</td>\n",
              "      <td id=\"T_34e98_row4_col48\" class=\"data row4 col48\" >0.000000</td>\n",
              "      <td id=\"T_34e98_row4_col49\" class=\"data row4 col49\" >0.000000</td>\n",
              "      <td id=\"T_34e98_row4_col50\" class=\"data row4 col50\" >9.000000</td>\n",
              "      <td id=\"T_34e98_row4_col51\" class=\"data row4 col51\" >6.000000</td>\n",
              "      <td id=\"T_34e98_row4_col52\" class=\"data row4 col52\" >0.000000</td>\n",
              "      <td id=\"T_34e98_row4_col53\" class=\"data row4 col53\" >40.000000</td>\n",
              "      <td id=\"T_34e98_row4_col54\" class=\"data row4 col54\" >0.000000</td>\n",
              "      <td id=\"T_34e98_row4_col55\" class=\"data row4 col55\" >0.000000</td>\n",
              "      <td id=\"T_34e98_row4_col56\" class=\"data row4 col56\" >0.000000</td>\n",
              "      <td id=\"T_34e98_row4_col57\" class=\"data row4 col57\" >0.000000</td>\n",
              "      <td id=\"T_34e98_row4_col58\" class=\"data row4 col58\" >0.000000</td>\n",
              "      <td id=\"T_34e98_row4_col59\" class=\"data row4 col59\" >0.000000</td>\n",
              "      <td id=\"T_34e98_row4_col60\" class=\"data row4 col60\" >2.000000</td>\n",
              "      <td id=\"T_34e98_row4_col61\" class=\"data row4 col61\" >12.000000</td>\n",
              "      <td id=\"T_34e98_row4_col62\" class=\"data row4 col62\" >0.000000</td>\n",
              "      <td id=\"T_34e98_row4_col63\" class=\"data row4 col63\" >0.000000</td>\n",
              "      <td id=\"T_34e98_row4_col64\" class=\"data row4 col64\" >32.000000</td>\n",
              "      <td id=\"T_34e98_row4_col65\" class=\"data row4 col65\" >-1.000000</td>\n",
              "      <td id=\"T_34e98_row4_col66\" class=\"data row4 col66\" >1.000000</td>\n",
              "      <td id=\"T_34e98_row4_col67\" class=\"data row4 col67\" >20.000000</td>\n",
              "      <td id=\"T_34e98_row4_col68\" class=\"data row4 col68\" >0.000000</td>\n",
              "      <td id=\"T_34e98_row4_col69\" class=\"data row4 col69\" >0.000000</td>\n",
              "      <td id=\"T_34e98_row4_col70\" class=\"data row4 col70\" >0.000000</td>\n",
              "      <td id=\"T_34e98_row4_col71\" class=\"data row4 col71\" >0.000000</td>\n",
              "      <td id=\"T_34e98_row4_col72\" class=\"data row4 col72\" >0.000000</td>\n",
              "      <td id=\"T_34e98_row4_col73\" class=\"data row4 col73\" >0.000000</td>\n",
              "      <td id=\"T_34e98_row4_col74\" class=\"data row4 col74\" >0.000000</td>\n",
              "      <td id=\"T_34e98_row4_col75\" class=\"data row4 col75\" >0.000000</td>\n",
              "      <td id=\"T_34e98_row4_col76\" class=\"data row4 col76\" >0</td>\n",
              "    </tr>\n",
              "  </tbody>\n",
              "</table>\n"
            ],
            "text/plain": [
              "<pandas.io.formats.style.Styler at 0x7f2b744880a0>"
            ]
          },
          "execution_count": 12,
          "metadata": {},
          "output_type": "execute_result"
        }
      ],
      "source": [
        "\n",
        "le = LabelEncoder()\n",
        "new_df[' Label']= le.fit_transform(new_df[' Label'])\n",
        "new_df.head().style"
      ]
    },
    {
      "cell_type": "code",
      "execution_count": null,
      "metadata": {
        "colab": {
          "base_uri": "https://localhost:8080/",
          "height": 428
        },
        "id": "BP354BKO5Da5",
        "outputId": "18d93778-93e0-4a6a-dccf-aaa38e8d2052"
      },
      "outputs": [
        {
          "data": {
            "text/html": [
              "\n",
              "  <div id=\"df-ef369bec-07c0-4c73-9562-249980240caf\">\n",
              "    <div class=\"colab-df-container\">\n",
              "      <div>\n",
              "<style scoped>\n",
              "    .dataframe tbody tr th:only-of-type {\n",
              "        vertical-align: middle;\n",
              "    }\n",
              "\n",
              "    .dataframe tbody tr th {\n",
              "        vertical-align: top;\n",
              "    }\n",
              "\n",
              "    .dataframe thead th {\n",
              "        text-align: right;\n",
              "    }\n",
              "</style>\n",
              "<table border=\"1\" class=\"dataframe\">\n",
              "  <thead>\n",
              "    <tr style=\"text-align: right;\">\n",
              "      <th></th>\n",
              "      <th>Destination Port</th>\n",
              "      <th>Flow Duration</th>\n",
              "      <th>Total Fwd Packets</th>\n",
              "      <th>Total Backward Packets</th>\n",
              "      <th>Total Length of Fwd Packets</th>\n",
              "      <th>Total Length of Bwd Packets</th>\n",
              "      <th>Fwd Packet Length Max</th>\n",
              "      <th>Fwd Packet Length Min</th>\n",
              "      <th>Fwd Packet Length Mean</th>\n",
              "      <th>Fwd Packet Length Std</th>\n",
              "      <th>...</th>\n",
              "      <th>min_seg_size_forward</th>\n",
              "      <th>Active Mean</th>\n",
              "      <th>Active Std</th>\n",
              "      <th>Active Max</th>\n",
              "      <th>Active Min</th>\n",
              "      <th>Idle Mean</th>\n",
              "      <th>Idle Std</th>\n",
              "      <th>Idle Max</th>\n",
              "      <th>Idle Min</th>\n",
              "      <th>Label</th>\n",
              "    </tr>\n",
              "  </thead>\n",
              "  <tbody>\n",
              "    <tr>\n",
              "      <th>count</th>\n",
              "      <td>225745.00000</td>\n",
              "      <td>2.257450e+05</td>\n",
              "      <td>225745.000000</td>\n",
              "      <td>225745.000000</td>\n",
              "      <td>225745.000000</td>\n",
              "      <td>2.257450e+05</td>\n",
              "      <td>225745.000000</td>\n",
              "      <td>225745.000000</td>\n",
              "      <td>225745.000000</td>\n",
              "      <td>225745.000000</td>\n",
              "      <td>...</td>\n",
              "      <td>225745.000000</td>\n",
              "      <td>2.257450e+05</td>\n",
              "      <td>2.257450e+05</td>\n",
              "      <td>2.257450e+05</td>\n",
              "      <td>2.257450e+05</td>\n",
              "      <td>2.257450e+05</td>\n",
              "      <td>2.257450e+05</td>\n",
              "      <td>2.257450e+05</td>\n",
              "      <td>2.257450e+05</td>\n",
              "      <td>225745.000000</td>\n",
              "    </tr>\n",
              "    <tr>\n",
              "      <th>mean</th>\n",
              "      <td>8879.61946</td>\n",
              "      <td>1.624165e+07</td>\n",
              "      <td>4.874916</td>\n",
              "      <td>4.572775</td>\n",
              "      <td>939.463346</td>\n",
              "      <td>5.960477e+03</td>\n",
              "      <td>538.535693</td>\n",
              "      <td>27.882221</td>\n",
              "      <td>164.826715</td>\n",
              "      <td>214.907242</td>\n",
              "      <td>...</td>\n",
              "      <td>21.482753</td>\n",
              "      <td>1.848261e+05</td>\n",
              "      <td>1.293436e+04</td>\n",
              "      <td>2.080849e+05</td>\n",
              "      <td>1.776201e+05</td>\n",
              "      <td>1.032214e+07</td>\n",
              "      <td>3.611943e+06</td>\n",
              "      <td>1.287813e+07</td>\n",
              "      <td>7.755355e+06</td>\n",
              "      <td>0.567131</td>\n",
              "    </tr>\n",
              "    <tr>\n",
              "      <th>std</th>\n",
              "      <td>19754.64740</td>\n",
              "      <td>3.152437e+07</td>\n",
              "      <td>15.422874</td>\n",
              "      <td>21.755356</td>\n",
              "      <td>3249.403484</td>\n",
              "      <td>3.921834e+04</td>\n",
              "      <td>1864.128991</td>\n",
              "      <td>163.324159</td>\n",
              "      <td>504.892965</td>\n",
              "      <td>797.411073</td>\n",
              "      <td>...</td>\n",
              "      <td>4.166799</td>\n",
              "      <td>7.979250e+05</td>\n",
              "      <td>2.102737e+05</td>\n",
              "      <td>9.002350e+05</td>\n",
              "      <td>7.842602e+05</td>\n",
              "      <td>2.185303e+07</td>\n",
              "      <td>1.275689e+07</td>\n",
              "      <td>2.692126e+07</td>\n",
              "      <td>1.983109e+07</td>\n",
              "      <td>0.495474</td>\n",
              "    </tr>\n",
              "    <tr>\n",
              "      <th>min</th>\n",
              "      <td>0.00000</td>\n",
              "      <td>-1.000000e+00</td>\n",
              "      <td>1.000000</td>\n",
              "      <td>0.000000</td>\n",
              "      <td>0.000000</td>\n",
              "      <td>0.000000e+00</td>\n",
              "      <td>0.000000</td>\n",
              "      <td>0.000000</td>\n",
              "      <td>0.000000</td>\n",
              "      <td>0.000000</td>\n",
              "      <td>...</td>\n",
              "      <td>0.000000</td>\n",
              "      <td>0.000000e+00</td>\n",
              "      <td>0.000000e+00</td>\n",
              "      <td>0.000000e+00</td>\n",
              "      <td>0.000000e+00</td>\n",
              "      <td>0.000000e+00</td>\n",
              "      <td>0.000000e+00</td>\n",
              "      <td>0.000000e+00</td>\n",
              "      <td>0.000000e+00</td>\n",
              "      <td>0.000000</td>\n",
              "    </tr>\n",
              "    <tr>\n",
              "      <th>25%</th>\n",
              "      <td>80.00000</td>\n",
              "      <td>7.118000e+04</td>\n",
              "      <td>2.000000</td>\n",
              "      <td>1.000000</td>\n",
              "      <td>26.000000</td>\n",
              "      <td>0.000000e+00</td>\n",
              "      <td>6.000000</td>\n",
              "      <td>0.000000</td>\n",
              "      <td>6.000000</td>\n",
              "      <td>0.000000</td>\n",
              "      <td>...</td>\n",
              "      <td>20.000000</td>\n",
              "      <td>0.000000e+00</td>\n",
              "      <td>0.000000e+00</td>\n",
              "      <td>0.000000e+00</td>\n",
              "      <td>0.000000e+00</td>\n",
              "      <td>0.000000e+00</td>\n",
              "      <td>0.000000e+00</td>\n",
              "      <td>0.000000e+00</td>\n",
              "      <td>0.000000e+00</td>\n",
              "      <td>0.000000</td>\n",
              "    </tr>\n",
              "    <tr>\n",
              "      <th>50%</th>\n",
              "      <td>80.00000</td>\n",
              "      <td>1.452333e+06</td>\n",
              "      <td>3.000000</td>\n",
              "      <td>4.000000</td>\n",
              "      <td>30.000000</td>\n",
              "      <td>1.640000e+02</td>\n",
              "      <td>20.000000</td>\n",
              "      <td>0.000000</td>\n",
              "      <td>8.666667</td>\n",
              "      <td>5.301991</td>\n",
              "      <td>...</td>\n",
              "      <td>20.000000</td>\n",
              "      <td>0.000000e+00</td>\n",
              "      <td>0.000000e+00</td>\n",
              "      <td>0.000000e+00</td>\n",
              "      <td>0.000000e+00</td>\n",
              "      <td>0.000000e+00</td>\n",
              "      <td>0.000000e+00</td>\n",
              "      <td>0.000000e+00</td>\n",
              "      <td>0.000000e+00</td>\n",
              "      <td>1.000000</td>\n",
              "    </tr>\n",
              "    <tr>\n",
              "      <th>75%</th>\n",
              "      <td>80.00000</td>\n",
              "      <td>8.805237e+06</td>\n",
              "      <td>5.000000</td>\n",
              "      <td>5.000000</td>\n",
              "      <td>63.000000</td>\n",
              "      <td>1.160100e+04</td>\n",
              "      <td>34.000000</td>\n",
              "      <td>6.000000</td>\n",
              "      <td>32.000000</td>\n",
              "      <td>10.263203</td>\n",
              "      <td>...</td>\n",
              "      <td>20.000000</td>\n",
              "      <td>1.878000e+03</td>\n",
              "      <td>0.000000e+00</td>\n",
              "      <td>1.878000e+03</td>\n",
              "      <td>1.862000e+03</td>\n",
              "      <td>8.239725e+06</td>\n",
              "      <td>0.000000e+00</td>\n",
              "      <td>8.253838e+06</td>\n",
              "      <td>7.422849e+06</td>\n",
              "      <td>1.000000</td>\n",
              "    </tr>\n",
              "    <tr>\n",
              "      <th>max</th>\n",
              "      <td>65532.00000</td>\n",
              "      <td>1.199999e+08</td>\n",
              "      <td>1932.000000</td>\n",
              "      <td>2942.000000</td>\n",
              "      <td>183012.000000</td>\n",
              "      <td>5.172346e+06</td>\n",
              "      <td>11680.000000</td>\n",
              "      <td>1472.000000</td>\n",
              "      <td>3867.000000</td>\n",
              "      <td>6692.644993</td>\n",
              "      <td>...</td>\n",
              "      <td>52.000000</td>\n",
              "      <td>1.000000e+08</td>\n",
              "      <td>3.950000e+07</td>\n",
              "      <td>1.000000e+08</td>\n",
              "      <td>1.000000e+08</td>\n",
              "      <td>1.200000e+08</td>\n",
              "      <td>6.530000e+07</td>\n",
              "      <td>1.200000e+08</td>\n",
              "      <td>1.200000e+08</td>\n",
              "      <td>1.000000</td>\n",
              "    </tr>\n",
              "  </tbody>\n",
              "</table>\n",
              "<p>8 rows × 77 columns</p>\n",
              "</div>\n",
              "      <button class=\"colab-df-convert\" onclick=\"convertToInteractive('df-ef369bec-07c0-4c73-9562-249980240caf')\"\n",
              "              title=\"Convert this dataframe to an interactive table.\"\n",
              "              style=\"display:none;\">\n",
              "        \n",
              "  <svg xmlns=\"http://www.w3.org/2000/svg\" height=\"24px\"viewBox=\"0 0 24 24\"\n",
              "       width=\"24px\">\n",
              "    <path d=\"M0 0h24v24H0V0z\" fill=\"none\"/>\n",
              "    <path d=\"M18.56 5.44l.94 2.06.94-2.06 2.06-.94-2.06-.94-.94-2.06-.94 2.06-2.06.94zm-11 1L8.5 8.5l.94-2.06 2.06-.94-2.06-.94L8.5 2.5l-.94 2.06-2.06.94zm10 10l.94 2.06.94-2.06 2.06-.94-2.06-.94-.94-2.06-.94 2.06-2.06.94z\"/><path d=\"M17.41 7.96l-1.37-1.37c-.4-.4-.92-.59-1.43-.59-.52 0-1.04.2-1.43.59L10.3 9.45l-7.72 7.72c-.78.78-.78 2.05 0 2.83L4 21.41c.39.39.9.59 1.41.59.51 0 1.02-.2 1.41-.59l7.78-7.78 2.81-2.81c.8-.78.8-2.07 0-2.86zM5.41 20L4 18.59l7.72-7.72 1.47 1.35L5.41 20z\"/>\n",
              "  </svg>\n",
              "      </button>\n",
              "      \n",
              "  <style>\n",
              "    .colab-df-container {\n",
              "      display:flex;\n",
              "      flex-wrap:wrap;\n",
              "      gap: 12px;\n",
              "    }\n",
              "\n",
              "    .colab-df-convert {\n",
              "      background-color: #E8F0FE;\n",
              "      border: none;\n",
              "      border-radius: 50%;\n",
              "      cursor: pointer;\n",
              "      display: none;\n",
              "      fill: #1967D2;\n",
              "      height: 32px;\n",
              "      padding: 0 0 0 0;\n",
              "      width: 32px;\n",
              "    }\n",
              "\n",
              "    .colab-df-convert:hover {\n",
              "      background-color: #E2EBFA;\n",
              "      box-shadow: 0px 1px 2px rgba(60, 64, 67, 0.3), 0px 1px 3px 1px rgba(60, 64, 67, 0.15);\n",
              "      fill: #174EA6;\n",
              "    }\n",
              "\n",
              "    [theme=dark] .colab-df-convert {\n",
              "      background-color: #3B4455;\n",
              "      fill: #D2E3FC;\n",
              "    }\n",
              "\n",
              "    [theme=dark] .colab-df-convert:hover {\n",
              "      background-color: #434B5C;\n",
              "      box-shadow: 0px 1px 3px 1px rgba(0, 0, 0, 0.15);\n",
              "      filter: drop-shadow(0px 1px 2px rgba(0, 0, 0, 0.3));\n",
              "      fill: #FFFFFF;\n",
              "    }\n",
              "  </style>\n",
              "\n",
              "      <script>\n",
              "        const buttonEl =\n",
              "          document.querySelector('#df-ef369bec-07c0-4c73-9562-249980240caf button.colab-df-convert');\n",
              "        buttonEl.style.display =\n",
              "          google.colab.kernel.accessAllowed ? 'block' : 'none';\n",
              "\n",
              "        async function convertToInteractive(key) {\n",
              "          const element = document.querySelector('#df-ef369bec-07c0-4c73-9562-249980240caf');\n",
              "          const dataTable =\n",
              "            await google.colab.kernel.invokeFunction('convertToInteractive',\n",
              "                                                     [key], {});\n",
              "          if (!dataTable) return;\n",
              "\n",
              "          const docLinkHtml = 'Like what you see? Visit the ' +\n",
              "            '<a target=\"_blank\" href=https://colab.research.google.com/notebooks/data_table.ipynb>data table notebook</a>'\n",
              "            + ' to learn more about interactive tables.';\n",
              "          element.innerHTML = '';\n",
              "          dataTable['output_type'] = 'display_data';\n",
              "          await google.colab.output.renderOutput(dataTable, element);\n",
              "          const docLink = document.createElement('div');\n",
              "          docLink.innerHTML = docLinkHtml;\n",
              "          element.appendChild(docLink);\n",
              "        }\n",
              "      </script>\n",
              "    </div>\n",
              "  </div>\n",
              "  "
            ],
            "text/plain": [
              "        Destination Port   Flow Duration   Total Fwd Packets  \\\n",
              "count       225745.00000    2.257450e+05       225745.000000   \n",
              "mean          8879.61946    1.624165e+07            4.874916   \n",
              "std          19754.64740    3.152437e+07           15.422874   \n",
              "min              0.00000   -1.000000e+00            1.000000   \n",
              "25%             80.00000    7.118000e+04            2.000000   \n",
              "50%             80.00000    1.452333e+06            3.000000   \n",
              "75%             80.00000    8.805237e+06            5.000000   \n",
              "max          65532.00000    1.199999e+08         1932.000000   \n",
              "\n",
              "        Total Backward Packets  Total Length of Fwd Packets  \\\n",
              "count            225745.000000                225745.000000   \n",
              "mean                  4.572775                   939.463346   \n",
              "std                  21.755356                  3249.403484   \n",
              "min                   0.000000                     0.000000   \n",
              "25%                   1.000000                    26.000000   \n",
              "50%                   4.000000                    30.000000   \n",
              "75%                   5.000000                    63.000000   \n",
              "max                2942.000000                183012.000000   \n",
              "\n",
              "        Total Length of Bwd Packets   Fwd Packet Length Max  \\\n",
              "count                  2.257450e+05           225745.000000   \n",
              "mean                   5.960477e+03              538.535693   \n",
              "std                    3.921834e+04             1864.128991   \n",
              "min                    0.000000e+00                0.000000   \n",
              "25%                    0.000000e+00                6.000000   \n",
              "50%                    1.640000e+02               20.000000   \n",
              "75%                    1.160100e+04               34.000000   \n",
              "max                    5.172346e+06            11680.000000   \n",
              "\n",
              "        Fwd Packet Length Min   Fwd Packet Length Mean  \\\n",
              "count           225745.000000            225745.000000   \n",
              "mean                27.882221               164.826715   \n",
              "std                163.324159               504.892965   \n",
              "min                  0.000000                 0.000000   \n",
              "25%                  0.000000                 6.000000   \n",
              "50%                  0.000000                 8.666667   \n",
              "75%                  6.000000                32.000000   \n",
              "max               1472.000000              3867.000000   \n",
              "\n",
              "        Fwd Packet Length Std  ...   min_seg_size_forward   Active Mean  \\\n",
              "count           225745.000000  ...          225745.000000  2.257450e+05   \n",
              "mean               214.907242  ...              21.482753  1.848261e+05   \n",
              "std                797.411073  ...               4.166799  7.979250e+05   \n",
              "min                  0.000000  ...               0.000000  0.000000e+00   \n",
              "25%                  0.000000  ...              20.000000  0.000000e+00   \n",
              "50%                  5.301991  ...              20.000000  0.000000e+00   \n",
              "75%                 10.263203  ...              20.000000  1.878000e+03   \n",
              "max               6692.644993  ...              52.000000  1.000000e+08   \n",
              "\n",
              "         Active Std    Active Max    Active Min     Idle Mean      Idle Std  \\\n",
              "count  2.257450e+05  2.257450e+05  2.257450e+05  2.257450e+05  2.257450e+05   \n",
              "mean   1.293436e+04  2.080849e+05  1.776201e+05  1.032214e+07  3.611943e+06   \n",
              "std    2.102737e+05  9.002350e+05  7.842602e+05  2.185303e+07  1.275689e+07   \n",
              "min    0.000000e+00  0.000000e+00  0.000000e+00  0.000000e+00  0.000000e+00   \n",
              "25%    0.000000e+00  0.000000e+00  0.000000e+00  0.000000e+00  0.000000e+00   \n",
              "50%    0.000000e+00  0.000000e+00  0.000000e+00  0.000000e+00  0.000000e+00   \n",
              "75%    0.000000e+00  1.878000e+03  1.862000e+03  8.239725e+06  0.000000e+00   \n",
              "max    3.950000e+07  1.000000e+08  1.000000e+08  1.200000e+08  6.530000e+07   \n",
              "\n",
              "           Idle Max      Idle Min          Label  \n",
              "count  2.257450e+05  2.257450e+05  225745.000000  \n",
              "mean   1.287813e+07  7.755355e+06       0.567131  \n",
              "std    2.692126e+07  1.983109e+07       0.495474  \n",
              "min    0.000000e+00  0.000000e+00       0.000000  \n",
              "25%    0.000000e+00  0.000000e+00       0.000000  \n",
              "50%    0.000000e+00  0.000000e+00       1.000000  \n",
              "75%    8.253838e+06  7.422849e+06       1.000000  \n",
              "max    1.200000e+08  1.200000e+08       1.000000  \n",
              "\n",
              "[8 rows x 77 columns]"
            ]
          },
          "execution_count": 13,
          "metadata": {},
          "output_type": "execute_result"
        }
      ],
      "source": [
        "new_df.describe()"
      ]
    },
    {
      "cell_type": "markdown",
      "metadata": {
        "id": "DKXr4ZN-V3cG"
      },
      "source": [
        "### Train Test Split"
      ]
    },
    {
      "cell_type": "code",
      "execution_count": null,
      "metadata": {
        "id": "MJxLWBaQz7Kj"
      },
      "outputs": [],
      "source": [
        "new_df = new_df.sample(frac=0.30,replace=False,axis=0,random_state=1)\n"
      ]
    },
    {
      "cell_type": "code",
      "execution_count": null,
      "metadata": {
        "colab": {
          "base_uri": "https://localhost:8080/"
        },
        "id": "PVuN6NAJ7knQ",
        "outputId": "7eb2d6be-4961-4ddb-8a6d-0321ce1e8689"
      },
      "outputs": [
        {
          "name": "stdout",
          "output_type": "stream",
          "text": [
            "shape of X (67724, 76)\n",
            "shape of Y (67724,)\n"
          ]
        }
      ],
      "source": [
        "X = new_df.iloc[:,:-1].values\n",
        "print(\"shape of X\",X.shape)\n",
        "\n",
        "Y = new_df.iloc[:,-1].values\n",
        "print(\"shape of Y\",Y.shape)"
      ]
    },
    {
      "cell_type": "code",
      "execution_count": null,
      "metadata": {
        "id": "A2y2kx2PRvR9"
      },
      "outputs": [],
      "source": []
    },
    {
      "cell_type": "code",
      "execution_count": null,
      "metadata": {
        "id": "krsbRO0U5NI_"
      },
      "outputs": [],
      "source": [
        "\n",
        "from sklearn.feature_selection import SelectKBest\n",
        "from sklearn.feature_selection import chi2\n",
        "from sklearn.feature_selection import mutual_info_classif"
      ]
    },
    {
      "cell_type": "markdown",
      "metadata": {
        "id": "1xccbu3MoxtX"
      },
      "source": [
        "## Chi Square"
      ]
    },
    {
      "cell_type": "code",
      "execution_count": null,
      "metadata": {
        "colab": {
          "base_uri": "https://localhost:8080/"
        },
        "id": "Y1FUvKtl5N7g",
        "outputId": "f9e8102a-1433-47f5-e6b0-bd3ad8dd4fe7"
      },
      "outputs": [
        {
          "name": "stdout",
          "output_type": "stream",
          "text": [
            "                Selected_columns  Score_chi2\n",
            "4    Total Length of Fwd Packets    0.651409\n",
            "61             Subflow Fwd Bytes    0.650636\n",
            "50           Average Packet Size    0.563860\n",
            "12        Bwd Packet Length Mean    0.543000\n",
            "5    Total Length of Bwd Packets    0.542989\n",
            "63             Subflow Bwd Bytes    0.541899\n",
            "52          Avg Bwd Segment Size    0.541669\n",
            "53           Fwd Header Length.1    0.538506\n",
            "32             Fwd Header Length    0.537402\n",
            "0               Destination Port    0.535125\n",
            "10         Bwd Packet Length Max    0.524945\n",
            "64        Init_Win_bytes_forward    0.491388\n",
            "8         Fwd Packet Length Mean    0.489345\n",
            "51          Avg Fwd Segment Size    0.489239\n",
            "6          Fwd Packet Length Max    0.487570\n",
            "33             Bwd Header Length    0.471243\n",
            "21                   Fwd IAT Max    0.447332\n",
            "18                 Fwd IAT Total    0.444790\n",
            "19                  Fwd IAT Mean    0.435053\n",
            "60           Subflow Fwd Packets    0.406392\n",
            "2              Total Fwd Packets    0.404333\n",
            "20                   Fwd IAT Std    0.402272\n",
            "65       Init_Win_bytes_backward    0.399788\n",
            "38            Packet Length Mean    0.397672\n",
            "66              act_data_pkt_fwd    0.396320\n",
            "39             Packet Length Std    0.369129\n",
            "40        Packet Length Variance    0.368211\n",
            "26                   Bwd IAT Max    0.354449\n",
            "23                 Bwd IAT Total    0.349741\n",
            "9          Fwd Packet Length Std    0.348487\n",
            "13         Bwd Packet Length Std    0.347470\n",
            "35                 Bwd Packets/s    0.334521\n",
            "3         Total Backward Packets    0.326628\n",
            "24                  Bwd IAT Mean    0.325178\n",
            "62           Subflow Bwd Packets    0.324337\n",
            "37             Max Packet Length    0.303834\n",
            "34                 Fwd Packets/s    0.302851\n",
            "11         Bwd Packet Length Min    0.273603\n",
            "1                  Flow Duration    0.252148\n",
            "15                  Flow IAT Std    0.242118\n",
            "25                   Bwd IAT Std    0.233792\n",
            "16                  Flow IAT Max    0.230235\n",
            "14                 Flow IAT Mean    0.219246\n",
            "27                   Bwd IAT Min    0.180592\n",
            "71                    Active Min    0.172847\n",
            "68                   Active Mean    0.170295\n",
            "70                    Active Max    0.163623\n",
            "7          Fwd Packet Length Min    0.159474\n",
            "22                   Fwd IAT Min    0.156164\n",
            "36             Min Packet Length    0.140001\n"
          ]
        }
      ],
      "source": [
        "feature_list = new_df.columns.values\n",
        "bestfeatures = SelectKBest(score_func = mutual_info_classif, k=50)\n",
        "fit = bestfeatures.fit(X,Y)\n",
        "\n",
        "dfscores = pd.DataFrame(fit.scores_)\n",
        "\n",
        "dfcolumns = pd.DataFrame(feature_list)\n",
        "\n",
        "\n",
        "featureScores = pd.concat([dfcolumns,dfscores],axis=1)\n",
        "\n",
        "\n",
        "featureScores.columns = ['Selected_columns','Score_chi2']\n",
        "print(featureScores.nlargest(50,'Score_chi2'))"
      ]
    },
    {
      "cell_type": "code",
      "execution_count": null,
      "metadata": {
        "colab": {
          "base_uri": "https://localhost:8080/"
        },
        "id": "3UCQ0RBF5ULH",
        "outputId": "ae5393ef-9e2d-4668-b0c0-da8721c8b603"
      },
      "outputs": [
        {
          "name": "stdout",
          "output_type": "stream",
          "text": [
            "                Selected_columns  Score_chi2\n",
            "4    Total Length of Fwd Packets    0.651409\n",
            "61             Subflow Fwd Bytes    0.650636\n",
            "50           Average Packet Size    0.563860\n",
            "12        Bwd Packet Length Mean    0.543000\n",
            "5    Total Length of Bwd Packets    0.542989\n",
            "63             Subflow Bwd Bytes    0.541899\n",
            "52          Avg Bwd Segment Size    0.541669\n",
            "53           Fwd Header Length.1    0.538506\n",
            "32             Fwd Header Length    0.537402\n",
            "0               Destination Port    0.535125\n",
            "10         Bwd Packet Length Max    0.524945\n",
            "64        Init_Win_bytes_forward    0.491388\n",
            "8         Fwd Packet Length Mean    0.489345\n",
            "51          Avg Fwd Segment Size    0.489239\n",
            "6          Fwd Packet Length Max    0.487570\n",
            "33             Bwd Header Length    0.471243\n",
            "21                   Fwd IAT Max    0.447332\n",
            "18                 Fwd IAT Total    0.444790\n",
            "19                  Fwd IAT Mean    0.435053\n",
            "60           Subflow Fwd Packets    0.406392\n",
            "2              Total Fwd Packets    0.404333\n",
            "20                   Fwd IAT Std    0.402272\n",
            "65       Init_Win_bytes_backward    0.399788\n",
            "38            Packet Length Mean    0.397672\n",
            "66              act_data_pkt_fwd    0.396320\n",
            "39             Packet Length Std    0.369129\n",
            "40        Packet Length Variance    0.368211\n",
            "26                   Bwd IAT Max    0.354449\n",
            "23                 Bwd IAT Total    0.349741\n",
            "9          Fwd Packet Length Std    0.348487\n",
            "13         Bwd Packet Length Std    0.347470\n",
            "35                 Bwd Packets/s    0.334521\n",
            "3         Total Backward Packets    0.326628\n",
            "24                  Bwd IAT Mean    0.325178\n",
            "62           Subflow Bwd Packets    0.324337\n",
            "37             Max Packet Length    0.303834\n",
            "34                 Fwd Packets/s    0.302851\n",
            "11         Bwd Packet Length Min    0.273603\n",
            "1                  Flow Duration    0.252148\n",
            "15                  Flow IAT Std    0.242118\n",
            "25                   Bwd IAT Std    0.233792\n",
            "16                  Flow IAT Max    0.230235\n",
            "14                 Flow IAT Mean    0.219246\n",
            "27                   Bwd IAT Min    0.180592\n",
            "71                    Active Min    0.172847\n",
            "68                   Active Mean    0.170295\n",
            "70                    Active Max    0.163623\n",
            "7          Fwd Packet Length Min    0.159474\n",
            "22                   Fwd IAT Min    0.156164\n",
            "36             Min Packet Length    0.140001\n",
            "43\n"
          ]
        }
      ],
      "source": [
        "# print(featureScores.nlargest(50,'Score_chi2').Selected_columns.values)\n",
        "featureScore_after_filter = featureScores.nlargest(50,'Score_chi2')\n",
        "print(featureScore_after_filter)\n",
        "count = 0\n",
        "ind = []\n",
        "for i in featureScore_after_filter.Score_chi2:\n",
        "    if i < 0.2:\n",
        "        ind.append(featureScore_after_filter.index[count])\n",
        "    count = count + 1\n",
        "featureScore_after_filter = featureScore_after_filter.drop(ind,axis = 0)  # contains all the filtered features\n",
        "X = pd.DataFrame(X)\n",
        "X = X.loc[:,featureScore_after_filter.index] # contains data after filter from feature selection\n",
        "print(len(X.columns))\n"
      ]
    },
    {
      "cell_type": "code",
      "execution_count": null,
      "metadata": {
        "colab": {
          "base_uri": "https://localhost:8080/"
        },
        "id": "n7RPQCjwVi5D",
        "outputId": "f0b8a728-a13d-4cbd-d842-c0347b4654c0"
      },
      "outputs": [
        {
          "name": "stdout",
          "output_type": "stream",
          "text": [
            "43\n"
          ]
        }
      ],
      "source": [
        "print(len(X.columns))"
      ]
    },
    {
      "cell_type": "code",
      "execution_count": null,
      "metadata": {
        "colab": {
          "base_uri": "https://localhost:8080/"
        },
        "id": "I_uH6sgmYzIm",
        "outputId": "6ef6e20f-6a34-4483-f44b-3c1897291ce4"
      },
      "outputs": [
        {
          "name": "stdout",
          "output_type": "stream",
          "text": [
            "X_train : (45375, 43)\n",
            "X_test : (22349, 43)\n",
            "Y_train : (45375,)\n",
            "Y_test : (22349,)\n"
          ]
        }
      ],
      "source": [
        "from sklearn.model_selection import train_test_split\n",
        "\n",
        "# new_df = new_df.reset_index()\n",
        "\n",
        "# X_train_full, X_test, y_train_full, y_test = train_test_split(X, Y, test_size=1, random_state=42,shuffle = True)\n",
        "\n",
        "\n",
        "X_train, X_test, y_train, y_test = train_test_split(X, Y, test_size=0.33, random_state=42,shuffle =True)\n",
        "\n",
        "X_train, X_val, y_train, y_val = train_test_split(X, Y, test_size=0.33, random_state=1, shuffle = True)\n",
        "\n",
        "\n",
        "\n",
        "print(f\"X_train : {X_train.shape}\\nX_test : {X_test.shape}\\nY_train : {y_train.shape}\\nY_test : {y_test.shape}\")"
      ]
    },
    {
      "cell_type": "markdown",
      "metadata": {
        "id": "TjmNIGToVxmG"
      },
      "source": [
        "## Standardization"
      ]
    },
    {
      "cell_type": "code",
      "execution_count": null,
      "metadata": {
        "id": "eRl72hlzVxVZ"
      },
      "outputs": [],
      "source": [
        "from sklearn.preprocessing import StandardScaler"
      ]
    },
    {
      "cell_type": "code",
      "execution_count": null,
      "metadata": {
        "colab": {
          "base_uri": "https://localhost:8080/"
        },
        "id": "dyEhC1YRV7pY",
        "outputId": "61374115-7ca7-4639-fa3d-038dcce55375"
      },
      "outputs": [
        {
          "name": "stdout",
          "output_type": "stream",
          "text": [
            "(45375, 43)\n",
            "(22349, 43)\n",
            "(22349, 43)\n"
          ]
        }
      ],
      "source": [
        "ss_50=StandardScaler()\n",
        "X_train_std = ss_50.fit_transform(X_train)\n",
        "X_test_std = ss_50.fit_transform(X_test)\n",
        "X_val_std = ss_50.fit_transform(X_val)\n",
        "print(X_train_std.shape)\n",
        "print(X_test_std.shape)\n",
        "print(X_val_std.shape)"
      ]
    },
    {
      "cell_type": "markdown",
      "metadata": {
        "id": "DbxAXr-MZh7X"
      },
      "source": [
        "## Machine Learning Algorithms"
      ]
    },
    {
      "cell_type": "code",
      "execution_count": null,
      "metadata": {
        "id": "-OxqKY9Iaie5"
      },
      "outputs": [],
      "source": [
        "from sklearn import metrics\n",
        "from sklearn.metrics import f1_score\n",
        "from sklearn.metrics import confusion_matrix, ConfusionMatrixDisplay\n"
      ]
    },
    {
      "cell_type": "code",
      "execution_count": null,
      "metadata": {
        "id": "z7hhGtgG3gxG"
      },
      "outputs": [],
      "source": [
        "target_names = ['BENIGN','DDoS']"
      ]
    },
    {
      "cell_type": "markdown",
      "metadata": {
        "id": "0scQWMsiZlWr"
      },
      "source": [
        "### Naive Bayes Algorithm"
      ]
    },
    {
      "cell_type": "code",
      "execution_count": null,
      "metadata": {
        "colab": {
          "base_uri": "https://localhost:8080/"
        },
        "id": "f6eT5eXWZhSS",
        "outputId": "3b436508-0986-41c9-889f-f8cf34ef9338"
      },
      "outputs": [
        {
          "name": "stdout",
          "output_type": "stream",
          "text": [
            "Accuracy => 80.88952525840082%\n"
          ]
        }
      ],
      "source": [
        "from sklearn.naive_bayes import GaussianNB\n",
        "from sklearn import metrics\n",
        "\n",
        "gnb = GaussianNB()\n",
        "gnb.fit(X_train, y_train)\n",
        "Y_predict = gnb.predict(X_test)\n",
        "print(f\"Accuracy => {metrics.accuracy_score(y_test, Y_predict)*100}%\")\n"
      ]
    },
    {
      "cell_type": "code",
      "execution_count": null,
      "metadata": {
        "colab": {
          "base_uri": "https://localhost:8080/",
          "height": 449
        },
        "id": "RaqDQ3qfD_IQ",
        "outputId": "b6e867ad-22f0-45e4-bc4e-a11a4da2a9ed"
      },
      "outputs": [
        {
          "data": {
            "image/png": "[encoded data removed]",
            "text/plain": [
              "<Figure size 640x480 with 2 Axes>"
            ]
          },
          "metadata": {},
          "output_type": "display_data"
        }
      ],
      "source": [
        "metrics_gnb = metrics.accuracy_score(y_test, Y_predict)\n",
        "\n",
        "cm = confusion_matrix(y_test, Y_predict, labels=gnb.classes_)\n",
        "disp = ConfusionMatrixDisplay(confusion_matrix=cm,\n",
        "                              display_labels=gnb.classes_)\n",
        "disp.plot()\n",
        "plt.show()"
      ]
    },
    {
      "cell_type": "code",
      "execution_count": null,
      "metadata": {
        "colab": {
          "base_uri": "https://localhost:8080/"
        },
        "id": "LxHWPwXOA4Pd",
        "outputId": "3a0d56b4-05fa-4f96-8ebf-40493ac7b51f"
      },
      "outputs": [
        {
          "name": "stdout",
          "output_type": "stream",
          "text": [
            "F1 Score =  0.7868049427262878\n",
            "Recall = 0.8088952525840082\n",
            "Accuracy =  80.88952525840082\n",
            "rep  0.8732038341544672\n",
            "Confusion Matrix =\n",
            " [[ 5442  4264]\n",
            " [    7 12636]]\n"
          ]
        }
      ],
      "source": [
        "print(\"F1 Score = \",f1_score(y_test, Y_predict, average='macro'))\n",
        "print(\"Recall =\", metrics.recall_score(y_test, Y_predict, labels=None,\n",
        "                                             pos_label=1, average='weighted',\n",
        "                                             sample_weight=None))\n",
        "print('Accuracy = ', metrics.accuracy_score(y_test, Y_predict)*100)\n",
        "print(\"rep \",metrics.precision_score(y_test, Y_predict, average='macro'))\n",
        "print(\"Confusion Matrix =\\n\", metrics.confusion_matrix(y_test, Y_predict, labels=None,\n",
        "                                              sample_weight=None))"
      ]
    },
    {
      "cell_type": "markdown",
      "metadata": {
        "id": "2CtCbWB7df78"
      },
      "source": [
        "### Random Forest Algorithm"
      ]
    },
    {
      "cell_type": "code",
      "execution_count": null,
      "metadata": {
        "colab": {
          "base_uri": "https://localhost:8080/"
        },
        "id": "IgILP6nmbaBf",
        "outputId": "c88109c7-bca1-4dc7-8338-dbf13c7a5e9a"
      },
      "outputs": [
        {
          "name": "stdout",
          "output_type": "stream",
          "text": [
            "Accuracy => 99.84786791355317%\n"
          ]
        }
      ],
      "source": [
        "from sklearn.naive_bayes import GaussianNB\n",
        "from sklearn import metrics\n",
        "from sklearn.ensemble import RandomForestClassifier\n",
        "\n",
        "rfc = RandomForestClassifier (max_depth=3,random_state=42)\n",
        "rfc.fit(X_train_std, y_train)\n",
        "y_pred_rfc = rfc.predict(X_test_std)\n",
        "\n",
        "print(f\"Accuracy => {metrics.accuracy_score(y_test, y_pred_rfc)*100}%\")"
      ]
    },
    {
      "cell_type": "code",
      "execution_count": null,
      "metadata": {
        "colab": {
          "base_uri": "https://localhost:8080/"
        },
        "id": "cUv17m8NEEyv",
        "outputId": "8c14ab39-132c-4e6d-abf9-254b5ef49c08"
      },
      "outputs": [
        {
          "name": "stdout",
          "output_type": "stream",
          "text": [
            "0.9984786791355318\n"
          ]
        }
      ],
      "source": [
        "metrics_rfc = metrics.accuracy_score(y_test, y_pred_rfc)\n",
        "print(metrics_rfc)"
      ]
    },
    {
      "cell_type": "code",
      "execution_count": null,
      "metadata": {
        "colab": {
          "base_uri": "https://localhost:8080/",
          "height": 449
        },
        "id": "dnYa_qMMRPgZ",
        "outputId": "d4a554bc-5abb-496f-b2bb-a877cd831505"
      },
      "outputs": [
        {
          "data": {
            "image/png": "[encoded data removed]",
            "text/plain": [
              "<Figure size 640x480 with 2 Axes>"
            ]
          },
          "metadata": {},
          "output_type": "display_data"
        }
      ],
      "source": [
        "\n",
        "\n",
        "cm = confusion_matrix(y_test, y_pred_rfc, labels=rfc.classes_)\n",
        "disp = ConfusionMatrixDisplay(confusion_matrix=cm,\n",
        "                              display_labels=rfc.classes_)\n",
        "disp.plot()\n",
        "plt.show()"
      ]
    },
    {
      "cell_type": "code",
      "execution_count": null,
      "metadata": {
        "colab": {
          "base_uri": "https://localhost:8080/"
        },
        "id": "SGOew26TBcEp",
        "outputId": "1b44509b-77b7-4dae-c8a2-9aa430d31075"
      },
      "outputs": [
        {
          "name": "stdout",
          "output_type": "stream",
          "text": [
            "F1 Score =  0.9984522766178171\n",
            "Recall = 0.9984786791355318\n",
            "Accuracy =  99.84786791355317\n",
            "rep  0.9983462699211098\n",
            "Confusion Matrix =\n",
            " [[ 9698     8]\n",
            " [   26 12617]]\n"
          ]
        }
      ],
      "source": [
        "print(\"F1 Score = \",f1_score(y_test, y_pred_rfc, average='macro'))\n",
        "print(\"Recall =\", metrics.recall_score(y_test, y_pred_rfc, labels=None,\n",
        "                                             pos_label=1, average='weighted',\n",
        "                                             sample_weight=None))\n",
        "print('Accuracy = ', metrics.accuracy_score(y_test, y_pred_rfc)*100)\n",
        "print(\"rep \",metrics.precision_score(y_test, y_pred_rfc, average='macro'))\n",
        "print(\"Confusion Matrix =\\n\", metrics.confusion_matrix(y_test, y_pred_rfc, labels=None,\n",
        "                                              sample_weight=None))"
      ]
    },
    {
      "cell_type": "markdown",
      "metadata": {
        "id": "ArnbpoFPiQ1V"
      },
      "source": [
        "### K Nearest Neighbours\n"
      ]
    },
    {
      "cell_type": "code",
      "execution_count": null,
      "metadata": {
        "id": "tYAHEXuWiUx6"
      },
      "outputs": [],
      "source": [
        "import math\n",
        "from sklearn.neighbors import KNeighborsClassifier\n",
        "\n",
        "k = round(math.sqrt(X_train.shape[0]))\n",
        "\n",
        "knn = KNeighborsClassifier(n_neighbors=10)\n",
        "knn.fit(X_train, y_train)\n",
        "y_pred_knn = knn.predict(X_test)\n",
        "\n"
      ]
    },
    {
      "cell_type": "code",
      "execution_count": null,
      "metadata": {
        "colab": {
          "base_uri": "https://localhost:8080/"
        },
        "id": "0vqQ2K00EHU_",
        "outputId": "c599f59a-94af-469e-819a-194567e1eb90"
      },
      "outputs": [
        {
          "name": "stdout",
          "output_type": "stream",
          "text": [
            "0.9950780795561323\n"
          ]
        }
      ],
      "source": [
        "metrics_knn = metrics.accuracy_score(y_test, y_pred_knn)\n",
        "print(metrics_knn)"
      ]
    },
    {
      "cell_type": "code",
      "execution_count": null,
      "metadata": {
        "colab": {
          "base_uri": "https://localhost:8080/",
          "height": 449
        },
        "id": "Jc7qB0JCRuBp",
        "outputId": "402ed134-0947-42c3-a05c-9889a937a36a"
      },
      "outputs": [
        {
          "data": {
            "image/png": "[encoded data removed]",
            "text/plain": [
              "<Figure size 640x480 with 2 Axes>"
            ]
          },
          "metadata": {},
          "output_type": "display_data"
        }
      ],
      "source": [
        "cm_knn = confusion_matrix(y_test, y_pred_knn, labels=knn.classes_)\n",
        "disp_knn = ConfusionMatrixDisplay(confusion_matrix=cm_knn,\n",
        "                              display_labels=knn.classes_)\n",
        "disp_knn.plot()\n",
        "plt.show()"
      ]
    },
    {
      "cell_type": "code",
      "execution_count": null,
      "metadata": {
        "colab": {
          "base_uri": "https://localhost:8080/"
        },
        "id": "jacwow_8CPFa",
        "outputId": "37bea687-6118-4998-b240-1ff8ee2a0db2"
      },
      "outputs": [
        {
          "name": "stdout",
          "output_type": "stream",
          "text": [
            "F1 Score =  0.9949889260195814\n",
            "Recall = 0.9950780795561323\n",
            "Accuracy =  99.50780795561323\n",
            "rep  0.9952576766823954\n",
            "Confusion Matrix =\n",
            " [[ 9629    77]\n",
            " [   33 12610]]\n"
          ]
        }
      ],
      "source": [
        "print(\"F1 Score = \",f1_score(y_test, y_pred_knn, average='macro'))\n",
        "print(\"Recall =\", metrics.recall_score(y_test, y_pred_knn, labels=None,\n",
        "                                             pos_label=1, average='weighted',\n",
        "                                             sample_weight=None))\n",
        "print('Accuracy = ', metrics.accuracy_score(y_test, y_pred_knn)*100)\n",
        "print(\"rep \",metrics.precision_score(y_test, y_pred_knn, average='macro'))\n",
        "print(\"Confusion Matrix =\\n\", metrics.confusion_matrix(y_test, y_pred_knn, labels=None,\n",
        "                                              sample_weight=None))"
      ]
    },
    {
      "cell_type": "markdown",
      "metadata": {
        "id": "r313Oll2FKZu"
      },
      "source": [
        "## **XGBoost**"
      ]
    },
    {
      "cell_type": "code",
      "execution_count": null,
      "metadata": {
        "id": "hH8sYvIp5vSy"
      },
      "outputs": [],
      "source": [
        "import xgboost as xgb"
      ]
    },
    {
      "cell_type": "code",
      "execution_count": null,
      "metadata": {
        "id": "L74dNw21PtRI"
      },
      "outputs": [],
      "source": [
        "xgb_model = xgb.XGBClassifier(objective=\"binary:logistic\", random_state=42)\n",
        "xgb_model.fit(X_train_std, y_train)\n",
        "\n",
        "y_pred_xgb = xgb_model.predict(X_test_std)"
      ]
    },
    {
      "cell_type": "code",
      "execution_count": null,
      "metadata": {
        "id": "5ipvOMHePufk"
      },
      "outputs": [],
      "source": [
        "score_xg = metrics.accuracy_score(y_test,y_pred_xgb)\n",
        "print(score_xg*100)"
      ]
    },
    {
      "cell_type": "code",
      "execution_count": null,
      "metadata": {
        "id": "zTcdeMMyB6QQ"
      },
      "outputs": [],
      "source": [
        "print(\"F1 Score = \",f1_score(y_test,y_pred_xgb, average='macro'))\n",
        "print(\"Recall =\", metrics.recall_score(y_test,y_pred_xgb, labels=None,\n",
        "                                             pos_label=1, average='weighted',\n",
        "                                             sample_weight=None))\n",
        "print('Accuracy = ', metrics.accuracy_score(y_test,y_pred_xgb)*100)\n",
        "print(\"rep \",metrics.precision_score(y_test,y_pred_xgb, average='macro'))\n",
        "print(\"Confusion Matrix =\\n\", metrics.confusion_matrix(y_test,y_pred_xgb, labels=None,\n",
        "                                              sample_weight=None))"
      ]
    },
    {
      "cell_type": "code",
      "execution_count": null,
      "metadata": {
        "id": "Fe6J3-Ag3xFX"
      },
      "outputs": [],
      "source": [
        "print(\"Classification Report =\\n\", metrics.classification_report(y_test, y_pred_xgb, target_names = target_names))"
      ]
    },
    {
      "cell_type": "code",
      "execution_count": null,
      "metadata": {
        "id": "gurjbn_hT0xp"
      },
      "outputs": [],
      "source": [
        "cm_xgb = confusion_matrix(y_test, y_pred_xgb, labels=xgb_model.classes_)\n",
        "disp_xgb = ConfusionMatrixDisplay(confusion_matrix=cm_xgb,\n",
        "                              display_labels=xgb_model.classes_)\n",
        "disp_xgb.plot()\n",
        "plt.show()"
      ]
    },
    {
      "cell_type": "code",
      "execution_count": null,
      "metadata": {
        "id": "BHbGoKxriaMf"
      },
      "outputs": [],
      "source": []
    },
    {
      "cell_type": "markdown",
      "metadata": {
        "id": "yDQisW4xycCs"
      },
      "source": [
        "# BLENDING"
      ]
    },
    {
      "cell_type": "code",
      "execution_count": null,
      "metadata": {
        "id": "a9JfTYHSyhex"
      },
      "outputs": [],
      "source": [
        "from sklearn.linear_model import LogisticRegression\n",
        "\n",
        "def get_models():\n",
        " models = list()\n",
        " models.append(knn)\n",
        " models.append(gnb)\n",
        " models.append(rfc)\n",
        "\n",
        " return models"
      ]
    },
    {
      "cell_type": "code",
      "execution_count": null,
      "metadata": {
        "id": "Rfw0cCqT2G_2"
      },
      "outputs": [],
      "source": [
        "# fit the blending ensemble\n",
        "def fit_ensemble(models, X_train, X_val, y_train, y_val):\n",
        "\tmeta_X = list()\n",
        "\tfor model in models:\n",
        "\t\tmodel.fit(X_train_std, y_train)\n",
        "\t\tyhat = model.predict(X_val_std)\n",
        "\t\tyhat = yhat.reshape(len(yhat), 1)\n",
        "\t\tmeta_X.append(yhat)\n",
        "\tmeta_X = np.hstack(meta_X)\n",
        "\n",
        "\t# define blending model\n",
        "\tblender = LogisticRegression()\n",
        "\tblender.fit(meta_X, y_val)\n",
        "\treturn blender"
      ]
    },
    {
      "cell_type": "code",
      "execution_count": null,
      "metadata": {
        "id": "dN1eBK5z2IIN"
      },
      "outputs": [],
      "source": [
        "# make a prediction with the blending ensemble\n",
        "def predict_ensemble(models, blender, X_test):\n",
        "\tmeta_X = list()\n",
        "\tfor model in models:\n",
        "\t\tyhat = model.predict(X_test_std)\n",
        "\t\tyhat = yhat.reshape(len(yhat), 1)\n",
        "\t\tmeta_X.append(yhat)\n",
        "\n",
        "\tmeta_X = np.hstack(meta_X)\n",
        "\treturn blender.predict(meta_X)"
      ]
    },
    {
      "cell_type": "code",
      "execution_count": null,
      "metadata": {
        "id": "U6tL15gb6s_q"
      },
      "outputs": [],
      "source": [
        "from sklearn.metrics import accuracy_score\n",
        "\n",
        "\n",
        "models = get_models()\n",
        "print(models)\n",
        "\n",
        "blender = fit_ensemble(models, X_train_std, X_val_std, y_train, y_val)\n",
        "\n",
        "yhat = predict_ensemble(models, blender, X_test_std)\n",
        "score = accuracy_score(y_test, yhat)\n",
        "\n",
        "print('Blending Accuracy: %.3f' % (score*100))"
      ]
    },
    {
      "cell_type": "code",
      "execution_count": null,
      "metadata": {
        "id": "Z9ZuZRXFD21A"
      },
      "outputs": [],
      "source": [
        "score_en = metrics.accuracy_score(y_test, yhat)\n",
        "\n",
        "cm_blend = confusion_matrix(y_test, yhat, labels=blender.classes_)\n",
        "print(cm_blend)\n",
        "disp_blend = ConfusionMatrixDisplay(confusion_matrix=cm_blend,\n",
        "                              display_labels=blender.classes_)\n",
        "disp_blend.plot()\n",
        "plt.show()"
      ]
    },
    {
      "cell_type": "code",
      "execution_count": null,
      "metadata": {
        "id": "BOLv7l852BWa"
      },
      "outputs": [],
      "source": [
        "# print(\"Classification Report =\\n\", metrics.classification_report(y_test, yhat, target_names = target_names))\n",
        "print('LSTm')\n",
        "\n",
        "\n",
        "\n",
        "print(\"Classification Report =\\n\", metrics.classification_report(y_test, yhat,\n",
        "                                                                 labels=None,\n",
        "                                                                 target_names=None,\n",
        "                                                                 sample_weight=None,\n",
        "                                                                  digits=2,\n",
        "                                                                 output_dict=False))\n",
        "print(\"F1 Score = \",f1_score(y_test, yhat, average='macro'))\n",
        "print(\"Recall =\", metrics.recall_score(y_test, yhat, labels=None,\n",
        "                                             pos_label=1, average='weighted',\n",
        "                                             sample_weight=None))\n",
        "print(\"Recall =\", metrics.recall_score(y_test, yhat, labels=None,\n",
        "                                             pos_label=1, average='weighted',\n",
        "                                             sample_weight=None))\n",
        "print(\"precision = \",metrics.precision_score(y_test, yhat, average='macro'))\n",
        "print('Accuracy = ', metrics.accuracy_score(y_test, yhat)*100)\n",
        "print(\"Confusion Matrix =\\n\", metrics.confusion_matrix(y_test,  yhat, labels=None,\n",
        "                                              sample_weight=None))\n",
        ""
      ]
    },
    {
      "cell_type": "markdown",
      "metadata": {
        "id": "e6qSdzb5UoCE"
      },
      "source": [
        "## MLP"
      ]
    },
    {
      "cell_type": "code",
      "execution_count": null,
      "metadata": {
        "id": "hK8Jj-Y9UnYo"
      },
      "outputs": [],
      "source": [
        "import tensorflow as tf\n",
        "from tensorflow import keras\n",
        "from keras.preprocessing import sequence\n",
        "from keras.utils import np_utils\n",
        "from keras.models import Sequential\n",
        "from keras.layers import Dense,Dropout,Activation,Embedding\n",
        "from keras.utils.np_utils import to_categorical\n",
        "from sklearn.preprocessing import Normalizer\n",
        "from keras import callbacks\n",
        "from keras.callbacks import ModelCheckpoint, EarlyStopping, ReduceLROnPlateau, CSVLogger\n"
      ]
    },
    {
      "cell_type": "code",
      "execution_count": null,
      "metadata": {
        "id": "Lfc0QQm5UxrK"
      },
      "outputs": [],
      "source": [
        "y_train_MLP = np.array(y_train)\n",
        "y_test_MLP = np.array(y_test)\n",
        "\n",
        "y_train_MLP_onehot = to_categorical(y_train_MLP)\n",
        "y_test_MLP_onehot = to_categorical(y_test_MLP)\n",
        "\n",
        "X_train_MLP = np.array(X_train_std)\n",
        "X_test_MLP = np.array(X_test_std)\n",
        ""
      ]
    },
    {
      "cell_type": "code",
      "execution_count": null,
      "metadata": {
        "id": "xGioYCuygAXY"
      },
      "outputs": [],
      "source": [
        "print(y_train_MLP.shape,\n",
        "X_train_MLP.shape,\n",
        "y_train_MLP_onehot.shape)\n",
        "print(y_train_MLP_onehot)"
      ]
    },
    {
      "cell_type": "code",
      "execution_count": null,
      "metadata": {
        "id": "3zPt5RvBjxyi"
      },
      "outputs": [],
      "source": [
        "model = Sequential()\n",
        "model.add(Dense(8,input_dim=43,activation='relu'))\n",
        "model.add(Dropout(0.01))\n",
        "model.add(Dense(8,activation='relu'))\n",
        "model.add(Dropout(0.01))\n",
        "model.add(Dense(2))\n",
        "model.add(Activation('softmax'))\n",
        "monitor = EarlyStopping(monitor='val_loss', min_delta=1e-3, patience=5, verbose=1, mode='auto',\n",
        "      restore_best_weights=True)"
      ]
    },
    {
      "cell_type": "markdown",
      "metadata": {
        "id": "Yd9U2PmqU0WT"
      },
      "source": [
        "\n",
        ""
      ]
    },
    {
      "cell_type": "code",
      "execution_count": null,
      "metadata": {
        "id": "M-AiU40blykm"
      },
      "outputs": [],
      "source": [
        "def reinitialize(model):\n",
        "    for l in model.layers:\n",
        "        if hasattr(l,\"kernel_initializer\"):\n",
        "            l.kernel.assign(l.kernel_initializer(tf.shape(l.kernel)))\n",
        "        if hasattr(l,\"bias_initializer\"):\n",
        "            l.bias.assign(l.bias_initializer(tf.shape(l.bias)))\n",
        "        if hasattr(l,\"recurrent_initializer\"):\n",
        "            l.recurrent_kernel.assign(l.recurrent_initializer(tf.shape(l.recurrent_kernel)))"
      ]
    },
    {
      "cell_type": "code",
      "execution_count": null,
      "metadata": {
        "id": "JZaNWvIifKEu"
      },
      "outputs": [],
      "source": [
        "reinitialize(model)"
      ]
    },
    {
      "cell_type": "code",
      "execution_count": null,
      "metadata": {
        "colab": {
          "background_save": true
        },
        "id": "gpLrOMVCjQGo",
        "outputId": "b528b63e-3f2f-4a4b-a5de-3223f5ab3c0d"
      },
      "outputs": [
        {
          "name": "stdout",
          "output_type": "stream",
          "text": [
            "Epoch 1/40\n",
            "46/46 [==============================] - 6s 9ms/step - loss: 0.5276 - accuracy: 0.7793 - val_loss: 0.4017 - val_accuracy: 0.9768\n",
            "Epoch 2/40\n",
            "46/46 [==============================] - 0s 5ms/step - loss: 0.3206 - accuracy: 0.9500 - val_loss: 0.2399 - val_accuracy: 0.9619\n",
            "Epoch 3/40\n",
            "46/46 [==============================] - 0s 5ms/step - loss: 0.2050 - accuracy: 0.9727 - val_loss: 0.1639 - val_accuracy: 0.9871\n",
            "Epoch 4/40\n",
            "46/46 [==============================] - 0s 5ms/step - loss: 0.1449 - accuracy: 0.9856 - val_loss: 0.1165 - val_accuracy: 0.9906\n",
            "Epoch 5/40\n",
            "46/46 [==============================] - 0s 5ms/step - loss: 0.1034 - accuracy: 0.9880 - val_loss: 0.0830 - val_accuracy: 0.9896\n",
            "Epoch 6/40\n",
            "46/46 [==============================] - 0s 5ms/step - loss: 0.0773 - accuracy: 0.9882 - val_loss: 0.0635 - val_accuracy: 0.9905\n",
            "Epoch 7/40\n",
            "46/46 [==============================] - 0s 5ms/step - loss: 0.0635 - accuracy: 0.9883 - val_loss: 0.0526 - val_accuracy: 0.9911\n",
            "Epoch 8/40\n",
            "46/46 [==============================] - 0s 5ms/step - loss: 0.0546 - accuracy: 0.9887 - val_loss: 0.0458 - val_accuracy: 0.9918\n",
            "Epoch 9/40\n",
            "46/46 [==============================] - 0s 5ms/step - loss: 0.0487 - accuracy: 0.9894 - val_loss: 0.0414 - val_accuracy: 0.9918\n",
            "Epoch 10/40\n",
            "46/46 [==============================] - 0s 5ms/step - loss: 0.0440 - accuracy: 0.9900 - val_loss: 0.0374 - val_accuracy: 0.9923\n",
            "Epoch 11/40\n",
            "46/46 [==============================] - 0s 8ms/step - loss: 0.0412 - accuracy: 0.9897 - val_loss: 0.0340 - val_accuracy: 0.9927\n",
            "Epoch 12/40\n",
            "46/46 [==============================] - 0s 7ms/step - loss: 0.0373 - accuracy: 0.9902 - val_loss: 0.0306 - val_accuracy: 0.9928\n",
            "Epoch 13/40\n",
            "46/46 [==============================] - 0s 7ms/step - loss: 0.0343 - accuracy: 0.9911 - val_loss: 0.0272 - val_accuracy: 0.9939\n",
            "Epoch 14/40\n",
            "46/46 [==============================] - 0s 7ms/step - loss: 0.0310 - accuracy: 0.9923 - val_loss: 0.0243 - val_accuracy: 0.9941\n",
            "Epoch 15/40\n",
            "46/46 [==============================] - 0s 7ms/step - loss: 0.0280 - accuracy: 0.9929 - val_loss: 0.0215 - val_accuracy: 0.9945\n",
            "Epoch 16/40\n",
            "46/46 [==============================] - 0s 8ms/step - loss: 0.0258 - accuracy: 0.9934 - val_loss: 0.0195 - val_accuracy: 0.9943\n",
            "Epoch 17/40\n",
            "46/46 [==============================] - 0s 9ms/step - loss: 0.0234 - accuracy: 0.9937 - val_loss: 0.0188 - val_accuracy: 0.9945\n",
            "Epoch 18/40\n",
            "46/46 [==============================] - 0s 9ms/step - loss: 0.0223 - accuracy: 0.9943 - val_loss: 0.0170 - val_accuracy: 0.9951\n",
            "Epoch 19/40\n",
            "46/46 [==============================] - 0s 8ms/step - loss: 0.0206 - accuracy: 0.9944 - val_loss: 0.0162 - val_accuracy: 0.9949\n",
            "Epoch 20/40\n",
            "46/46 [==============================] - 0s 5ms/step - loss: 0.0195 - accuracy: 0.9945 - val_loss: 0.0152 - val_accuracy: 0.9949\n",
            "Epoch 21/40\n",
            "46/46 [==============================] - 0s 5ms/step - loss: 0.0199 - accuracy: 0.9951 - val_loss: 0.0140 - val_accuracy: 0.9953\n",
            "Epoch 22/40\n",
            "46/46 [==============================] - 0s 5ms/step - loss: 0.0180 - accuracy: 0.9951 - val_loss: 0.0133 - val_accuracy: 0.9952\n",
            "Epoch 23/40\n",
            "46/46 [==============================] - 0s 5ms/step - loss: 0.0171 - accuracy: 0.9955 - val_loss: 0.0129 - val_accuracy: 0.9952\n",
            "Epoch 24/40\n",
            "46/46 [==============================] - 0s 5ms/step - loss: 0.0161 - accuracy: 0.9961 - val_loss: 0.0125 - val_accuracy: 0.9951\n",
            "Epoch 25/40\n",
            "46/46 [==============================] - 0s 5ms/step - loss: 0.0164 - accuracy: 0.9963 - val_loss: 0.0115 - val_accuracy: 0.9961\n",
            "Epoch 26/40\n",
            "46/46 [==============================] - 0s 5ms/step - loss: 0.0149 - accuracy: 0.9969 - val_loss: 0.0110 - val_accuracy: 0.9960\n",
            "Epoch 27/40\n",
            "46/46 [==============================] - 0s 5ms/step - loss: 0.0152 - accuracy: 0.9966 - val_loss: 0.0102 - val_accuracy: 0.9971\n",
            "Epoch 28/40\n",
            "46/46 [==============================] - 0s 5ms/step - loss: 0.0151 - accuracy: 0.9967 - val_loss: 0.0099 - val_accuracy: 0.9969\n",
            "Epoch 29/40\n",
            "46/46 [==============================] - 0s 5ms/step - loss: 0.0146 - accuracy: 0.9971 - val_loss: 0.0101 - val_accuracy: 0.9961\n",
            "Epoch 30/40\n",
            "46/46 [==============================] - 0s 5ms/step - loss: 0.0132 - accuracy: 0.9971 - val_loss: 0.0094 - val_accuracy: 0.9967\n",
            "Epoch 31/40\n",
            "46/46 [==============================] - 0s 5ms/step - loss: 0.0127 - accuracy: 0.9974 - val_loss: 0.0089 - val_accuracy: 0.9972\n",
            "Epoch 32/40\n",
            "46/46 [==============================] - 0s 5ms/step - loss: 0.0132 - accuracy: 0.9975 - val_loss: 0.0085 - val_accuracy: 0.9975\n",
            "Epoch 33/40\n",
            "46/46 [==============================] - 0s 5ms/step - loss: 0.0130 - accuracy: 0.9974 - val_loss: 0.0088 - val_accuracy: 0.9970\n",
            "Epoch 34/40\n",
            "46/46 [==============================] - 0s 5ms/step - loss: 0.0121 - accuracy: 0.9976 - val_loss: 0.0088 - val_accuracy: 0.9966\n",
            "Epoch 35/40\n",
            "46/46 [==============================] - 0s 5ms/step - loss: 0.0118 - accuracy: 0.9974 - val_loss: 0.0084 - val_accuracy: 0.9973\n",
            "Epoch 36/40\n",
            "46/46 [==============================] - 0s 5ms/step - loss: 0.0117 - accuracy: 0.9980 - val_loss: 0.0075 - val_accuracy: 0.9984\n",
            "Epoch 37/40\n",
            "46/46 [==============================] - 0s 5ms/step - loss: 0.0106 - accuracy: 0.9977 - val_loss: 0.0076 - val_accuracy: 0.9976\n",
            "Epoch 38/40\n",
            "46/46 [==============================] - 0s 5ms/step - loss: 0.0110 - accuracy: 0.9981 - val_loss: 0.0073 - val_accuracy: 0.9982\n",
            "Epoch 39/40\n",
            "46/46 [==============================] - 0s 5ms/step - loss: 0.0102 - accuracy: 0.9980 - val_loss: 0.0073 - val_accuracy: 0.9977\n",
            "Epoch 40/40\n",
            "46/46 [==============================] - 0s 5ms/step - loss: 0.0107 - accuracy: 0.9979 - val_loss: 0.0070 - val_accuracy: 0.9979\n"
          ]
        }
      ],
      "source": [
        "batch_size = 1000\n",
        "model.compile(loss='categorical_crossentropy',optimizer='adam',metrics=['accuracy'])\n",
        "history = model.fit(X_train_MLP, y_train_MLP_onehot, validation_data=(X_test_MLP, y_test_MLP_onehot),batch_size=batch_size, epochs=40,callbacks=[monitor])"
      ]
    },
    {
      "cell_type": "code",
      "execution_count": null,
      "metadata": {
        "colab": {
          "background_save": true
        },
        "id": "ycBd6jUOAUcj",
        "outputId": "90ad92f5-e0c5-49c8-8ae1-f367663b7a5f"
      },
      "outputs": [
        {
          "name": "stdout",
          "output_type": "stream",
          "text": [
            "Model: \"sequential\"\n",
            "_________________________________________________________________\n",
            " Layer (type)                Output Shape              Param #   \n",
            "=================================================================\n",
            " dense (Dense)               (None, 8)                 352       \n",
            "                                                                 \n",
            " dropout (Dropout)           (None, 8)                 0         \n",
            "                                                                 \n",
            " dense_1 (Dense)             (None, 8)                 72        \n",
            "                                                                 \n",
            " dropout_1 (Dropout)         (None, 8)                 0         \n",
            "                                                                 \n",
            " dense_2 (Dense)             (None, 2)                 18        \n",
            "                                                                 \n",
            " activation (Activation)     (None, 2)                 0         \n",
            "                                                                 \n",
            "=================================================================\n",
            "Total params: 442\n",
            "Trainable params: 442\n",
            "Non-trainable params: 0\n",
            "_________________________________________________________________\n"
          ]
        }
      ],
      "source": [
        "model.summary()"
      ]
    },
    {
      "cell_type": "code",
      "execution_count": null,
      "metadata": {
        "colab": {
          "background_save": true
        },
        "id": "CPpnA2CJDJhZ",
        "outputId": "4ffd22f4-7a7c-446c-87b9-af31067e4c03"
      },
      "outputs": [
        {
          "data": {
            "image/png": "[encoded data removed]",
            "text/plain": [
              "<IPython.core.display.Image object>"
            ]
          },
          "execution_count": 56,
          "metadata": {},
          "output_type": "execute_result"
        }
      ],
      "source": [
        "from keras.utils.vis_utils import plot_model\n",
        "plot_model(model, to_file='model_plot.png', show_shapes=True, show_layer_names=True)"
      ]
    },
    {
      "cell_type": "code",
      "execution_count": null,
      "metadata": {
        "colab": {
          "background_save": true
        },
        "id": "9ERCqKPfpr4D"
      },
      "outputs": [],
      "source": [
        "import matplotlib\n",
        "from matplotlib import pyplot"
      ]
    },
    {
      "cell_type": "code",
      "execution_count": null,
      "metadata": {
        "colab": {
          "background_save": true
        },
        "id": "PPJzg3hMjUI7",
        "outputId": "28352c35-406d-4a2a-e5de-8b2fdfe3705f"
      },
      "outputs": [
        {
          "data": {
            "image/png": "[encoded data removed]",
            "text/plain": [
              "<Figure size 640x480 with 1 Axes>"
            ]
          },
          "metadata": {},
          "output_type": "display_data"
        }
      ],
      "source": [
        "pyplot.plot(history.history['loss'], label='train')\n",
        "pyplot.plot(history.history['val_loss'], label='test')\n",
        "pyplot.xlabel('Epochs')\n",
        "pyplot.ylabel('Loss')\n",
        "pyplot.legend()\n",
        "pyplot.show()"
      ]
    },
    {
      "cell_type": "code",
      "execution_count": null,
      "metadata": {
        "colab": {
          "background_save": true
        },
        "id": "g_wMGjQ0pp1a",
        "outputId": "a829da86-f0b6-4102-bebc-a79c6fc67855"
      },
      "outputs": [
        {
          "data": {
            "image/png": "[encoded data removed]",
            "text/plain": [
              "<Figure size 640x480 with 1 Axes>"
            ]
          },
          "metadata": {},
          "output_type": "display_data"
        }
      ],
      "source": [
        "\n",
        "pyplot.plot(history.history['accuracy'], label='train')\n",
        "pyplot.plot(history.history['val_accuracy'], label='test')\n",
        "pyplot.xlabel('Epochs')\n",
        "pyplot.ylabel('Accuracy')\n",
        "pyplot.legend()\n",
        "pyplot.show()"
      ]
    },
    {
      "cell_type": "code",
      "execution_count": null,
      "metadata": {
        "colab": {
          "background_save": true
        },
        "id": "e8hrwiXvTqAx"
      },
      "outputs": [],
      "source": [
        "y_pred_MLP = np.argmax(model(X_test_MLP),axis =-1)"
      ]
    },
    {
      "cell_type": "code",
      "execution_count": null,
      "metadata": {
        "colab": {
          "background_save": true
        },
        "id": "en-Mr_ckUa3w",
        "outputId": "fc1eff6b-cea0-4574-e146-7065dec83bd2"
      },
      "outputs": [
        {
          "name": "stdout",
          "output_type": "stream",
          "text": [
            "99.78969976285292\n"
          ]
        }
      ],
      "source": [
        "acc_score_MLP =metrics.accuracy_score(y_test_MLP,y_pred_MLP)\n",
        "print(acc_score_MLP*100)"
      ]
    },
    {
      "cell_type": "markdown",
      "metadata": {
        "id": "eW-CZlCvLvUn"
      },
      "source": [
        "model.fit(X_train_MLP, y_train_MLP, epochs=10, batch_size = 5000,\n",
        "          validation_split=0.2)"
      ]
    },
    {
      "cell_type": "code",
      "execution_count": null,
      "metadata": {
        "colab": {
          "background_save": true
        },
        "id": "dT_ldZu2U7cw",
        "outputId": "0e86890b-4cdc-460a-e7d8-e5a8a99cd36b"
      },
      "outputs": [
        {
          "name": "stdout",
          "output_type": "stream",
          "text": [
            "MLP\n",
            "Classification Report =\n",
            "               precision    recall  f1-score   support\n",
            "\n",
            "           0       1.00      1.00      1.00      9706\n",
            "           1       1.00      1.00      1.00     12643\n",
            "\n",
            "    accuracy                           1.00     22349\n",
            "   macro avg       1.00      1.00      1.00     22349\n",
            "weighted avg       1.00      1.00      1.00     22349\n",
            "\n",
            "F1 Score =  0.9978594491116057\n",
            "Recall = 0.9978969976285292\n",
            "Accuracy =  99.78969976285292\n",
            "Confusion Matrix =\n",
            " [[ 9671    35]\n",
            " [   12 12631]]\n",
            "Precision  0.9979987056613975\n"
          ]
        }
      ],
      "source": [
        "from sklearn import metrics\n",
        "from sklearn.metrics import f1_score,confusion_matrix\n",
        "\n",
        "print('MLP')\n",
        "\n",
        "\n",
        "\n",
        "print(\"Classification Report =\\n\", metrics.classification_report(y_test, y_pred_MLP,\n",
        "                                                                 labels=None,\n",
        "                                                                 target_names=None,\n",
        "                                                                 sample_weight=None,\n",
        "                                                                  digits=2,\n",
        "                                                                 output_dict=False))\n",
        "print(\"F1 Score = \",f1_score(y_test, y_pred_MLP, average='macro'))\n",
        "print(\"Recall =\", metrics.recall_score(y_test, y_pred_MLP, labels=None,\n",
        "                                             pos_label=1, average='weighted',\n",
        "                                             sample_weight=None))\n",
        "print('Accuracy = ', metrics.accuracy_score(y_test, y_pred_MLP)*100)\n",
        "print(\"Confusion Matrix =\\n\", metrics.confusion_matrix(y_test,  y_pred_MLP, labels=None,\n",
        "                                              sample_weight=None))\n",
        "print(\"Precision \",metrics.precision_score(y_test, y_pred_MLP, average='macro'))\n",
        "\n",
        "# cm_MLP = confusion_matrix(y_test, y_pred_MLP, labels=k.classes_)\n",
        "# disp_MLP = ConfusionMatrixDisplay(confusion_matrix=cm_MLP,\n",
        "#                               display_labels=knn.classes_)\n",
        "# disp_MLP.plot()\n",
        "# plt.show()\n",
        "\n"
      ]
    },
    {
      "cell_type": "markdown",
      "metadata": {
        "id": "O32msipwZXt_"
      },
      "source": [
        "#DEEP LEARNING"
      ]
    },
    {
      "cell_type": "markdown",
      "metadata": {
        "id": "cFnvk2zX-XzA"
      },
      "source": [
        "# LSTM"
      ]
    },
    {
      "cell_type": "code",
      "execution_count": null,
      "metadata": {
        "colab": {
          "background_save": true
        },
        "id": "uF1hl5hEZnyK"
      },
      "outputs": [],
      "source": [
        "from tensorflow.keras import layers\n",
        "from tensorflow.keras.layers import LSTM"
      ]
    },
    {
      "cell_type": "code",
      "execution_count": null,
      "metadata": {
        "colab": {
          "background_save": true
        },
        "id": "P38mQfLUc2CD"
      },
      "outputs": [],
      "source": [
        "X_train_lstm = np.array(X_train_std)\n",
        "X_test_lstm=np.array(X_test_std)\n",
        "\n",
        "y_train_lstm = np.array(y_train)\n",
        "y_test_lstm = np.array(y_test)\n",
        "\n",
        "y_train_onehot_lstm = to_categorical(y_train_lstm)\n",
        "y_test_onehot_lstm= to_categorical(y_test_lstm)\n",
        "\n",
        "X_train_lstm_reshape = np.reshape(X_train_std,(X_train_lstm.shape[0],1,X_train_lstm.shape[1]))\n",
        "X_test_lstm_reshape = np.reshape(X_test_std,(X_test_lstm.shape[0],1,X_test_lstm.shape[1]))\n",
        "\n",
        "\n"
      ]
    },
    {
      "cell_type": "code",
      "execution_count": null,
      "metadata": {
        "colab": {
          "background_save": true
        },
        "id": "u942jrgvZoIq"
      },
      "outputs": [],
      "source": [
        "model_lstm = Sequential()\n",
        "model_lstm.add(LSTM(64,input_dim=43,return_sequences=True))\n",
        "model_lstm.add(Dropout(0.1))\n",
        "model_lstm.add(LSTM(32,return_sequences=False))\n",
        "model_lstm.add(Dropout(0.1))\n",
        "\n",
        "model_lstm.add(Dense(2))\n",
        "model_lstm.add(Activation('softmax'))\n",
        "\n",
        "monitor = EarlyStopping(monitor =\"val_loss\",min_delta =1e-3,patience=5,verbose=1,mode=\"auto\",restore_best_weights=True)"
      ]
    },
    {
      "cell_type": "code",
      "execution_count": null,
      "metadata": {
        "colab": {
          "background_save": true
        },
        "id": "5mAvNezxBdWB"
      },
      "outputs": [],
      "source": []
    },
    {
      "cell_type": "code",
      "execution_count": null,
      "metadata": {
        "colab": {
          "background_save": true
        },
        "id": "8xrWaZ8WZxQU",
        "outputId": "434734cf-24c8-4e6f-9d32-9313810ac40e"
      },
      "outputs": [
        {
          "name": "stdout",
          "output_type": "stream",
          "text": [
            "Model: \"sequential_1\"\n",
            "_________________________________________________________________\n",
            " Layer (type)                Output Shape              Param #   \n",
            "=================================================================\n",
            " lstm (LSTM)                 (None, None, 64)          27648     \n",
            "                                                                 \n",
            " dropout_2 (Dropout)         (None, None, 64)          0         \n",
            "                                                                 \n",
            " lstm_1 (LSTM)               (None, 32)                12416     \n",
            "                                                                 \n",
            " dropout_3 (Dropout)         (None, 32)                0         \n",
            "                                                                 \n",
            " dense_3 (Dense)             (None, 2)                 66        \n",
            "                                                                 \n",
            " activation_1 (Activation)   (None, 2)                 0         \n",
            "                                                                 \n",
            "=================================================================\n",
            "Total params: 40,130\n",
            "Trainable params: 40,130\n",
            "Non-trainable params: 0\n",
            "_________________________________________________________________\n"
          ]
        }
      ],
      "source": [
        "model_lstm.summary()"
      ]
    },
    {
      "cell_type": "code",
      "execution_count": null,
      "metadata": {
        "colab": {
          "background_save": true
        },
        "id": "eRE0LF7DZxfq"
      },
      "outputs": [],
      "source": [
        "model_lstm.reset_states()"
      ]
    },
    {
      "cell_type": "code",
      "execution_count": null,
      "metadata": {
        "colab": {
          "background_save": true
        },
        "id": "TISVuL1nZxtA"
      },
      "outputs": [],
      "source": [
        "model_lstm.compile(optimizer='adam',\n",
        "              loss='categorical_crossentropy',\n",
        "              metrics=['accuracy'])\n"
      ]
    },
    {
      "cell_type": "code",
      "execution_count": null,
      "metadata": {
        "colab": {
          "background_save": true
        },
        "id": "5EhK8CDAidBU",
        "outputId": "e114ace7-607b-479e-d0d3-f9004256a396"
      },
      "outputs": [
        {
          "name": "stdout",
          "output_type": "stream",
          "text": [
            "Epoch 1/30\n",
            "46/46 [==============================] - 6s 24ms/step - loss: 0.5308 - accuracy: 0.8072 - val_loss: 0.3498 - val_accuracy: 0.8623\n",
            "Epoch 2/30\n",
            "46/46 [==============================] - 0s 10ms/step - loss: 0.2215 - accuracy: 0.9495 - val_loss: 0.1019 - val_accuracy: 0.9860\n",
            "Epoch 3/30\n",
            "46/46 [==============================] - 0s 8ms/step - loss: 0.0647 - accuracy: 0.9878 - val_loss: 0.0421 - val_accuracy: 0.9870\n",
            "Epoch 4/30\n",
            "46/46 [==============================] - 0s 8ms/step - loss: 0.0336 - accuracy: 0.9919 - val_loss: 0.0247 - val_accuracy: 0.9927\n",
            "Epoch 5/30\n",
            "46/46 [==============================] - 0s 9ms/step - loss: 0.0214 - accuracy: 0.9954 - val_loss: 0.0167 - val_accuracy: 0.9953\n",
            "Epoch 6/30\n",
            "46/46 [==============================] - 0s 8ms/step - loss: 0.0159 - accuracy: 0.9970 - val_loss: 0.0121 - val_accuracy: 0.9971\n",
            "Epoch 7/30\n",
            "46/46 [==============================] - 0s 8ms/step - loss: 0.0130 - accuracy: 0.9976 - val_loss: 0.0099 - val_accuracy: 0.9979\n",
            "Epoch 8/30\n",
            "46/46 [==============================] - 0s 9ms/step - loss: 0.0107 - accuracy: 0.9978 - val_loss: 0.0089 - val_accuracy: 0.9976\n",
            "Epoch 9/30\n",
            "46/46 [==============================] - 0s 8ms/step - loss: 0.0095 - accuracy: 0.9979 - val_loss: 0.0082 - val_accuracy: 0.9977\n",
            "Epoch 10/30\n",
            "46/46 [==============================] - 0s 7ms/step - loss: 0.0090 - accuracy: 0.9979 - val_loss: 0.0074 - val_accuracy: 0.9979\n",
            "Epoch 11/30\n",
            "46/46 [==============================] - 0s 7ms/step - loss: 0.0080 - accuracy: 0.9983 - val_loss: 0.0067 - val_accuracy: 0.9982\n",
            "Epoch 12/30\n",
            "46/46 [==============================] - 0s 9ms/step - loss: 0.0076 - accuracy: 0.9985 - val_loss: 0.0062 - val_accuracy: 0.9982\n",
            "Epoch 13/30\n",
            "46/46 [==============================] - 0s 7ms/step - loss: 0.0073 - accuracy: 0.9984 - val_loss: 0.0061 - val_accuracy: 0.9982\n",
            "Epoch 14/30\n",
            "46/46 [==============================] - 0s 9ms/step - loss: 0.0069 - accuracy: 0.9984 - val_loss: 0.0056 - val_accuracy: 0.9984\n",
            "Epoch 15/30\n",
            "46/46 [==============================] - 0s 9ms/step - loss: 0.0067 - accuracy: 0.9985 - val_loss: 0.0054 - val_accuracy: 0.9986\n",
            "Epoch 16/30\n",
            "46/46 [==============================] - 0s 11ms/step - loss: 0.0068 - accuracy: 0.9985 - val_loss: 0.0054 - val_accuracy: 0.9984\n",
            "Epoch 17/30\n",
            "46/46 [==============================] - 0s 10ms/step - loss: 0.0063 - accuracy: 0.9986 - val_loss: 0.0051 - val_accuracy: 0.9987\n",
            "Epoch 18/30\n",
            "46/46 [==============================] - 0s 10ms/step - loss: 0.0062 - accuracy: 0.9986 - val_loss: 0.0051 - val_accuracy: 0.9983\n",
            "Epoch 19/30\n",
            "45/46 [============================>.] - ETA: 0s - loss: 0.0062 - accuracy: 0.9986Restoring model weights from the end of the best epoch: 14.\n",
            "46/46 [==============================] - 0s 11ms/step - loss: 0.0061 - accuracy: 0.9986 - val_loss: 0.0048 - val_accuracy: 0.9987\n",
            "Epoch 19: early stopping\n"
          ]
        }
      ],
      "source": [
        "history1 = model_lstm.fit(X_train_lstm_reshape,y_train_onehot_lstm, validation_data=(X_test_lstm_reshape,y_test_onehot_lstm),batch_size=1000 ,epochs=30,callbacks=[monitor])"
      ]
    },
    {
      "cell_type": "markdown",
      "metadata": {
        "id": "gMWgkAKsDJwS"
      },
      "source": []
    },
    {
      "cell_type": "markdown",
      "metadata": {
        "id": "A9FetYNAZyGE"
      },
      "source": []
    },
    {
      "cell_type": "code",
      "execution_count": null,
      "metadata": {
        "colab": {
          "background_save": true
        },
        "id": "NEyb_iWyImvP"
      },
      "outputs": [],
      "source": [
        "#  history = model_lstm.fit(X_train_lstm_reshape,y_train_lstm, validation_data=(X_test_lstm_reshape,y_test_lstm),batch_size=5000 ,epochs=25)"
      ]
    },
    {
      "cell_type": "code",
      "execution_count": null,
      "metadata": {
        "colab": {
          "background_save": true
        },
        "id": "1ajYHUoURRqM"
      },
      "outputs": [],
      "source": [
        "# history = model_lstm.fit(X_train_lstm_reshape,y_train_lstm, validation_data=(X_test_lstm_reshape,y_test_lstm),batch_size=5000 ,epochs=20)"
      ]
    },
    {
      "cell_type": "code",
      "execution_count": null,
      "metadata": {
        "colab": {
          "background_save": true
        },
        "id": "JV6Xmn0KZygF"
      },
      "outputs": [],
      "source": [
        "\n",
        "y_pred_lstm = np.argmax(model_lstm(X_test_lstm_reshape),axis =-1)"
      ]
    },
    {
      "cell_type": "code",
      "execution_count": null,
      "metadata": {
        "colab": {
          "background_save": true
        },
        "id": "l9c_a1tDOGm1",
        "outputId": "b07330f0-4412-415b-9f32-91e5de5e0349"
      },
      "outputs": [
        {
          "name": "stdout",
          "output_type": "stream",
          "text": [
            "99.84339344042239\n"
          ]
        }
      ],
      "source": [
        "lstm_acc =accuracy_score(y_test_lstm,y_pred_lstm)\n",
        "print(lstm_acc*100)"
      ]
    },
    {
      "cell_type": "code",
      "execution_count": null,
      "metadata": {
        "colab": {
          "background_save": true
        },
        "id": "MyKPH7HYyyWu",
        "outputId": "3735e16e-c14e-4bc9-e33c-661b84206318"
      },
      "outputs": [
        {
          "name": "stdout",
          "output_type": "stream",
          "text": [
            "LSTm\n",
            "Classification Report =\n",
            "               precision    recall  f1-score   support\n",
            "\n",
            "           0       1.00      1.00      1.00      9706\n",
            "           1       1.00      1.00      1.00     12643\n",
            "\n",
            "    accuracy                           1.00     22349\n",
            "   macro avg       1.00      1.00      1.00     22349\n",
            "weighted avg       1.00      1.00      1.00     22349\n",
            "\n",
            "F1 Score =  0.9984066225542612\n",
            "Recall = 0.9984339344042239\n",
            "Accuracy =  99.84339344042239\n",
            "precision  0.9983415229852188\n",
            "Confusion Matrix =\n",
            " [[ 9694    12]\n",
            " [   23 12620]]\n"
          ]
        }
      ],
      "source": [
        "print('LSTm')\n",
        "\n",
        "\n",
        "\n",
        "print(\"Classification Report =\\n\", metrics.classification_report(y_test_lstm, y_pred_lstm,\n",
        "                                                                 labels=None,\n",
        "                                                                 target_names=None,\n",
        "                                                                 sample_weight=None,\n",
        "                                                                  digits=2,\n",
        "                                                                 output_dict=False))\n",
        "print(\"F1 Score = \",f1_score(y_test_lstm, y_pred_lstm, average='macro'))\n",
        "print(\"Recall =\", metrics.recall_score(y_test_lstm, y_pred_lstm, labels=None,\n",
        "                                             pos_label=1, average='weighted',\n",
        "                                             sample_weight=None))\n",
        "print('Accuracy = ', metrics.accuracy_score(y_test_lstm, y_pred_lstm)*100)\n",
        "print(\"precision \",metrics.precision_score(y_test_lstm, y_pred_lstm, average='macro'))\n",
        "print(\"Confusion Matrix =\\n\", metrics.confusion_matrix(y_test_lstm,  y_pred_lstm, labels=None,\n",
        "                                              sample_weight=None))"
      ]
    },
    {
      "cell_type": "code",
      "execution_count": null,
      "metadata": {
        "colab": {
          "background_save": true
        },
        "id": "1jSEiQrd_pH_",
        "outputId": "30c4553a-bd8d-4587-b9f9-f9ef56f98922"
      },
      "outputs": [
        {
          "name": "stdout",
          "output_type": "stream",
          "text": [
            "dict_keys(['loss', 'accuracy', 'val_loss', 'val_accuracy'])\n"
          ]
        }
      ],
      "source": [
        "\n",
        "history_lstm = history.history.keys()\n",
        "print(history.history.keys())\n"
      ]
    },
    {
      "cell_type": "code",
      "execution_count": null,
      "metadata": {
        "colab": {
          "background_save": true
        },
        "id": "73v4RchyFD8_"
      },
      "outputs": [],
      "source": [
        "\n",
        "# lstm_acc = metrics.accuracy_score(y_test, Y_predict)"
      ]
    },
    {
      "cell_type": "code",
      "execution_count": null,
      "metadata": {
        "colab": {
          "background_save": true
        },
        "id": "otPFNaJ3AXhg"
      },
      "outputs": [],
      "source": [
        "# plt.plot(history.history['accuracy'])\n",
        "# # plt.plot(history.history['val_accuracy'])\n",
        "# plt.title('model accuracy')\n",
        "# plt.ylabel('accuracy')\n",
        "# plt.xlabel('epoch')\n",
        "# plt.legend(['train', 'test'], loc='upper left')\n",
        "# plt.show()"
      ]
    },
    {
      "cell_type": "code",
      "execution_count": null,
      "metadata": {
        "colab": {
          "background_save": true
        },
        "id": "d_xEpB-EH7Pq",
        "outputId": "e2a93ee8-fb9e-413f-9337-d3c047dd26b4"
      },
      "outputs": [
        {
          "data": {
            "image/png": "[encoded data removed]",
            "text/plain": [
              "<Figure size 640x480 with 1 Axes>"
            ]
          },
          "metadata": {},
          "output_type": "display_data"
        }
      ],
      "source": [
        "pyplot.plot(history1.history['loss'], label='train')\n",
        "pyplot.plot(history1.history['val_loss'], label='test')\n",
        "pyplot.xlabel('Epochs')\n",
        "pyplot.ylabel('Loss')\n",
        "pyplot.legend()\n",
        "pyplot.show()"
      ]
    },
    {
      "cell_type": "code",
      "execution_count": null,
      "metadata": {
        "colab": {
          "background_save": true
        },
        "id": "O3odTE4pICjA",
        "outputId": "dae3dffa-256d-4081-b315-d4fabe4e9031"
      },
      "outputs": [
        {
          "data": {
            "image/png": "[encoded data removed]",
            "text/plain": [
              "<Figure size 640x480 with 1 Axes>"
            ]
          },
          "metadata": {},
          "output_type": "display_data"
        }
      ],
      "source": [
        "\n",
        "pyplot.plot(history1.history['accuracy'], label='train')\n",
        "pyplot.plot(history1.history['val_accuracy'], label='test')\n",
        "pyplot.xlabel('Epochs')\n",
        "pyplot.ylabel('Accuracy')\n",
        "pyplot.legend()\n",
        "pyplot.show()"
      ]
    },
    {
      "cell_type": "code",
      "execution_count": null,
      "metadata": {
        "colab": {
          "background_save": true
        },
        "id": "toVc55Q7JGDp",
        "outputId": "0309e8de-e3d9-4ccb-b048-12f8d36d86e9"
      },
      "outputs": [
        {
          "data": {
            "image/png": "[encoded data removed]",
            "text/plain": [
              "<IPython.core.display.Image object>"
            ]
          },
          "execution_count": 80,
          "metadata": {},
          "output_type": "execute_result"
        }
      ],
      "source": [
        "plot_model(model_lstm, to_file='modellstm_plot.png', show_shapes=True, show_layer_names=True)"
      ]
    },
    {
      "cell_type": "markdown",
      "metadata": {
        "id": "rJMR05GJFpLZ"
      },
      "source": [
        "# Results"
      ]
    },
    {
      "cell_type": "code",
      "execution_count": null,
      "metadata": {
        "colab": {
          "background_save": true
        },
        "id": "e0KGdLtAB4TI",
        "outputId": "e1e6a2bc-63eb-470a-ac75-72592070f027"
      },
      "outputs": [
        {
          "data": {
            "image/png": "[encoded data removed]",
            "text/plain": [
              "<Figure size 1200x600 with 1 Axes>"
            ]
          },
          "metadata": {},
          "output_type": "display_data"
        }
      ],
      "source": [
        "plt.figure(figsize=[12, 6])\n",
        "plt.gca().set_ylim(0.985, 1)\n",
        "\n",
        "# Get the data for the plot.\n",
        "comparison_frame = pd.DataFrame(\n",
        "    {'Naive-Bayes': metrics_gnb, 'Random Forest': metrics_rfc, 'KNN':metrics_knn, 'ENSEMBLE':score_en, 'LSTM':lstm_acc ,'MLP':acc_score_MLP,'XGBoost':score_xg},\n",
        "    index=['Accuracy', 'Precision', 'Recall', 'F1'])\n",
        "\n",
        "# Set the width of the bars.\n",
        "wd = 0.3\n",
        "x_pos = np.arange(1, 2*len(comparison_frame), 2)\n",
        "\n",
        "# Plotting the multiple bar graphs on the same figure.\n",
        "plt.bar(x_pos+wd, comparison_frame['Naive-Bayes'], color='rosybrown', width=wd, edgecolor='k',\n",
        "        label='Naive-Bayes')\n",
        "plt.bar(x_pos+wd+wd, comparison_frame['Random Forest'], color='darkseagreen', width=wd, edgecolor='k',\n",
        "        label='Random Forest')\n",
        "plt.bar(x_pos+wd+wd+wd, comparison_frame['KNN'], color='cadetblue', width=wd, edgecolor='k',\n",
        "        label='KNN')\n",
        "plt.bar(x_pos+wd+wd+wd+wd, comparison_frame['ENSEMBLE'], color='tan', width=wd, edgecolor='k',\n",
        "        label='ENSEMBLE')\n",
        "plt.bar(x_pos+wd+wd+wd+wd+wd, comparison_frame['XGBoost'], color='lightsalmon', width=wd, edgecolor='k',\n",
        "        label='XGBoost')\n",
        "plt.bar(x_pos+wd+wd+wd+wd+wd+wd, comparison_frame['LSTM'], color='lightslategrey', width=wd, edgecolor='k',\n",
        "        label='LSTM')\n",
        "plt.bar(x_pos+wd+wd+wd+wd+wd+wd+wd, comparison_frame['MLP'], color='palevioletred', width=wd, edgecolor='k',\n",
        "        label='MLP')\n",
        "\n",
        "\n",
        "\n",
        "\n",
        "# Add ticks, a title, and a legend.\n",
        "plt.xticks(x_pos+wd+wd+wd+wd, comparison_frame.index.values, fontsize=10)\n",
        "plt.yticks(fontsize=10)\n",
        "plt.xlabel('Metric', fontsize=15)\n",
        "plt.ylabel('Value', fontsize=15)\n",
        "plt.title(\n",
        "    \"Performance comparison of Naive-Bayes, Random Forest, KNN\", fontsize=15)\n",
        "# ax.legend(loc='center left', bbox_to_anchor=(1, 0.5))\n",
        "plt.legend(loc='center left', fontsize=6,bbox_to_anchor=(1, 0.5))\n",
        "\n",
        "plt.show()"
      ]
    },
    {
      "cell_type": "code",
      "execution_count": null,
      "metadata": {
        "colab": {
          "background_save": true
        },
        "id": "5qWJdf_otQk0"
      },
      "outputs": [],
      "source": []
    }
  ],
  "metadata": {
    "accelerator": "GPU",
    "colab": {
      "provenance": []
    },
    "gpuClass": "standard",
    "kernelspec": {
      "display_name": "Python 3",
      "name": "python3"
    },
    "language_info": {
      "name": "python"
    }
  },
  "nbformat": 4,
  "nbformat_minor": 0
}